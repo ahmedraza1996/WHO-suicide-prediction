{
 "cells": [
  {
   "cell_type": "code",
   "execution_count": 1,
   "metadata": {},
   "outputs": [],
   "source": [
    "import pandas as pd\n",
    "import numpy as np\n",
    "import matplotlib.pyplot as plt\n",
    "import seaborn as sns\n",
    "from sklearn.model_selection import train_test_split\n"
   ]
  },
  {
   "cell_type": "markdown",
   "metadata": {},
   "source": [
    "# STEP 1: IMPORTING AND EXPLAINING THE DATASET"
   ]
  },
  {
   "cell_type": "code",
   "execution_count": 2,
   "metadata": {},
   "outputs": [
    {
     "data": {
      "text/html": [
       "<div>\n",
       "<style scoped>\n",
       "    .dataframe tbody tr th:only-of-type {\n",
       "        vertical-align: middle;\n",
       "    }\n",
       "\n",
       "    .dataframe tbody tr th {\n",
       "        vertical-align: top;\n",
       "    }\n",
       "\n",
       "    .dataframe thead th {\n",
       "        text-align: right;\n",
       "    }\n",
       "</style>\n",
       "<table border=\"1\" class=\"dataframe\">\n",
       "  <thead>\n",
       "    <tr style=\"text-align: right;\">\n",
       "      <th></th>\n",
       "      <th>country</th>\n",
       "      <th>year</th>\n",
       "      <th>sex</th>\n",
       "      <th>age</th>\n",
       "      <th>suicides_no</th>\n",
       "      <th>population</th>\n",
       "    </tr>\n",
       "  </thead>\n",
       "  <tbody>\n",
       "    <tr>\n",
       "      <th>0</th>\n",
       "      <td>Albania</td>\n",
       "      <td>1985</td>\n",
       "      <td>female</td>\n",
       "      <td>15-24 years</td>\n",
       "      <td>NaN</td>\n",
       "      <td>277900.0</td>\n",
       "    </tr>\n",
       "    <tr>\n",
       "      <th>1</th>\n",
       "      <td>Albania</td>\n",
       "      <td>1985</td>\n",
       "      <td>female</td>\n",
       "      <td>25-34 years</td>\n",
       "      <td>NaN</td>\n",
       "      <td>246800.0</td>\n",
       "    </tr>\n",
       "    <tr>\n",
       "      <th>2</th>\n",
       "      <td>Albania</td>\n",
       "      <td>1985</td>\n",
       "      <td>female</td>\n",
       "      <td>35-54 years</td>\n",
       "      <td>NaN</td>\n",
       "      <td>267500.0</td>\n",
       "    </tr>\n",
       "    <tr>\n",
       "      <th>3</th>\n",
       "      <td>Albania</td>\n",
       "      <td>1985</td>\n",
       "      <td>female</td>\n",
       "      <td>5-14 years</td>\n",
       "      <td>NaN</td>\n",
       "      <td>298300.0</td>\n",
       "    </tr>\n",
       "    <tr>\n",
       "      <th>4</th>\n",
       "      <td>Albania</td>\n",
       "      <td>1985</td>\n",
       "      <td>female</td>\n",
       "      <td>55-74 years</td>\n",
       "      <td>NaN</td>\n",
       "      <td>138700.0</td>\n",
       "    </tr>\n",
       "  </tbody>\n",
       "</table>\n",
       "</div>"
      ],
      "text/plain": [
       "   country  year     sex          age  suicides_no  population\n",
       "0  Albania  1985  female  15-24 years          NaN    277900.0\n",
       "1  Albania  1985  female  25-34 years          NaN    246800.0\n",
       "2  Albania  1985  female  35-54 years          NaN    267500.0\n",
       "3  Albania  1985  female   5-14 years          NaN    298300.0\n",
       "4  Albania  1985  female  55-74 years          NaN    138700.0"
      ]
     },
     "execution_count": 2,
     "metadata": {},
     "output_type": "execute_result"
    }
   ],
   "source": [
    "df=pd.read_csv(\"who_suicide_statistics.csv\")\n",
    "\n",
    "df.head()\n"
   ]
  },
  {
   "cell_type": "code",
   "execution_count": 3,
   "metadata": {},
   "outputs": [
    {
     "name": "stdout",
     "output_type": "stream",
     "text": [
      "<class 'pandas.core.frame.DataFrame'>\n",
      "RangeIndex: 43776 entries, 0 to 43775\n",
      "Data columns (total 6 columns):\n",
      "country        43776 non-null object\n",
      "year           43776 non-null int64\n",
      "sex            43776 non-null object\n",
      "age            43776 non-null object\n",
      "suicides_no    41520 non-null float64\n",
      "population     38316 non-null float64\n",
      "dtypes: float64(2), int64(1), object(3)\n",
      "memory usage: 2.0+ MB\n"
     ]
    }
   ],
   "source": [
    "df.info()"
   ]
  },
  {
   "cell_type": "markdown",
   "metadata": {},
   "source": [
    "#####  POPULATION AND SUICIDES_NO SHOWS THAT THEY HAVE NULL VALUES\n",
    "#####  Suicides no and Population are float type,will change these to int\n",
    "#####  Age and Sex are object type (categorical) , will change these to int (encode)  "
   ]
  },
  {
   "cell_type": "markdown",
   "metadata": {},
   "source": [
    "### Step2: Removing Outliers (REPLACING NULL WITH MEAN) "
   ]
  },
  {
   "cell_type": "code",
   "execution_count": 4,
   "metadata": {},
   "outputs": [],
   "source": [
    "df=df.fillna(df.mean())"
   ]
  },
  {
   "cell_type": "code",
   "execution_count": 5,
   "metadata": {},
   "outputs": [
    {
     "name": "stdout",
     "output_type": "stream",
     "text": [
      "<class 'pandas.core.frame.DataFrame'>\n",
      "RangeIndex: 43776 entries, 0 to 43775\n",
      "Data columns (total 6 columns):\n",
      "country        43776 non-null object\n",
      "year           43776 non-null int64\n",
      "sex            43776 non-null object\n",
      "age            43776 non-null object\n",
      "suicides_no    43776 non-null float64\n",
      "population     43776 non-null float64\n",
      "dtypes: float64(2), int64(1), object(3)\n",
      "memory usage: 2.0+ MB\n"
     ]
    }
   ],
   "source": [
    "df.info()"
   ]
  },
  {
   "cell_type": "markdown",
   "metadata": {},
   "source": [
    "#### NULL VALUES ARE REPLACED"
   ]
  },
  {
   "cell_type": "code",
   "execution_count": 6,
   "metadata": {},
   "outputs": [
    {
     "data": {
      "text/plain": [
       "141"
      ]
     },
     "execution_count": 6,
     "metadata": {},
     "output_type": "execute_result"
    }
   ],
   "source": [
    "len(df['country'].unique())"
   ]
  },
  {
   "cell_type": "markdown",
   "metadata": {},
   "source": [
    "# STEP2: EDA AND REMOVING OUTLIERS"
   ]
  },
  {
   "cell_type": "markdown",
   "metadata": {},
   "source": [
    "### Suicide comparision by Gender, in age classes"
   ]
  },
  {
   "cell_type": "code",
   "execution_count": 7,
   "metadata": {},
   "outputs": [],
   "source": [
    "#from numpy import median\n",
    "\n",
    "#plt.figure(figsize=(8,8))\n",
    "#plt.title('Suicide Correlation', fontsize=14)\n",
    "#sns.catplot(x=\"sex\", y=\"suicides_no\",col='age', data=df, estimator=median,height=4, aspect=.7,kind='bar')"
   ]
  },
  {
   "cell_type": "code",
   "execution_count": 8,
   "metadata": {},
   "outputs": [
    {
     "name": "stderr",
     "output_type": "stream",
     "text": [
      "C:\\Users\\Ahmed\\Anaconda3\\lib\\site-packages\\scipy\\stats\\stats.py:1713: FutureWarning: Using a non-tuple sequence for multidimensional indexing is deprecated; use `arr[tuple(seq)]` instead of `arr[seq]`. In the future this will be interpreted as an array index, `arr[np.array(seq)]`, which will result either in an error or a different result.\n",
      "  return np.add.reduce(sorted[indexer] * weights, axis=axis) / sumval\n"
     ]
    },
    {
     "data": {
      "text/plain": [
       "Text(0.5, 1.0, 'total suicides committed by male and female')"
      ]
     },
     "execution_count": 8,
     "metadata": {},
     "output_type": "execute_result"
    },
    {
     "data": {
      "image/png": "[encoded data removed]",
      "text/plain": [
       "<Figure size 576x576 with 1 Axes>"
      ]
     },
     "metadata": {
      "needs_background": "light"
     },
     "output_type": "display_data"
    },
    {
     "data": {
      "image/png": "[encoded data removed]",
      "text/plain": [
       "<Figure size 576x576 with 1 Axes>"
      ]
     },
     "metadata": {
      "needs_background": "light"
     },
     "output_type": "display_data"
    },
    {
     "data": {
      "image/png": "[encoded data removed]",
      "text/plain": [
       "<Figure size 576x576 with 1 Axes>"
      ]
     },
     "metadata": {
      "needs_background": "light"
     },
     "output_type": "display_data"
    }
   ],
   "source": [
    "\n",
    "plt.figure(figsize=(8,8))\n",
    "sns.barplot(x='age',y='suicides_no',data=df,ci=0)\n",
    "plt.title(\" total suicides in age group \")\n",
    "\n",
    "\n",
    "\n",
    "plt.figure(figsize=(8,8))\n",
    "#plt.title('Suicide Correlation', fontsize=14)\n",
    "p = sns.barplot(x='sex', y='suicides_no', hue='age', data=df)\n",
    "\n",
    "\n",
    "plt.figure(figsize=(8,8))\n",
    "sns.barplot(x='sex',y='suicides_no',data=df,ci=0)\n",
    "plt.title(\"total suicides committed by male and female\")"
   ]
  },
  {
   "cell_type": "code",
   "execution_count": 9,
   "metadata": {},
   "outputs": [
    {
     "data": {
      "image/png": "[encoded data removed]",
      "text/plain": [
       "<Figure size 576x576 with 1 Axes>"
      ]
     },
     "metadata": {
      "needs_background": "light"
     },
     "output_type": "display_data"
    }
   ],
   "source": [
    "male_population = df.loc[df.loc[:, 'sex']=='male',:]\n",
    "female_population = df.loc[df.loc[:, 'sex']=='female',:]\n",
    "\n",
    "\n",
    "plt.figure(figsize=(8,8))\n",
    "#plt.title('Suicide Correlation', fontsize=14)\n",
    "p = sns.lineplot(x='year', y='suicides_no', data=male_population)\n",
    "q = sns.lineplot(x='year', y='suicides_no', data=female_population)\n",
    "\n",
    "_ = plt.legend(['males', 'females'])"
   ]
  },
  {
   "cell_type": "code",
   "execution_count": 82,
   "metadata": {},
   "outputs": [
    {
     "data": {
      "text/plain": [
       "array(['15-24 years', '25-34 years', '35-54 years', '5-14 years',\n",
       "       '55-74 years', '75+ years'], dtype=object)"
      ]
     },
     "execution_count": 82,
     "metadata": {},
     "output_type": "execute_result"
    }
   ],
   "source": [
    "df['age'].unique()"
   ]
  },
  {
   "cell_type": "code",
   "execution_count": 84,
   "metadata": {},
   "outputs": [
    {
     "data": {
      "image/png": "[encoded data removed]",
      "text/plain": [
       "<Figure size 576x576 with 1 Axes>"
      ]
     },
     "metadata": {
      "needs_background": "light"
     },
     "output_type": "display_data"
    }
   ],
   "source": [
    "age1 = df.loc[df.loc[:, 'age']=='15-24 years',:]\n",
    "age2 = df.loc[df.loc[:, 'age']=='25-34 years',:]\n",
    "age3 = df.loc[df.loc[:, 'age']=='35-54 years',:]\n",
    "age4 = df.loc[df.loc[:, 'age']=='5-14 years',:]\n",
    "age5 = df.loc[df.loc[:, 'age']=='55-74 years',:]\n",
    "age6 = df.loc[df.loc[:, 'age']=='75+ years',:]\n",
    "\n",
    "\n",
    "\n",
    "plt.figure(figsize=(8,8))\n",
    "#plt.title('Suicide Correlation', fontsize=14)\n",
    "p = sns.lineplot(x='year', y='suicides_no', data=age1)\n",
    "q = sns.lineplot(x='year', y='suicides_no', data=age2)\n",
    "r = sns.lineplot(x='year', y='suicides_no', data=age3)\n",
    "s = sns.lineplot(x='year', y='suicides_no', data=age4)\n",
    "t = sns.lineplot(x='year', y='suicides_no', data=age5)\n",
    "u = sns.lineplot(x='year', y='suicides_no', data=age6)\n",
    "_ = plt.legend(['15-24 years', '25-34 years','35-54 years','5-14 years','55-74 years','75+ years'])"
   ]
  },
  {
   "cell_type": "markdown",
   "metadata": {},
   "source": [
    "##### encoding categorical and chaning type from float to int"
   ]
  },
  {
   "cell_type": "code",
   "execution_count": 10,
   "metadata": {},
   "outputs": [],
   "source": [
    "df1=df.replace(['male','female'],[0,1])\n",
    "df1=df1.replace(['5-14 years','15-24 years','25-34 years','35-54 years','55-74 years','75+ years'],[0,1,2,3,4,5])\n",
    "df1['population']=df['population'].astype(int)\n",
    "df1['suicides_no']=df['suicides_no'].astype(int)"
   ]
  },
  {
   "cell_type": "code",
   "execution_count": 11,
   "metadata": {
    "scrolled": false
   },
   "outputs": [
    {
     "data": {
      "image/png": "[encoded data removed]",
      "text/plain": [
       "<Figure size 576x576 with 2 Axes>"
      ]
     },
     "metadata": {
      "needs_background": "light"
     },
     "output_type": "display_data"
    }
   ],
   "source": [
    "\n",
    "plt.figure(figsize=(8,8))\n",
    "plt.title('Suicide Correlation Overall', fontsize=14)\n",
    "_ = sns.heatmap(df1.corr(), annot=True, cmap='Reds_r')"
   ]
  },
  {
   "cell_type": "code",
   "execution_count": 12,
   "metadata": {},
   "outputs": [
    {
     "data": {
      "text/html": [
       "<div>\n",
       "<style scoped>\n",
       "    .dataframe tbody tr th:only-of-type {\n",
       "        vertical-align: middle;\n",
       "    }\n",
       "\n",
       "    .dataframe tbody tr th {\n",
       "        vertical-align: top;\n",
       "    }\n",
       "\n",
       "    .dataframe thead th {\n",
       "        text-align: right;\n",
       "    }\n",
       "</style>\n",
       "<table border=\"1\" class=\"dataframe\">\n",
       "  <thead>\n",
       "    <tr style=\"text-align: right;\">\n",
       "      <th></th>\n",
       "      <th>country</th>\n",
       "      <th>year</th>\n",
       "      <th>sex</th>\n",
       "      <th>age</th>\n",
       "      <th>suicides_no</th>\n",
       "      <th>population</th>\n",
       "    </tr>\n",
       "  </thead>\n",
       "  <tbody>\n",
       "    <tr>\n",
       "      <th>708</th>\n",
       "      <td>Anguilla</td>\n",
       "      <td>2016</td>\n",
       "      <td>1</td>\n",
       "      <td>1</td>\n",
       "      <td>0</td>\n",
       "      <td>1664091</td>\n",
       "    </tr>\n",
       "    <tr>\n",
       "      <th>709</th>\n",
       "      <td>Anguilla</td>\n",
       "      <td>2016</td>\n",
       "      <td>1</td>\n",
       "      <td>2</td>\n",
       "      <td>0</td>\n",
       "      <td>1664091</td>\n",
       "    </tr>\n",
       "    <tr>\n",
       "      <th>710</th>\n",
       "      <td>Anguilla</td>\n",
       "      <td>2016</td>\n",
       "      <td>1</td>\n",
       "      <td>3</td>\n",
       "      <td>0</td>\n",
       "      <td>1664091</td>\n",
       "    </tr>\n",
       "    <tr>\n",
       "      <th>711</th>\n",
       "      <td>Anguilla</td>\n",
       "      <td>2016</td>\n",
       "      <td>1</td>\n",
       "      <td>0</td>\n",
       "      <td>0</td>\n",
       "      <td>1664091</td>\n",
       "    </tr>\n",
       "    <tr>\n",
       "      <th>712</th>\n",
       "      <td>Anguilla</td>\n",
       "      <td>2016</td>\n",
       "      <td>1</td>\n",
       "      <td>4</td>\n",
       "      <td>0</td>\n",
       "      <td>1664091</td>\n",
       "    </tr>\n",
       "    <tr>\n",
       "      <th>713</th>\n",
       "      <td>Anguilla</td>\n",
       "      <td>2016</td>\n",
       "      <td>1</td>\n",
       "      <td>5</td>\n",
       "      <td>0</td>\n",
       "      <td>1664091</td>\n",
       "    </tr>\n",
       "    <tr>\n",
       "      <th>714</th>\n",
       "      <td>Anguilla</td>\n",
       "      <td>2016</td>\n",
       "      <td>0</td>\n",
       "      <td>1</td>\n",
       "      <td>0</td>\n",
       "      <td>1664091</td>\n",
       "    </tr>\n",
       "    <tr>\n",
       "      <th>715</th>\n",
       "      <td>Anguilla</td>\n",
       "      <td>2016</td>\n",
       "      <td>0</td>\n",
       "      <td>2</td>\n",
       "      <td>0</td>\n",
       "      <td>1664091</td>\n",
       "    </tr>\n",
       "    <tr>\n",
       "      <th>716</th>\n",
       "      <td>Anguilla</td>\n",
       "      <td>2016</td>\n",
       "      <td>0</td>\n",
       "      <td>3</td>\n",
       "      <td>0</td>\n",
       "      <td>1664091</td>\n",
       "    </tr>\n",
       "    <tr>\n",
       "      <th>717</th>\n",
       "      <td>Anguilla</td>\n",
       "      <td>2016</td>\n",
       "      <td>0</td>\n",
       "      <td>0</td>\n",
       "      <td>0</td>\n",
       "      <td>1664091</td>\n",
       "    </tr>\n",
       "    <tr>\n",
       "      <th>718</th>\n",
       "      <td>Anguilla</td>\n",
       "      <td>2016</td>\n",
       "      <td>0</td>\n",
       "      <td>4</td>\n",
       "      <td>0</td>\n",
       "      <td>1664091</td>\n",
       "    </tr>\n",
       "    <tr>\n",
       "      <th>719</th>\n",
       "      <td>Anguilla</td>\n",
       "      <td>2016</td>\n",
       "      <td>0</td>\n",
       "      <td>5</td>\n",
       "      <td>0</td>\n",
       "      <td>1664091</td>\n",
       "    </tr>\n",
       "    <tr>\n",
       "      <th>1908</th>\n",
       "      <td>Armenia</td>\n",
       "      <td>2016</td>\n",
       "      <td>1</td>\n",
       "      <td>1</td>\n",
       "      <td>1</td>\n",
       "      <td>195422</td>\n",
       "    </tr>\n",
       "    <tr>\n",
       "      <th>1909</th>\n",
       "      <td>Armenia</td>\n",
       "      <td>2016</td>\n",
       "      <td>1</td>\n",
       "      <td>2</td>\n",
       "      <td>2</td>\n",
       "      <td>277452</td>\n",
       "    </tr>\n",
       "    <tr>\n",
       "      <th>1910</th>\n",
       "      <td>Armenia</td>\n",
       "      <td>2016</td>\n",
       "      <td>1</td>\n",
       "      <td>3</td>\n",
       "      <td>3</td>\n",
       "      <td>408109</td>\n",
       "    </tr>\n",
       "    <tr>\n",
       "      <th>1911</th>\n",
       "      <td>Armenia</td>\n",
       "      <td>2016</td>\n",
       "      <td>1</td>\n",
       "      <td>0</td>\n",
       "      <td>0</td>\n",
       "      <td>179062</td>\n",
       "    </tr>\n",
       "    <tr>\n",
       "      <th>1912</th>\n",
       "      <td>Armenia</td>\n",
       "      <td>2016</td>\n",
       "      <td>1</td>\n",
       "      <td>4</td>\n",
       "      <td>6</td>\n",
       "      <td>308349</td>\n",
       "    </tr>\n",
       "    <tr>\n",
       "      <th>1913</th>\n",
       "      <td>Armenia</td>\n",
       "      <td>2016</td>\n",
       "      <td>1</td>\n",
       "      <td>5</td>\n",
       "      <td>2</td>\n",
       "      <td>102414</td>\n",
       "    </tr>\n",
       "    <tr>\n",
       "      <th>1914</th>\n",
       "      <td>Armenia</td>\n",
       "      <td>2016</td>\n",
       "      <td>0</td>\n",
       "      <td>1</td>\n",
       "      <td>5</td>\n",
       "      <td>202220</td>\n",
       "    </tr>\n",
       "    <tr>\n",
       "      <th>1915</th>\n",
       "      <td>Armenia</td>\n",
       "      <td>2016</td>\n",
       "      <td>0</td>\n",
       "      <td>2</td>\n",
       "      <td>4</td>\n",
       "      <td>255665</td>\n",
       "    </tr>\n",
       "    <tr>\n",
       "      <th>1916</th>\n",
       "      <td>Armenia</td>\n",
       "      <td>2016</td>\n",
       "      <td>0</td>\n",
       "      <td>3</td>\n",
       "      <td>16</td>\n",
       "      <td>350633</td>\n",
       "    </tr>\n",
       "    <tr>\n",
       "      <th>1917</th>\n",
       "      <td>Armenia</td>\n",
       "      <td>2016</td>\n",
       "      <td>0</td>\n",
       "      <td>0</td>\n",
       "      <td>0</td>\n",
       "      <td>205024</td>\n",
       "    </tr>\n",
       "    <tr>\n",
       "      <th>1918</th>\n",
       "      <td>Armenia</td>\n",
       "      <td>2016</td>\n",
       "      <td>0</td>\n",
       "      <td>4</td>\n",
       "      <td>16</td>\n",
       "      <td>237813</td>\n",
       "    </tr>\n",
       "    <tr>\n",
       "      <th>1919</th>\n",
       "      <td>Armenia</td>\n",
       "      <td>2016</td>\n",
       "      <td>0</td>\n",
       "      <td>5</td>\n",
       "      <td>12</td>\n",
       "      <td>61956</td>\n",
       "    </tr>\n",
       "    <tr>\n",
       "      <th>3048</th>\n",
       "      <td>Austria</td>\n",
       "      <td>2016</td>\n",
       "      <td>1</td>\n",
       "      <td>1</td>\n",
       "      <td>22</td>\n",
       "      <td>488020</td>\n",
       "    </tr>\n",
       "    <tr>\n",
       "      <th>3049</th>\n",
       "      <td>Austria</td>\n",
       "      <td>2016</td>\n",
       "      <td>1</td>\n",
       "      <td>2</td>\n",
       "      <td>18</td>\n",
       "      <td>585913</td>\n",
       "    </tr>\n",
       "    <tr>\n",
       "      <th>3050</th>\n",
       "      <td>Austria</td>\n",
       "      <td>2016</td>\n",
       "      <td>1</td>\n",
       "      <td>3</td>\n",
       "      <td>95</td>\n",
       "      <td>1273241</td>\n",
       "    </tr>\n",
       "    <tr>\n",
       "      <th>3051</th>\n",
       "      <td>Austria</td>\n",
       "      <td>2016</td>\n",
       "      <td>1</td>\n",
       "      <td>0</td>\n",
       "      <td>2</td>\n",
       "      <td>406212</td>\n",
       "    </tr>\n",
       "    <tr>\n",
       "      <th>3052</th>\n",
       "      <td>Austria</td>\n",
       "      <td>2016</td>\n",
       "      <td>1</td>\n",
       "      <td>4</td>\n",
       "      <td>99</td>\n",
       "      <td>1009403</td>\n",
       "    </tr>\n",
       "    <tr>\n",
       "      <th>3053</th>\n",
       "      <td>Austria</td>\n",
       "      <td>2016</td>\n",
       "      <td>1</td>\n",
       "      <td>5</td>\n",
       "      <td>61</td>\n",
       "      <td>478267</td>\n",
       "    </tr>\n",
       "    <tr>\n",
       "      <th>...</th>\n",
       "      <td>...</td>\n",
       "      <td>...</td>\n",
       "      <td>...</td>\n",
       "      <td>...</td>\n",
       "      <td>...</td>\n",
       "      <td>...</td>\n",
       "    </tr>\n",
       "    <tr>\n",
       "      <th>39714</th>\n",
       "      <td>Thailand</td>\n",
       "      <td>2016</td>\n",
       "      <td>0</td>\n",
       "      <td>1</td>\n",
       "      <td>322</td>\n",
       "      <td>4736305</td>\n",
       "    </tr>\n",
       "    <tr>\n",
       "      <th>39715</th>\n",
       "      <td>Thailand</td>\n",
       "      <td>2016</td>\n",
       "      <td>0</td>\n",
       "      <td>2</td>\n",
       "      <td>646</td>\n",
       "      <td>4796355</td>\n",
       "    </tr>\n",
       "    <tr>\n",
       "      <th>39716</th>\n",
       "      <td>Thailand</td>\n",
       "      <td>2016</td>\n",
       "      <td>0</td>\n",
       "      <td>3</td>\n",
       "      <td>1421</td>\n",
       "      <td>10084647</td>\n",
       "    </tr>\n",
       "    <tr>\n",
       "      <th>39717</th>\n",
       "      <td>Thailand</td>\n",
       "      <td>2016</td>\n",
       "      <td>0</td>\n",
       "      <td>0</td>\n",
       "      <td>8</td>\n",
       "      <td>4056689</td>\n",
       "    </tr>\n",
       "    <tr>\n",
       "      <th>39718</th>\n",
       "      <td>Thailand</td>\n",
       "      <td>2016</td>\n",
       "      <td>0</td>\n",
       "      <td>4</td>\n",
       "      <td>734</td>\n",
       "      <td>5203957</td>\n",
       "    </tr>\n",
       "    <tr>\n",
       "      <th>39719</th>\n",
       "      <td>Thailand</td>\n",
       "      <td>2016</td>\n",
       "      <td>0</td>\n",
       "      <td>5</td>\n",
       "      <td>152</td>\n",
       "      <td>1124052</td>\n",
       "    </tr>\n",
       "    <tr>\n",
       "      <th>41904</th>\n",
       "      <td>United Kingdom</td>\n",
       "      <td>2016</td>\n",
       "      <td>1</td>\n",
       "      <td>1</td>\n",
       "      <td>193</td>\n",
       "      <td>3916683</td>\n",
       "    </tr>\n",
       "    <tr>\n",
       "      <th>41905</th>\n",
       "      <td>United Kingdom</td>\n",
       "      <td>2016</td>\n",
       "      <td>1</td>\n",
       "      <td>2</td>\n",
       "      <td>193</td>\n",
       "      <td>4444704</td>\n",
       "    </tr>\n",
       "    <tr>\n",
       "      <th>41906</th>\n",
       "      <td>United Kingdom</td>\n",
       "      <td>2016</td>\n",
       "      <td>1</td>\n",
       "      <td>3</td>\n",
       "      <td>193</td>\n",
       "      <td>8896994</td>\n",
       "    </tr>\n",
       "    <tr>\n",
       "      <th>41907</th>\n",
       "      <td>United Kingdom</td>\n",
       "      <td>2016</td>\n",
       "      <td>1</td>\n",
       "      <td>0</td>\n",
       "      <td>193</td>\n",
       "      <td>3739021</td>\n",
       "    </tr>\n",
       "    <tr>\n",
       "      <th>41908</th>\n",
       "      <td>United Kingdom</td>\n",
       "      <td>2016</td>\n",
       "      <td>1</td>\n",
       "      <td>4</td>\n",
       "      <td>193</td>\n",
       "      <td>7226689</td>\n",
       "    </tr>\n",
       "    <tr>\n",
       "      <th>41909</th>\n",
       "      <td>United Kingdom</td>\n",
       "      <td>2016</td>\n",
       "      <td>1</td>\n",
       "      <td>5</td>\n",
       "      <td>193</td>\n",
       "      <td>3089853</td>\n",
       "    </tr>\n",
       "    <tr>\n",
       "      <th>41910</th>\n",
       "      <td>United Kingdom</td>\n",
       "      <td>2016</td>\n",
       "      <td>0</td>\n",
       "      <td>1</td>\n",
       "      <td>193</td>\n",
       "      <td>4115995</td>\n",
       "    </tr>\n",
       "    <tr>\n",
       "      <th>41911</th>\n",
       "      <td>United Kingdom</td>\n",
       "      <td>2016</td>\n",
       "      <td>0</td>\n",
       "      <td>2</td>\n",
       "      <td>193</td>\n",
       "      <td>4474107</td>\n",
       "    </tr>\n",
       "    <tr>\n",
       "      <th>41912</th>\n",
       "      <td>United Kingdom</td>\n",
       "      <td>2016</td>\n",
       "      <td>0</td>\n",
       "      <td>3</td>\n",
       "      <td>193</td>\n",
       "      <td>8707736</td>\n",
       "    </tr>\n",
       "    <tr>\n",
       "      <th>41913</th>\n",
       "      <td>United Kingdom</td>\n",
       "      <td>2016</td>\n",
       "      <td>0</td>\n",
       "      <td>0</td>\n",
       "      <td>193</td>\n",
       "      <td>3923497</td>\n",
       "    </tr>\n",
       "    <tr>\n",
       "      <th>41914</th>\n",
       "      <td>United Kingdom</td>\n",
       "      <td>2016</td>\n",
       "      <td>0</td>\n",
       "      <td>4</td>\n",
       "      <td>193</td>\n",
       "      <td>6862811</td>\n",
       "    </tr>\n",
       "    <tr>\n",
       "      <th>41915</th>\n",
       "      <td>United Kingdom</td>\n",
       "      <td>2016</td>\n",
       "      <td>0</td>\n",
       "      <td>5</td>\n",
       "      <td>193</td>\n",
       "      <td>2235650</td>\n",
       "    </tr>\n",
       "    <tr>\n",
       "      <th>42360</th>\n",
       "      <td>United States of America</td>\n",
       "      <td>2016</td>\n",
       "      <td>1</td>\n",
       "      <td>1</td>\n",
       "      <td>193</td>\n",
       "      <td>21601501</td>\n",
       "    </tr>\n",
       "    <tr>\n",
       "      <th>42361</th>\n",
       "      <td>United States of America</td>\n",
       "      <td>2016</td>\n",
       "      <td>1</td>\n",
       "      <td>2</td>\n",
       "      <td>193</td>\n",
       "      <td>21857682</td>\n",
       "    </tr>\n",
       "    <tr>\n",
       "      <th>42362</th>\n",
       "      <td>United States of America</td>\n",
       "      <td>2016</td>\n",
       "      <td>1</td>\n",
       "      <td>3</td>\n",
       "      <td>193</td>\n",
       "      <td>41367410</td>\n",
       "    </tr>\n",
       "    <tr>\n",
       "      <th>42363</th>\n",
       "      <td>United States of America</td>\n",
       "      <td>2016</td>\n",
       "      <td>1</td>\n",
       "      <td>0</td>\n",
       "      <td>193</td>\n",
       "      <td>20385205</td>\n",
       "    </tr>\n",
       "    <tr>\n",
       "      <th>42364</th>\n",
       "      <td>United States of America</td>\n",
       "      <td>2016</td>\n",
       "      <td>1</td>\n",
       "      <td>4</td>\n",
       "      <td>193</td>\n",
       "      <td>35952743</td>\n",
       "    </tr>\n",
       "    <tr>\n",
       "      <th>42365</th>\n",
       "      <td>United States of America</td>\n",
       "      <td>2016</td>\n",
       "      <td>1</td>\n",
       "      <td>5</td>\n",
       "      <td>193</td>\n",
       "      <td>12007604</td>\n",
       "    </tr>\n",
       "    <tr>\n",
       "      <th>42366</th>\n",
       "      <td>United States of America</td>\n",
       "      <td>2016</td>\n",
       "      <td>0</td>\n",
       "      <td>1</td>\n",
       "      <td>193</td>\n",
       "      <td>22549343</td>\n",
       "    </tr>\n",
       "    <tr>\n",
       "      <th>42367</th>\n",
       "      <td>United States of America</td>\n",
       "      <td>2016</td>\n",
       "      <td>0</td>\n",
       "      <td>2</td>\n",
       "      <td>193</td>\n",
       "      <td>22511217</td>\n",
       "    </tr>\n",
       "    <tr>\n",
       "      <th>42368</th>\n",
       "      <td>United States of America</td>\n",
       "      <td>2016</td>\n",
       "      <td>0</td>\n",
       "      <td>3</td>\n",
       "      <td>193</td>\n",
       "      <td>41481607</td>\n",
       "    </tr>\n",
       "    <tr>\n",
       "      <th>42369</th>\n",
       "      <td>United States of America</td>\n",
       "      <td>2016</td>\n",
       "      <td>0</td>\n",
       "      <td>0</td>\n",
       "      <td>193</td>\n",
       "      <td>21313304</td>\n",
       "    </tr>\n",
       "    <tr>\n",
       "      <th>42370</th>\n",
       "      <td>United States of America</td>\n",
       "      <td>2016</td>\n",
       "      <td>0</td>\n",
       "      <td>4</td>\n",
       "      <td>193</td>\n",
       "      <td>33121620</td>\n",
       "    </tr>\n",
       "    <tr>\n",
       "      <th>42371</th>\n",
       "      <td>United States of America</td>\n",
       "      <td>2016</td>\n",
       "      <td>0</td>\n",
       "      <td>5</td>\n",
       "      <td>193</td>\n",
       "      <td>8423833</td>\n",
       "    </tr>\n",
       "  </tbody>\n",
       "</table>\n",
       "<p>300 rows × 6 columns</p>\n",
       "</div>"
      ],
      "text/plain": [
       "                        country  year  sex  age  suicides_no  population\n",
       "708                    Anguilla  2016    1    1            0     1664091\n",
       "709                    Anguilla  2016    1    2            0     1664091\n",
       "710                    Anguilla  2016    1    3            0     1664091\n",
       "711                    Anguilla  2016    1    0            0     1664091\n",
       "712                    Anguilla  2016    1    4            0     1664091\n",
       "713                    Anguilla  2016    1    5            0     1664091\n",
       "714                    Anguilla  2016    0    1            0     1664091\n",
       "715                    Anguilla  2016    0    2            0     1664091\n",
       "716                    Anguilla  2016    0    3            0     1664091\n",
       "717                    Anguilla  2016    0    0            0     1664091\n",
       "718                    Anguilla  2016    0    4            0     1664091\n",
       "719                    Anguilla  2016    0    5            0     1664091\n",
       "1908                    Armenia  2016    1    1            1      195422\n",
       "1909                    Armenia  2016    1    2            2      277452\n",
       "1910                    Armenia  2016    1    3            3      408109\n",
       "1911                    Armenia  2016    1    0            0      179062\n",
       "1912                    Armenia  2016    1    4            6      308349\n",
       "1913                    Armenia  2016    1    5            2      102414\n",
       "1914                    Armenia  2016    0    1            5      202220\n",
       "1915                    Armenia  2016    0    2            4      255665\n",
       "1916                    Armenia  2016    0    3           16      350633\n",
       "1917                    Armenia  2016    0    0            0      205024\n",
       "1918                    Armenia  2016    0    4           16      237813\n",
       "1919                    Armenia  2016    0    5           12       61956\n",
       "3048                    Austria  2016    1    1           22      488020\n",
       "3049                    Austria  2016    1    2           18      585913\n",
       "3050                    Austria  2016    1    3           95     1273241\n",
       "3051                    Austria  2016    1    0            2      406212\n",
       "3052                    Austria  2016    1    4           99     1009403\n",
       "3053                    Austria  2016    1    5           61      478267\n",
       "...                         ...   ...  ...  ...          ...         ...\n",
       "39714                  Thailand  2016    0    1          322     4736305\n",
       "39715                  Thailand  2016    0    2          646     4796355\n",
       "39716                  Thailand  2016    0    3         1421    10084647\n",
       "39717                  Thailand  2016    0    0            8     4056689\n",
       "39718                  Thailand  2016    0    4          734     5203957\n",
       "39719                  Thailand  2016    0    5          152     1124052\n",
       "41904            United Kingdom  2016    1    1          193     3916683\n",
       "41905            United Kingdom  2016    1    2          193     4444704\n",
       "41906            United Kingdom  2016    1    3          193     8896994\n",
       "41907            United Kingdom  2016    1    0          193     3739021\n",
       "41908            United Kingdom  2016    1    4          193     7226689\n",
       "41909            United Kingdom  2016    1    5          193     3089853\n",
       "41910            United Kingdom  2016    0    1          193     4115995\n",
       "41911            United Kingdom  2016    0    2          193     4474107\n",
       "41912            United Kingdom  2016    0    3          193     8707736\n",
       "41913            United Kingdom  2016    0    0          193     3923497\n",
       "41914            United Kingdom  2016    0    4          193     6862811\n",
       "41915            United Kingdom  2016    0    5          193     2235650\n",
       "42360  United States of America  2016    1    1          193    21601501\n",
       "42361  United States of America  2016    1    2          193    21857682\n",
       "42362  United States of America  2016    1    3          193    41367410\n",
       "42363  United States of America  2016    1    0          193    20385205\n",
       "42364  United States of America  2016    1    4          193    35952743\n",
       "42365  United States of America  2016    1    5          193    12007604\n",
       "42366  United States of America  2016    0    1          193    22549343\n",
       "42367  United States of America  2016    0    2          193    22511217\n",
       "42368  United States of America  2016    0    3          193    41481607\n",
       "42369  United States of America  2016    0    0          193    21313304\n",
       "42370  United States of America  2016    0    4          193    33121620\n",
       "42371  United States of America  2016    0    5          193     8423833\n",
       "\n",
       "[300 rows x 6 columns]"
      ]
     },
     "execution_count": 12,
     "metadata": {},
     "output_type": "execute_result"
    }
   ],
   "source": [
    "df1[df1['year']==2016]"
   ]
  },
  {
   "cell_type": "code",
   "execution_count": 13,
   "metadata": {},
   "outputs": [],
   "source": [
    "#US = df1.loc[(df['country']=='United States of America') & (df1['year']) & (df1['suicides_no']), ['country', 'year', 'suicides_no',]]\n",
    "#US.sort_values(by=['year'])"
   ]
  },
  {
   "cell_type": "code",
   "execution_count": 14,
   "metadata": {},
   "outputs": [
    {
     "data": {
      "text/plain": [
       "array(['Albania', 'Anguilla', 'Antigua and Barbuda', 'Argentina',\n",
       "       'Armenia', 'Aruba', 'Australia', 'Austria', 'Azerbaijan',\n",
       "       'Bahamas', 'Bahrain', 'Barbados', 'Belarus', 'Belgium', 'Belize',\n",
       "       'Bermuda', 'Bolivia', 'Bosnia and Herzegovina', 'Brazil',\n",
       "       'British Virgin Islands', 'Brunei Darussalam', 'Bulgaria',\n",
       "       'Cabo Verde', 'Canada', 'Cayman Islands', 'Chile', 'Colombia',\n",
       "       'Costa Rica', 'Croatia', 'Cuba', 'Cyprus', 'Czech Republic',\n",
       "       'Denmark', 'Dominica', 'Dominican Republic', 'Ecuador', 'Egypt',\n",
       "       'El Salvador', 'Estonia', 'Falkland Islands (Malvinas)', 'Fiji',\n",
       "       'Finland', 'France', 'French Guiana', 'Georgia', 'Germany',\n",
       "       'Greece', 'Grenada', 'Guadeloupe', 'Guatemala', 'Guyana', 'Haiti',\n",
       "       'Honduras', 'Hong Kong SAR', 'Hungary', 'Iceland',\n",
       "       'Iran (Islamic Rep of)', 'Iraq', 'Ireland', 'Israel', 'Italy',\n",
       "       'Jamaica', 'Japan', 'Jordan', 'Kazakhstan', 'Kiribati', 'Kuwait',\n",
       "       'Kyrgyzstan', 'Latvia', 'Lithuania', 'Luxembourg', 'Macau',\n",
       "       'Malaysia', 'Maldives', 'Malta', 'Martinique', 'Mauritius',\n",
       "       'Mayotte', 'Mexico', 'Monaco', 'Mongolia', 'Montenegro',\n",
       "       'Montserrat', 'Morocco', 'Netherlands', 'Netherlands Antilles',\n",
       "       'New Zealand', 'Nicaragua', 'Norway',\n",
       "       'Occupied Palestinian Territory', 'Oman', 'Panama', 'Paraguay',\n",
       "       'Peru', 'Philippines', 'Poland', 'Portugal', 'Puerto Rico',\n",
       "       'Qatar', 'Republic of Korea', 'Republic of Moldova', 'Reunion',\n",
       "       'Rodrigues', 'Romania', 'Russian Federation',\n",
       "       'Saint Kitts and Nevis', 'Saint Lucia',\n",
       "       'Saint Pierre and Miquelon', 'Saint Vincent and Grenadines',\n",
       "       'San Marino', 'Sao Tome and Principe', 'Saudi Arabia', 'Serbia',\n",
       "       'Seychelles', 'Singapore', 'Slovakia', 'Slovenia', 'South Africa',\n",
       "       'Spain', 'Sri Lanka', 'Suriname', 'Sweden', 'Switzerland',\n",
       "       'Syrian Arab Republic', 'TFYR Macedonia', 'Tajikistan', 'Thailand',\n",
       "       'Trinidad and Tobago', 'Tunisia', 'Turkey', 'Turkmenistan',\n",
       "       'Turks and Caicos Islands', 'Ukraine', 'United Arab Emirates',\n",
       "       'United Kingdom', 'United States of America', 'Uruguay',\n",
       "       'Uzbekistan', 'Venezuela (Bolivarian Republic of)',\n",
       "       'Virgin Islands (USA)', 'Zimbabwe'], dtype=object)"
      ]
     },
     "execution_count": 14,
     "metadata": {},
     "output_type": "execute_result"
    }
   ],
   "source": [
    "df['country'].unique()\n"
   ]
  },
  {
   "cell_type": "code",
   "execution_count": 15,
   "metadata": {},
   "outputs": [
    {
     "data": {
      "text/html": [
       "<div>\n",
       "<style scoped>\n",
       "    .dataframe tbody tr th:only-of-type {\n",
       "        vertical-align: middle;\n",
       "    }\n",
       "\n",
       "    .dataframe tbody tr th {\n",
       "        vertical-align: top;\n",
       "    }\n",
       "\n",
       "    .dataframe thead th {\n",
       "        text-align: right;\n",
       "    }\n",
       "</style>\n",
       "<table border=\"1\" class=\"dataframe\">\n",
       "  <thead>\n",
       "    <tr style=\"text-align: right;\">\n",
       "      <th></th>\n",
       "      <th>country</th>\n",
       "      <th>year</th>\n",
       "      <th>sex</th>\n",
       "      <th>age</th>\n",
       "      <th>suicides_no</th>\n",
       "      <th>population</th>\n",
       "    </tr>\n",
       "  </thead>\n",
       "  <tbody>\n",
       "    <tr>\n",
       "      <th>34716</th>\n",
       "      <td>Saudi Arabia</td>\n",
       "      <td>2009</td>\n",
       "      <td>female</td>\n",
       "      <td>15-24 years</td>\n",
       "      <td>3.0</td>\n",
       "      <td>1.664091e+06</td>\n",
       "    </tr>\n",
       "    <tr>\n",
       "      <th>34717</th>\n",
       "      <td>Saudi Arabia</td>\n",
       "      <td>2009</td>\n",
       "      <td>female</td>\n",
       "      <td>25-34 years</td>\n",
       "      <td>2.0</td>\n",
       "      <td>1.664091e+06</td>\n",
       "    </tr>\n",
       "    <tr>\n",
       "      <th>34718</th>\n",
       "      <td>Saudi Arabia</td>\n",
       "      <td>2009</td>\n",
       "      <td>female</td>\n",
       "      <td>35-54 years</td>\n",
       "      <td>0.0</td>\n",
       "      <td>1.664091e+06</td>\n",
       "    </tr>\n",
       "    <tr>\n",
       "      <th>34719</th>\n",
       "      <td>Saudi Arabia</td>\n",
       "      <td>2009</td>\n",
       "      <td>female</td>\n",
       "      <td>5-14 years</td>\n",
       "      <td>2.0</td>\n",
       "      <td>1.664091e+06</td>\n",
       "    </tr>\n",
       "    <tr>\n",
       "      <th>34720</th>\n",
       "      <td>Saudi Arabia</td>\n",
       "      <td>2009</td>\n",
       "      <td>female</td>\n",
       "      <td>55-74 years</td>\n",
       "      <td>3.0</td>\n",
       "      <td>1.664091e+06</td>\n",
       "    </tr>\n",
       "    <tr>\n",
       "      <th>34721</th>\n",
       "      <td>Saudi Arabia</td>\n",
       "      <td>2009</td>\n",
       "      <td>female</td>\n",
       "      <td>75+ years</td>\n",
       "      <td>0.0</td>\n",
       "      <td>1.664091e+06</td>\n",
       "    </tr>\n",
       "    <tr>\n",
       "      <th>34722</th>\n",
       "      <td>Saudi Arabia</td>\n",
       "      <td>2009</td>\n",
       "      <td>male</td>\n",
       "      <td>15-24 years</td>\n",
       "      <td>18.0</td>\n",
       "      <td>1.664091e+06</td>\n",
       "    </tr>\n",
       "    <tr>\n",
       "      <th>34723</th>\n",
       "      <td>Saudi Arabia</td>\n",
       "      <td>2009</td>\n",
       "      <td>male</td>\n",
       "      <td>25-34 years</td>\n",
       "      <td>12.0</td>\n",
       "      <td>1.664091e+06</td>\n",
       "    </tr>\n",
       "    <tr>\n",
       "      <th>34724</th>\n",
       "      <td>Saudi Arabia</td>\n",
       "      <td>2009</td>\n",
       "      <td>male</td>\n",
       "      <td>35-54 years</td>\n",
       "      <td>17.0</td>\n",
       "      <td>1.664091e+06</td>\n",
       "    </tr>\n",
       "    <tr>\n",
       "      <th>34725</th>\n",
       "      <td>Saudi Arabia</td>\n",
       "      <td>2009</td>\n",
       "      <td>male</td>\n",
       "      <td>5-14 years</td>\n",
       "      <td>2.0</td>\n",
       "      <td>1.664091e+06</td>\n",
       "    </tr>\n",
       "    <tr>\n",
       "      <th>34726</th>\n",
       "      <td>Saudi Arabia</td>\n",
       "      <td>2009</td>\n",
       "      <td>male</td>\n",
       "      <td>55-74 years</td>\n",
       "      <td>0.0</td>\n",
       "      <td>1.664091e+06</td>\n",
       "    </tr>\n",
       "    <tr>\n",
       "      <th>34727</th>\n",
       "      <td>Saudi Arabia</td>\n",
       "      <td>2009</td>\n",
       "      <td>male</td>\n",
       "      <td>75+ years</td>\n",
       "      <td>0.0</td>\n",
       "      <td>1.664091e+06</td>\n",
       "    </tr>\n",
       "    <tr>\n",
       "      <th>34728</th>\n",
       "      <td>Saudi Arabia</td>\n",
       "      <td>2012</td>\n",
       "      <td>female</td>\n",
       "      <td>15-24 years</td>\n",
       "      <td>2.0</td>\n",
       "      <td>1.664091e+06</td>\n",
       "    </tr>\n",
       "    <tr>\n",
       "      <th>34729</th>\n",
       "      <td>Saudi Arabia</td>\n",
       "      <td>2012</td>\n",
       "      <td>female</td>\n",
       "      <td>25-34 years</td>\n",
       "      <td>8.0</td>\n",
       "      <td>1.664091e+06</td>\n",
       "    </tr>\n",
       "    <tr>\n",
       "      <th>34730</th>\n",
       "      <td>Saudi Arabia</td>\n",
       "      <td>2012</td>\n",
       "      <td>female</td>\n",
       "      <td>35-54 years</td>\n",
       "      <td>6.0</td>\n",
       "      <td>1.664091e+06</td>\n",
       "    </tr>\n",
       "    <tr>\n",
       "      <th>34731</th>\n",
       "      <td>Saudi Arabia</td>\n",
       "      <td>2012</td>\n",
       "      <td>female</td>\n",
       "      <td>5-14 years</td>\n",
       "      <td>1.0</td>\n",
       "      <td>1.664091e+06</td>\n",
       "    </tr>\n",
       "    <tr>\n",
       "      <th>34732</th>\n",
       "      <td>Saudi Arabia</td>\n",
       "      <td>2012</td>\n",
       "      <td>female</td>\n",
       "      <td>55-74 years</td>\n",
       "      <td>0.0</td>\n",
       "      <td>1.664091e+06</td>\n",
       "    </tr>\n",
       "    <tr>\n",
       "      <th>34733</th>\n",
       "      <td>Saudi Arabia</td>\n",
       "      <td>2012</td>\n",
       "      <td>female</td>\n",
       "      <td>75+ years</td>\n",
       "      <td>0.0</td>\n",
       "      <td>1.664091e+06</td>\n",
       "    </tr>\n",
       "    <tr>\n",
       "      <th>34734</th>\n",
       "      <td>Saudi Arabia</td>\n",
       "      <td>2012</td>\n",
       "      <td>male</td>\n",
       "      <td>15-24 years</td>\n",
       "      <td>8.0</td>\n",
       "      <td>1.664091e+06</td>\n",
       "    </tr>\n",
       "    <tr>\n",
       "      <th>34735</th>\n",
       "      <td>Saudi Arabia</td>\n",
       "      <td>2012</td>\n",
       "      <td>male</td>\n",
       "      <td>25-34 years</td>\n",
       "      <td>24.0</td>\n",
       "      <td>1.664091e+06</td>\n",
       "    </tr>\n",
       "    <tr>\n",
       "      <th>34736</th>\n",
       "      <td>Saudi Arabia</td>\n",
       "      <td>2012</td>\n",
       "      <td>male</td>\n",
       "      <td>35-54 years</td>\n",
       "      <td>23.0</td>\n",
       "      <td>1.664091e+06</td>\n",
       "    </tr>\n",
       "    <tr>\n",
       "      <th>34737</th>\n",
       "      <td>Saudi Arabia</td>\n",
       "      <td>2012</td>\n",
       "      <td>male</td>\n",
       "      <td>5-14 years</td>\n",
       "      <td>2.0</td>\n",
       "      <td>1.664091e+06</td>\n",
       "    </tr>\n",
       "    <tr>\n",
       "      <th>34738</th>\n",
       "      <td>Saudi Arabia</td>\n",
       "      <td>2012</td>\n",
       "      <td>male</td>\n",
       "      <td>55-74 years</td>\n",
       "      <td>2.0</td>\n",
       "      <td>1.664091e+06</td>\n",
       "    </tr>\n",
       "    <tr>\n",
       "      <th>34739</th>\n",
       "      <td>Saudi Arabia</td>\n",
       "      <td>2012</td>\n",
       "      <td>male</td>\n",
       "      <td>75+ years</td>\n",
       "      <td>0.0</td>\n",
       "      <td>1.664091e+06</td>\n",
       "    </tr>\n",
       "  </tbody>\n",
       "</table>\n",
       "</div>"
      ],
      "text/plain": [
       "            country  year     sex          age  suicides_no    population\n",
       "34716  Saudi Arabia  2009  female  15-24 years          3.0  1.664091e+06\n",
       "34717  Saudi Arabia  2009  female  25-34 years          2.0  1.664091e+06\n",
       "34718  Saudi Arabia  2009  female  35-54 years          0.0  1.664091e+06\n",
       "34719  Saudi Arabia  2009  female   5-14 years          2.0  1.664091e+06\n",
       "34720  Saudi Arabia  2009  female  55-74 years          3.0  1.664091e+06\n",
       "34721  Saudi Arabia  2009  female    75+ years          0.0  1.664091e+06\n",
       "34722  Saudi Arabia  2009    male  15-24 years         18.0  1.664091e+06\n",
       "34723  Saudi Arabia  2009    male  25-34 years         12.0  1.664091e+06\n",
       "34724  Saudi Arabia  2009    male  35-54 years         17.0  1.664091e+06\n",
       "34725  Saudi Arabia  2009    male   5-14 years          2.0  1.664091e+06\n",
       "34726  Saudi Arabia  2009    male  55-74 years          0.0  1.664091e+06\n",
       "34727  Saudi Arabia  2009    male    75+ years          0.0  1.664091e+06\n",
       "34728  Saudi Arabia  2012  female  15-24 years          2.0  1.664091e+06\n",
       "34729  Saudi Arabia  2012  female  25-34 years          8.0  1.664091e+06\n",
       "34730  Saudi Arabia  2012  female  35-54 years          6.0  1.664091e+06\n",
       "34731  Saudi Arabia  2012  female   5-14 years          1.0  1.664091e+06\n",
       "34732  Saudi Arabia  2012  female  55-74 years          0.0  1.664091e+06\n",
       "34733  Saudi Arabia  2012  female    75+ years          0.0  1.664091e+06\n",
       "34734  Saudi Arabia  2012    male  15-24 years          8.0  1.664091e+06\n",
       "34735  Saudi Arabia  2012    male  25-34 years         24.0  1.664091e+06\n",
       "34736  Saudi Arabia  2012    male  35-54 years         23.0  1.664091e+06\n",
       "34737  Saudi Arabia  2012    male   5-14 years          2.0  1.664091e+06\n",
       "34738  Saudi Arabia  2012    male  55-74 years          2.0  1.664091e+06\n",
       "34739  Saudi Arabia  2012    male    75+ years          0.0  1.664091e+06"
      ]
     },
     "execution_count": 15,
     "metadata": {},
     "output_type": "execute_result"
    }
   ],
   "source": [
    "df[(df['country']=='Saudi Arabia')==True]"
   ]
  },
  {
   "cell_type": "code",
   "execution_count": 16,
   "metadata": {},
   "outputs": [
    {
     "data": {
      "image/png": "[encoded data removed]",
      "text/plain": [
       "<Figure size 720x720 with 1 Axes>"
      ]
     },
     "metadata": {
      "needs_background": "light"
     },
     "output_type": "display_data"
    }
   ],
   "source": [
    " \n",
    "plt.figure(figsize=(10,10))\n",
    "ax = sns.lineplot(x=\"population\", y=\"suicides_no\", hue=\"sex\",data=df1)"
   ]
  },
  {
   "cell_type": "code",
   "execution_count": 17,
   "metadata": {},
   "outputs": [
    {
     "data": {
      "text/plain": [
       "(43776, 6)"
      ]
     },
     "execution_count": 17,
     "metadata": {},
     "output_type": "execute_result"
    }
   ],
   "source": [
    "df1.shape"
   ]
  },
  {
   "cell_type": "code",
   "execution_count": 18,
   "metadata": {},
   "outputs": [
    {
     "data": {
      "text/html": [
       "<div>\n",
       "<style scoped>\n",
       "    .dataframe tbody tr th:only-of-type {\n",
       "        vertical-align: middle;\n",
       "    }\n",
       "\n",
       "    .dataframe tbody tr th {\n",
       "        vertical-align: top;\n",
       "    }\n",
       "\n",
       "    .dataframe thead th {\n",
       "        text-align: right;\n",
       "    }\n",
       "</style>\n",
       "<table border=\"1\" class=\"dataframe\">\n",
       "  <thead>\n",
       "    <tr style=\"text-align: right;\">\n",
       "      <th></th>\n",
       "      <th>year</th>\n",
       "      <th>sex</th>\n",
       "      <th>age</th>\n",
       "      <th>suicides_no</th>\n",
       "      <th>population</th>\n",
       "    </tr>\n",
       "  </thead>\n",
       "  <tbody>\n",
       "    <tr>\n",
       "      <th>count</th>\n",
       "      <td>43776.000000</td>\n",
       "      <td>43776.000000</td>\n",
       "      <td>43776.000000</td>\n",
       "      <td>43776.000000</td>\n",
       "      <td>4.377600e+04</td>\n",
       "    </tr>\n",
       "    <tr>\n",
       "      <th>mean</th>\n",
       "      <td>1998.502467</td>\n",
       "      <td>0.500000</td>\n",
       "      <td>2.500000</td>\n",
       "      <td>193.299137</td>\n",
       "      <td>1.664091e+06</td>\n",
       "    </tr>\n",
       "    <tr>\n",
       "      <th>std</th>\n",
       "      <td>10.338711</td>\n",
       "      <td>0.500006</td>\n",
       "      <td>1.707845</td>\n",
       "      <td>779.687349</td>\n",
       "      <td>3.412201e+06</td>\n",
       "    </tr>\n",
       "    <tr>\n",
       "      <th>min</th>\n",
       "      <td>1979.000000</td>\n",
       "      <td>0.000000</td>\n",
       "      <td>0.000000</td>\n",
       "      <td>0.000000</td>\n",
       "      <td>2.590000e+02</td>\n",
       "    </tr>\n",
       "    <tr>\n",
       "      <th>25%</th>\n",
       "      <td>1990.000000</td>\n",
       "      <td>0.000000</td>\n",
       "      <td>1.000000</td>\n",
       "      <td>1.000000</td>\n",
       "      <td>1.184982e+05</td>\n",
       "    </tr>\n",
       "    <tr>\n",
       "      <th>50%</th>\n",
       "      <td>1999.000000</td>\n",
       "      <td>0.500000</td>\n",
       "      <td>2.500000</td>\n",
       "      <td>17.000000</td>\n",
       "      <td>5.177775e+05</td>\n",
       "    </tr>\n",
       "    <tr>\n",
       "      <th>75%</th>\n",
       "      <td>2007.000000</td>\n",
       "      <td>1.000000</td>\n",
       "      <td>4.000000</td>\n",
       "      <td>124.000000</td>\n",
       "      <td>1.664091e+06</td>\n",
       "    </tr>\n",
       "    <tr>\n",
       "      <th>max</th>\n",
       "      <td>2016.000000</td>\n",
       "      <td>1.000000</td>\n",
       "      <td>5.000000</td>\n",
       "      <td>22338.000000</td>\n",
       "      <td>4.380521e+07</td>\n",
       "    </tr>\n",
       "  </tbody>\n",
       "</table>\n",
       "</div>"
      ],
      "text/plain": [
       "               year           sex           age   suicides_no    population\n",
       "count  43776.000000  43776.000000  43776.000000  43776.000000  4.377600e+04\n",
       "mean    1998.502467      0.500000      2.500000    193.299137  1.664091e+06\n",
       "std       10.338711      0.500006      1.707845    779.687349  3.412201e+06\n",
       "min     1979.000000      0.000000      0.000000      0.000000  2.590000e+02\n",
       "25%     1990.000000      0.000000      1.000000      1.000000  1.184982e+05\n",
       "50%     1999.000000      0.500000      2.500000     17.000000  5.177775e+05\n",
       "75%     2007.000000      1.000000      4.000000    124.000000  1.664091e+06\n",
       "max     2016.000000      1.000000      5.000000  22338.000000  4.380521e+07"
      ]
     },
     "execution_count": 18,
     "metadata": {},
     "output_type": "execute_result"
    }
   ],
   "source": [
    "df1.describe()"
   ]
  },
  {
   "cell_type": "code",
   "execution_count": 19,
   "metadata": {},
   "outputs": [
    {
     "data": {
      "text/plain": [
       "<matplotlib.axes._subplots.AxesSubplot at 0x136998b0630>"
      ]
     },
     "execution_count": 19,
     "metadata": {},
     "output_type": "execute_result"
    },
    {
     "data": {
      "image/png": "[encoded data removed]",
      "text/plain": [
       "<Figure size 1296x720 with 1 Axes>"
      ]
     },
     "metadata": {
      "needs_background": "light"
     },
     "output_type": "display_data"
    }
   ],
   "source": [
    " \n",
    "plt.figure(figsize=(18,10))\n",
    "sns.boxplot(x=\"population\",data=df1)"
   ]
  },
  {
   "cell_type": "code",
   "execution_count": 20,
   "metadata": {},
   "outputs": [
    {
     "data": {
      "text/plain": [
       "<matplotlib.axes._subplots.AxesSubplot at 0x136998a1898>"
      ]
     },
     "execution_count": 20,
     "metadata": {},
     "output_type": "execute_result"
    },
    {
     "data": {
      "image/png": "[encoded data removed]",
      "text/plain": [
       "<Figure size 1296x720 with 1 Axes>"
      ]
     },
     "metadata": {
      "needs_background": "light"
     },
     "output_type": "display_data"
    }
   ],
   "source": [
    " \n",
    "plt.figure(figsize=(18,10))\n",
    "sns.boxplot(x=\"suicides_no\",data=df1)"
   ]
  },
  {
   "cell_type": "code",
   "execution_count": 21,
   "metadata": {},
   "outputs": [
    {
     "name": "stdout",
     "output_type": "stream",
     "text": [
      "Q1: [%d] ,Q3: [%d] 1.0 124.0 123.0\n",
      "(43776,)\n"
     ]
    },
    {
     "data": {
      "text/html": [
       "<div>\n",
       "<style scoped>\n",
       "    .dataframe tbody tr th:only-of-type {\n",
       "        vertical-align: middle;\n",
       "    }\n",
       "\n",
       "    .dataframe tbody tr th {\n",
       "        vertical-align: top;\n",
       "    }\n",
       "\n",
       "    .dataframe thead th {\n",
       "        text-align: right;\n",
       "    }\n",
       "</style>\n",
       "<table border=\"1\" class=\"dataframe\">\n",
       "  <thead>\n",
       "    <tr style=\"text-align: right;\">\n",
       "      <th></th>\n",
       "      <th>country</th>\n",
       "      <th>year</th>\n",
       "      <th>sex</th>\n",
       "      <th>age</th>\n",
       "      <th>suicides_no</th>\n",
       "      <th>population</th>\n",
       "    </tr>\n",
       "  </thead>\n",
       "  <tbody>\n",
       "    <tr>\n",
       "      <th>1064</th>\n",
       "      <td>Argentina</td>\n",
       "      <td>1979</td>\n",
       "      <td>male</td>\n",
       "      <td>35-54 years</td>\n",
       "      <td>421.0</td>\n",
       "      <td>3299000.0</td>\n",
       "    </tr>\n",
       "    <tr>\n",
       "      <th>1066</th>\n",
       "      <td>Argentina</td>\n",
       "      <td>1979</td>\n",
       "      <td>male</td>\n",
       "      <td>55-74 years</td>\n",
       "      <td>395.0</td>\n",
       "      <td>1852000.0</td>\n",
       "    </tr>\n",
       "    <tr>\n",
       "      <th>1076</th>\n",
       "      <td>Argentina</td>\n",
       "      <td>1980</td>\n",
       "      <td>male</td>\n",
       "      <td>35-54 years</td>\n",
       "      <td>447.0</td>\n",
       "      <td>3086700.0</td>\n",
       "    </tr>\n",
       "    <tr>\n",
       "      <th>1078</th>\n",
       "      <td>Argentina</td>\n",
       "      <td>1980</td>\n",
       "      <td>male</td>\n",
       "      <td>55-74 years</td>\n",
       "      <td>489.0</td>\n",
       "      <td>1766100.0</td>\n",
       "    </tr>\n",
       "    <tr>\n",
       "      <th>1088</th>\n",
       "      <td>Argentina</td>\n",
       "      <td>1981</td>\n",
       "      <td>male</td>\n",
       "      <td>35-54 years</td>\n",
       "      <td>547.0</td>\n",
       "      <td>3159800.0</td>\n",
       "    </tr>\n",
       "    <tr>\n",
       "      <th>1090</th>\n",
       "      <td>Argentina</td>\n",
       "      <td>1981</td>\n",
       "      <td>male</td>\n",
       "      <td>55-74 years</td>\n",
       "      <td>537.0</td>\n",
       "      <td>1834200.0</td>\n",
       "    </tr>\n",
       "    <tr>\n",
       "      <th>1100</th>\n",
       "      <td>Argentina</td>\n",
       "      <td>1982</td>\n",
       "      <td>male</td>\n",
       "      <td>35-54 years</td>\n",
       "      <td>450.0</td>\n",
       "      <td>3350000.0</td>\n",
       "    </tr>\n",
       "    <tr>\n",
       "      <th>1102</th>\n",
       "      <td>Argentina</td>\n",
       "      <td>1982</td>\n",
       "      <td>male</td>\n",
       "      <td>55-74 years</td>\n",
       "      <td>483.0</td>\n",
       "      <td>1989000.0</td>\n",
       "    </tr>\n",
       "    <tr>\n",
       "      <th>1112</th>\n",
       "      <td>Argentina</td>\n",
       "      <td>1983</td>\n",
       "      <td>male</td>\n",
       "      <td>35-54 years</td>\n",
       "      <td>338.0</td>\n",
       "      <td>3405000.0</td>\n",
       "    </tr>\n",
       "    <tr>\n",
       "      <th>1114</th>\n",
       "      <td>Argentina</td>\n",
       "      <td>1983</td>\n",
       "      <td>male</td>\n",
       "      <td>55-74 years</td>\n",
       "      <td>502.0</td>\n",
       "      <td>2021000.0</td>\n",
       "    </tr>\n",
       "    <tr>\n",
       "      <th>1124</th>\n",
       "      <td>Argentina</td>\n",
       "      <td>1984</td>\n",
       "      <td>male</td>\n",
       "      <td>35-54 years</td>\n",
       "      <td>415.0</td>\n",
       "      <td>3294800.0</td>\n",
       "    </tr>\n",
       "    <tr>\n",
       "      <th>1126</th>\n",
       "      <td>Argentina</td>\n",
       "      <td>1984</td>\n",
       "      <td>male</td>\n",
       "      <td>55-74 years</td>\n",
       "      <td>494.0</td>\n",
       "      <td>1966200.0</td>\n",
       "    </tr>\n",
       "    <tr>\n",
       "      <th>1136</th>\n",
       "      <td>Argentina</td>\n",
       "      <td>1985</td>\n",
       "      <td>male</td>\n",
       "      <td>35-54 years</td>\n",
       "      <td>414.0</td>\n",
       "      <td>3346300.0</td>\n",
       "    </tr>\n",
       "    <tr>\n",
       "      <th>1138</th>\n",
       "      <td>Argentina</td>\n",
       "      <td>1985</td>\n",
       "      <td>male</td>\n",
       "      <td>55-74 years</td>\n",
       "      <td>485.0</td>\n",
       "      <td>1997000.0</td>\n",
       "    </tr>\n",
       "    <tr>\n",
       "      <th>1148</th>\n",
       "      <td>Argentina</td>\n",
       "      <td>1986</td>\n",
       "      <td>male</td>\n",
       "      <td>35-54 years</td>\n",
       "      <td>478.0</td>\n",
       "      <td>3365200.0</td>\n",
       "    </tr>\n",
       "    <tr>\n",
       "      <th>1150</th>\n",
       "      <td>Argentina</td>\n",
       "      <td>1986</td>\n",
       "      <td>male</td>\n",
       "      <td>55-74 years</td>\n",
       "      <td>530.0</td>\n",
       "      <td>2008300.0</td>\n",
       "    </tr>\n",
       "    <tr>\n",
       "      <th>1160</th>\n",
       "      <td>Argentina</td>\n",
       "      <td>1987</td>\n",
       "      <td>male</td>\n",
       "      <td>35-54 years</td>\n",
       "      <td>482.0</td>\n",
       "      <td>3409100.0</td>\n",
       "    </tr>\n",
       "    <tr>\n",
       "      <th>1162</th>\n",
       "      <td>Argentina</td>\n",
       "      <td>1987</td>\n",
       "      <td>male</td>\n",
       "      <td>55-74 years</td>\n",
       "      <td>532.0</td>\n",
       "      <td>2034500.0</td>\n",
       "    </tr>\n",
       "    <tr>\n",
       "      <th>1172</th>\n",
       "      <td>Argentina</td>\n",
       "      <td>1988</td>\n",
       "      <td>male</td>\n",
       "      <td>35-54 years</td>\n",
       "      <td>477.0</td>\n",
       "      <td>3503000.0</td>\n",
       "    </tr>\n",
       "    <tr>\n",
       "      <th>1174</th>\n",
       "      <td>Argentina</td>\n",
       "      <td>1988</td>\n",
       "      <td>male</td>\n",
       "      <td>55-74 years</td>\n",
       "      <td>550.0</td>\n",
       "      <td>2079000.0</td>\n",
       "    </tr>\n",
       "    <tr>\n",
       "      <th>1184</th>\n",
       "      <td>Argentina</td>\n",
       "      <td>1989</td>\n",
       "      <td>male</td>\n",
       "      <td>35-54 years</td>\n",
       "      <td>462.0</td>\n",
       "      <td>3561000.0</td>\n",
       "    </tr>\n",
       "    <tr>\n",
       "      <th>1186</th>\n",
       "      <td>Argentina</td>\n",
       "      <td>1989</td>\n",
       "      <td>male</td>\n",
       "      <td>55-74 years</td>\n",
       "      <td>548.0</td>\n",
       "      <td>2105000.0</td>\n",
       "    </tr>\n",
       "    <tr>\n",
       "      <th>1196</th>\n",
       "      <td>Argentina</td>\n",
       "      <td>1990</td>\n",
       "      <td>male</td>\n",
       "      <td>35-54 years</td>\n",
       "      <td>439.0</td>\n",
       "      <td>3619000.0</td>\n",
       "    </tr>\n",
       "    <tr>\n",
       "      <th>1198</th>\n",
       "      <td>Argentina</td>\n",
       "      <td>1990</td>\n",
       "      <td>male</td>\n",
       "      <td>55-74 years</td>\n",
       "      <td>502.0</td>\n",
       "      <td>2128000.0</td>\n",
       "    </tr>\n",
       "    <tr>\n",
       "      <th>1208</th>\n",
       "      <td>Argentina</td>\n",
       "      <td>1991</td>\n",
       "      <td>male</td>\n",
       "      <td>35-54 years</td>\n",
       "      <td>398.0</td>\n",
       "      <td>3580000.0</td>\n",
       "    </tr>\n",
       "    <tr>\n",
       "      <th>1210</th>\n",
       "      <td>Argentina</td>\n",
       "      <td>1991</td>\n",
       "      <td>male</td>\n",
       "      <td>55-74 years</td>\n",
       "      <td>449.0</td>\n",
       "      <td>2130000.0</td>\n",
       "    </tr>\n",
       "    <tr>\n",
       "      <th>1220</th>\n",
       "      <td>Argentina</td>\n",
       "      <td>1992</td>\n",
       "      <td>male</td>\n",
       "      <td>35-54 years</td>\n",
       "      <td>488.0</td>\n",
       "      <td>3616600.0</td>\n",
       "    </tr>\n",
       "    <tr>\n",
       "      <th>1222</th>\n",
       "      <td>Argentina</td>\n",
       "      <td>1992</td>\n",
       "      <td>male</td>\n",
       "      <td>55-74 years</td>\n",
       "      <td>500.0</td>\n",
       "      <td>2150500.0</td>\n",
       "    </tr>\n",
       "    <tr>\n",
       "      <th>1232</th>\n",
       "      <td>Argentina</td>\n",
       "      <td>1993</td>\n",
       "      <td>male</td>\n",
       "      <td>35-54 years</td>\n",
       "      <td>495.0</td>\n",
       "      <td>3672300.0</td>\n",
       "    </tr>\n",
       "    <tr>\n",
       "      <th>1234</th>\n",
       "      <td>Argentina</td>\n",
       "      <td>1993</td>\n",
       "      <td>male</td>\n",
       "      <td>55-74 years</td>\n",
       "      <td>520.0</td>\n",
       "      <td>2171500.0</td>\n",
       "    </tr>\n",
       "    <tr>\n",
       "      <th>...</th>\n",
       "      <td>...</td>\n",
       "      <td>...</td>\n",
       "      <td>...</td>\n",
       "      <td>...</td>\n",
       "      <td>...</td>\n",
       "      <td>...</td>\n",
       "    </tr>\n",
       "    <tr>\n",
       "      <th>42991</th>\n",
       "      <td>Uzbekistan</td>\n",
       "      <td>1999</td>\n",
       "      <td>male</td>\n",
       "      <td>25-34 years</td>\n",
       "      <td>361.0</td>\n",
       "      <td>1811725.0</td>\n",
       "    </tr>\n",
       "    <tr>\n",
       "      <th>42992</th>\n",
       "      <td>Uzbekistan</td>\n",
       "      <td>1999</td>\n",
       "      <td>male</td>\n",
       "      <td>35-54 years</td>\n",
       "      <td>491.0</td>\n",
       "      <td>2177216.0</td>\n",
       "    </tr>\n",
       "    <tr>\n",
       "      <th>43002</th>\n",
       "      <td>Uzbekistan</td>\n",
       "      <td>2000</td>\n",
       "      <td>male</td>\n",
       "      <td>15-24 years</td>\n",
       "      <td>350.0</td>\n",
       "      <td>2492264.0</td>\n",
       "    </tr>\n",
       "    <tr>\n",
       "      <th>43003</th>\n",
       "      <td>Uzbekistan</td>\n",
       "      <td>2000</td>\n",
       "      <td>male</td>\n",
       "      <td>25-34 years</td>\n",
       "      <td>355.0</td>\n",
       "      <td>1843476.0</td>\n",
       "    </tr>\n",
       "    <tr>\n",
       "      <th>43004</th>\n",
       "      <td>Uzbekistan</td>\n",
       "      <td>2000</td>\n",
       "      <td>male</td>\n",
       "      <td>35-54 years</td>\n",
       "      <td>528.0</td>\n",
       "      <td>2289656.0</td>\n",
       "    </tr>\n",
       "    <tr>\n",
       "      <th>43014</th>\n",
       "      <td>Uzbekistan</td>\n",
       "      <td>2001</td>\n",
       "      <td>male</td>\n",
       "      <td>15-24 years</td>\n",
       "      <td>363.0</td>\n",
       "      <td>2580294.0</td>\n",
       "    </tr>\n",
       "    <tr>\n",
       "      <th>43015</th>\n",
       "      <td>Uzbekistan</td>\n",
       "      <td>2001</td>\n",
       "      <td>male</td>\n",
       "      <td>25-34 years</td>\n",
       "      <td>377.0</td>\n",
       "      <td>1884542.0</td>\n",
       "    </tr>\n",
       "    <tr>\n",
       "      <th>43016</th>\n",
       "      <td>Uzbekistan</td>\n",
       "      <td>2001</td>\n",
       "      <td>male</td>\n",
       "      <td>35-54 years</td>\n",
       "      <td>513.0</td>\n",
       "      <td>2389813.0</td>\n",
       "    </tr>\n",
       "    <tr>\n",
       "      <th>43026</th>\n",
       "      <td>Uzbekistan</td>\n",
       "      <td>2002</td>\n",
       "      <td>male</td>\n",
       "      <td>15-24 years</td>\n",
       "      <td>325.0</td>\n",
       "      <td>2672936.0</td>\n",
       "    </tr>\n",
       "    <tr>\n",
       "      <th>43028</th>\n",
       "      <td>Uzbekistan</td>\n",
       "      <td>2002</td>\n",
       "      <td>male</td>\n",
       "      <td>35-54 years</td>\n",
       "      <td>398.0</td>\n",
       "      <td>2474921.0</td>\n",
       "    </tr>\n",
       "    <tr>\n",
       "      <th>43040</th>\n",
       "      <td>Uzbekistan</td>\n",
       "      <td>2003</td>\n",
       "      <td>male</td>\n",
       "      <td>35-54 years</td>\n",
       "      <td>385.0</td>\n",
       "      <td>2557625.0</td>\n",
       "    </tr>\n",
       "    <tr>\n",
       "      <th>43052</th>\n",
       "      <td>Uzbekistan</td>\n",
       "      <td>2004</td>\n",
       "      <td>male</td>\n",
       "      <td>35-54 years</td>\n",
       "      <td>350.0</td>\n",
       "      <td>2639741.0</td>\n",
       "    </tr>\n",
       "    <tr>\n",
       "      <th>43064</th>\n",
       "      <td>Uzbekistan</td>\n",
       "      <td>2005</td>\n",
       "      <td>male</td>\n",
       "      <td>35-54 years</td>\n",
       "      <td>362.0</td>\n",
       "      <td>2712283.0</td>\n",
       "    </tr>\n",
       "    <tr>\n",
       "      <th>43076</th>\n",
       "      <td>Uzbekistan</td>\n",
       "      <td>2009</td>\n",
       "      <td>male</td>\n",
       "      <td>35-54 years</td>\n",
       "      <td>404.0</td>\n",
       "      <td>3072025.0</td>\n",
       "    </tr>\n",
       "    <tr>\n",
       "      <th>43088</th>\n",
       "      <td>Uzbekistan</td>\n",
       "      <td>2010</td>\n",
       "      <td>male</td>\n",
       "      <td>35-54 years</td>\n",
       "      <td>371.0</td>\n",
       "      <td>3142694.0</td>\n",
       "    </tr>\n",
       "    <tr>\n",
       "      <th>43100</th>\n",
       "      <td>Uzbekistan</td>\n",
       "      <td>2011</td>\n",
       "      <td>male</td>\n",
       "      <td>35-54 years</td>\n",
       "      <td>457.0</td>\n",
       "      <td>3204569.0</td>\n",
       "    </tr>\n",
       "    <tr>\n",
       "      <th>43104</th>\n",
       "      <td>Uzbekistan</td>\n",
       "      <td>2012</td>\n",
       "      <td>female</td>\n",
       "      <td>15-24 years</td>\n",
       "      <td>333.0</td>\n",
       "      <td>3072826.0</td>\n",
       "    </tr>\n",
       "    <tr>\n",
       "      <th>43110</th>\n",
       "      <td>Uzbekistan</td>\n",
       "      <td>2012</td>\n",
       "      <td>male</td>\n",
       "      <td>15-24 years</td>\n",
       "      <td>311.0</td>\n",
       "      <td>3199204.0</td>\n",
       "    </tr>\n",
       "    <tr>\n",
       "      <th>43112</th>\n",
       "      <td>Uzbekistan</td>\n",
       "      <td>2012</td>\n",
       "      <td>male</td>\n",
       "      <td>35-54 years</td>\n",
       "      <td>404.0</td>\n",
       "      <td>3273281.0</td>\n",
       "    </tr>\n",
       "    <tr>\n",
       "      <th>43116</th>\n",
       "      <td>Uzbekistan</td>\n",
       "      <td>2013</td>\n",
       "      <td>female</td>\n",
       "      <td>15-24 years</td>\n",
       "      <td>323.0</td>\n",
       "      <td>3039740.0</td>\n",
       "    </tr>\n",
       "    <tr>\n",
       "      <th>43122</th>\n",
       "      <td>Uzbekistan</td>\n",
       "      <td>2013</td>\n",
       "      <td>male</td>\n",
       "      <td>15-24 years</td>\n",
       "      <td>320.0</td>\n",
       "      <td>3171202.0</td>\n",
       "    </tr>\n",
       "    <tr>\n",
       "      <th>43123</th>\n",
       "      <td>Uzbekistan</td>\n",
       "      <td>2013</td>\n",
       "      <td>male</td>\n",
       "      <td>25-34 years</td>\n",
       "      <td>328.0</td>\n",
       "      <td>2644648.0</td>\n",
       "    </tr>\n",
       "    <tr>\n",
       "      <th>43124</th>\n",
       "      <td>Uzbekistan</td>\n",
       "      <td>2013</td>\n",
       "      <td>male</td>\n",
       "      <td>35-54 years</td>\n",
       "      <td>481.0</td>\n",
       "      <td>3346411.0</td>\n",
       "    </tr>\n",
       "    <tr>\n",
       "      <th>43128</th>\n",
       "      <td>Uzbekistan</td>\n",
       "      <td>2014</td>\n",
       "      <td>female</td>\n",
       "      <td>15-24 years</td>\n",
       "      <td>347.0</td>\n",
       "      <td>2992817.0</td>\n",
       "    </tr>\n",
       "    <tr>\n",
       "      <th>43134</th>\n",
       "      <td>Uzbekistan</td>\n",
       "      <td>2014</td>\n",
       "      <td>male</td>\n",
       "      <td>15-24 years</td>\n",
       "      <td>347.0</td>\n",
       "      <td>3126905.0</td>\n",
       "    </tr>\n",
       "    <tr>\n",
       "      <th>43135</th>\n",
       "      <td>Uzbekistan</td>\n",
       "      <td>2014</td>\n",
       "      <td>male</td>\n",
       "      <td>25-34 years</td>\n",
       "      <td>318.0</td>\n",
       "      <td>2739150.0</td>\n",
       "    </tr>\n",
       "    <tr>\n",
       "      <th>43136</th>\n",
       "      <td>Uzbekistan</td>\n",
       "      <td>2014</td>\n",
       "      <td>male</td>\n",
       "      <td>35-54 years</td>\n",
       "      <td>519.0</td>\n",
       "      <td>3421300.0</td>\n",
       "    </tr>\n",
       "    <tr>\n",
       "      <th>43374</th>\n",
       "      <td>Venezuela (Bolivarian Republic of)</td>\n",
       "      <td>2001</td>\n",
       "      <td>male</td>\n",
       "      <td>15-24 years</td>\n",
       "      <td>311.0</td>\n",
       "      <td>2444242.0</td>\n",
       "    </tr>\n",
       "    <tr>\n",
       "      <th>43376</th>\n",
       "      <td>Venezuela (Bolivarian Republic of)</td>\n",
       "      <td>2001</td>\n",
       "      <td>male</td>\n",
       "      <td>35-54 years</td>\n",
       "      <td>354.0</td>\n",
       "      <td>2674679.0</td>\n",
       "    </tr>\n",
       "    <tr>\n",
       "      <th>43388</th>\n",
       "      <td>Venezuela (Bolivarian Republic of)</td>\n",
       "      <td>2002</td>\n",
       "      <td>male</td>\n",
       "      <td>35-54 years</td>\n",
       "      <td>318.0</td>\n",
       "      <td>2768111.0</td>\n",
       "    </tr>\n",
       "  </tbody>\n",
       "</table>\n",
       "<p>4754 rows × 6 columns</p>\n",
       "</div>"
      ],
      "text/plain": [
       "                                  country  year     sex          age  \\\n",
       "1064                            Argentina  1979    male  35-54 years   \n",
       "1066                            Argentina  1979    male  55-74 years   \n",
       "1076                            Argentina  1980    male  35-54 years   \n",
       "1078                            Argentina  1980    male  55-74 years   \n",
       "1088                            Argentina  1981    male  35-54 years   \n",
       "1090                            Argentina  1981    male  55-74 years   \n",
       "1100                            Argentina  1982    male  35-54 years   \n",
       "1102                            Argentina  1982    male  55-74 years   \n",
       "1112                            Argentina  1983    male  35-54 years   \n",
       "1114                            Argentina  1983    male  55-74 years   \n",
       "1124                            Argentina  1984    male  35-54 years   \n",
       "1126                            Argentina  1984    male  55-74 years   \n",
       "1136                            Argentina  1985    male  35-54 years   \n",
       "1138                            Argentina  1985    male  55-74 years   \n",
       "1148                            Argentina  1986    male  35-54 years   \n",
       "1150                            Argentina  1986    male  55-74 years   \n",
       "1160                            Argentina  1987    male  35-54 years   \n",
       "1162                            Argentina  1987    male  55-74 years   \n",
       "1172                            Argentina  1988    male  35-54 years   \n",
       "1174                            Argentina  1988    male  55-74 years   \n",
       "1184                            Argentina  1989    male  35-54 years   \n",
       "1186                            Argentina  1989    male  55-74 years   \n",
       "1196                            Argentina  1990    male  35-54 years   \n",
       "1198                            Argentina  1990    male  55-74 years   \n",
       "1208                            Argentina  1991    male  35-54 years   \n",
       "1210                            Argentina  1991    male  55-74 years   \n",
       "1220                            Argentina  1992    male  35-54 years   \n",
       "1222                            Argentina  1992    male  55-74 years   \n",
       "1232                            Argentina  1993    male  35-54 years   \n",
       "1234                            Argentina  1993    male  55-74 years   \n",
       "...                                   ...   ...     ...          ...   \n",
       "42991                          Uzbekistan  1999    male  25-34 years   \n",
       "42992                          Uzbekistan  1999    male  35-54 years   \n",
       "43002                          Uzbekistan  2000    male  15-24 years   \n",
       "43003                          Uzbekistan  2000    male  25-34 years   \n",
       "43004                          Uzbekistan  2000    male  35-54 years   \n",
       "43014                          Uzbekistan  2001    male  15-24 years   \n",
       "43015                          Uzbekistan  2001    male  25-34 years   \n",
       "43016                          Uzbekistan  2001    male  35-54 years   \n",
       "43026                          Uzbekistan  2002    male  15-24 years   \n",
       "43028                          Uzbekistan  2002    male  35-54 years   \n",
       "43040                          Uzbekistan  2003    male  35-54 years   \n",
       "43052                          Uzbekistan  2004    male  35-54 years   \n",
       "43064                          Uzbekistan  2005    male  35-54 years   \n",
       "43076                          Uzbekistan  2009    male  35-54 years   \n",
       "43088                          Uzbekistan  2010    male  35-54 years   \n",
       "43100                          Uzbekistan  2011    male  35-54 years   \n",
       "43104                          Uzbekistan  2012  female  15-24 years   \n",
       "43110                          Uzbekistan  2012    male  15-24 years   \n",
       "43112                          Uzbekistan  2012    male  35-54 years   \n",
       "43116                          Uzbekistan  2013  female  15-24 years   \n",
       "43122                          Uzbekistan  2013    male  15-24 years   \n",
       "43123                          Uzbekistan  2013    male  25-34 years   \n",
       "43124                          Uzbekistan  2013    male  35-54 years   \n",
       "43128                          Uzbekistan  2014  female  15-24 years   \n",
       "43134                          Uzbekistan  2014    male  15-24 years   \n",
       "43135                          Uzbekistan  2014    male  25-34 years   \n",
       "43136                          Uzbekistan  2014    male  35-54 years   \n",
       "43374  Venezuela (Bolivarian Republic of)  2001    male  15-24 years   \n",
       "43376  Venezuela (Bolivarian Republic of)  2001    male  35-54 years   \n",
       "43388  Venezuela (Bolivarian Republic of)  2002    male  35-54 years   \n",
       "\n",
       "       suicides_no  population  \n",
       "1064         421.0   3299000.0  \n",
       "1066         395.0   1852000.0  \n",
       "1076         447.0   3086700.0  \n",
       "1078         489.0   1766100.0  \n",
       "1088         547.0   3159800.0  \n",
       "1090         537.0   1834200.0  \n",
       "1100         450.0   3350000.0  \n",
       "1102         483.0   1989000.0  \n",
       "1112         338.0   3405000.0  \n",
       "1114         502.0   2021000.0  \n",
       "1124         415.0   3294800.0  \n",
       "1126         494.0   1966200.0  \n",
       "1136         414.0   3346300.0  \n",
       "1138         485.0   1997000.0  \n",
       "1148         478.0   3365200.0  \n",
       "1150         530.0   2008300.0  \n",
       "1160         482.0   3409100.0  \n",
       "1162         532.0   2034500.0  \n",
       "1172         477.0   3503000.0  \n",
       "1174         550.0   2079000.0  \n",
       "1184         462.0   3561000.0  \n",
       "1186         548.0   2105000.0  \n",
       "1196         439.0   3619000.0  \n",
       "1198         502.0   2128000.0  \n",
       "1208         398.0   3580000.0  \n",
       "1210         449.0   2130000.0  \n",
       "1220         488.0   3616600.0  \n",
       "1222         500.0   2150500.0  \n",
       "1232         495.0   3672300.0  \n",
       "1234         520.0   2171500.0  \n",
       "...            ...         ...  \n",
       "42991        361.0   1811725.0  \n",
       "42992        491.0   2177216.0  \n",
       "43002        350.0   2492264.0  \n",
       "43003        355.0   1843476.0  \n",
       "43004        528.0   2289656.0  \n",
       "43014        363.0   2580294.0  \n",
       "43015        377.0   1884542.0  \n",
       "43016        513.0   2389813.0  \n",
       "43026        325.0   2672936.0  \n",
       "43028        398.0   2474921.0  \n",
       "43040        385.0   2557625.0  \n",
       "43052        350.0   2639741.0  \n",
       "43064        362.0   2712283.0  \n",
       "43076        404.0   3072025.0  \n",
       "43088        371.0   3142694.0  \n",
       "43100        457.0   3204569.0  \n",
       "43104        333.0   3072826.0  \n",
       "43110        311.0   3199204.0  \n",
       "43112        404.0   3273281.0  \n",
       "43116        323.0   3039740.0  \n",
       "43122        320.0   3171202.0  \n",
       "43123        328.0   2644648.0  \n",
       "43124        481.0   3346411.0  \n",
       "43128        347.0   2992817.0  \n",
       "43134        347.0   3126905.0  \n",
       "43135        318.0   2739150.0  \n",
       "43136        519.0   3421300.0  \n",
       "43374        311.0   2444242.0  \n",
       "43376        354.0   2674679.0  \n",
       "43388        318.0   2768111.0  \n",
       "\n",
       "[4754 rows x 6 columns]"
      ]
     },
     "execution_count": 21,
     "metadata": {},
     "output_type": "execute_result"
    }
   ],
   "source": [
    "Q1=df['suicides_no'].quantile(0.25)\n",
    "\n",
    "Q3=df['suicides_no'].quantile(0.75)\n",
    "IQR=Q3-Q1\n",
    "print(\"Q1: [%d] ,Q3: [%d]\", Q1,Q3,IQR)\n",
    "print(df['suicides_no'].shape)\n",
    "df_copy=df[~np.logical_or(df['suicides_no']<(Q1-1.5*IQR),df['suicides_no']>(Q3+1.5*IQR))]\n",
    "var=Q1-1.5*IQR\n",
    "\n",
    "var=Q3+1.5*IQR\n",
    "\n",
    "df[df['suicides_no']>var]"
   ]
  },
  {
   "cell_type": "code",
   "execution_count": 22,
   "metadata": {},
   "outputs": [
    {
     "name": "stdout",
     "output_type": "stream",
     "text": [
      "After removing outliers of Population, data left : %.0f (42800, 7)\n"
     ]
    }
   ],
   "source": [
    "outliers=[]\n",
    "def detect_outlier(data_1):\n",
    "    \n",
    "    threshold=3\n",
    "    mean_1 = np.mean(data_1)\n",
    "    std_1 =np.std(data_1)\n",
    "    \n",
    "    \n",
    "    for y in data_1:\n",
    "        z_score= (y - mean_1)/std_1 \n",
    "        if np.abs(z_score) > threshold:\n",
    "            outliers.append(y)\n",
    "            \n",
    "   \n",
    "    return outliers\n",
    "\n",
    "dfcopy=df1\n",
    "threshold=3\n",
    "lst=[]\n",
    "count=0\n",
    "mean_1=np.mean(df1['population'])\n",
    "std_1=np.std(df1['population'])\n",
    "for y in df1['population']:\n",
    "    z_score=(y-mean_1)/std_1\n",
    "    lst.append(z_score)\n",
    "    if np.abs(z_score) > threshold:\n",
    "        count=count+1\n",
    "dfcopy['zScore_pop']=lst  \n",
    "\n",
    "dfcopy1=dfcopy[np.abs(dfcopy['zScore_pop']) < threshold]    \n",
    "dfcopy1.shape\n",
    "print(\"After removing outliers of Population, data left : %.0f\", dfcopy1.shape)"
   ]
  },
  {
   "cell_type": "code",
   "execution_count": 23,
   "metadata": {},
   "outputs": [],
   "source": [
    "outlier_datapoints = detect_outlier(df1['population'])\n",
    "out=pd.DataFrame(outlier_datapoints)\n"
   ]
  },
  {
   "cell_type": "code",
   "execution_count": 24,
   "metadata": {},
   "outputs": [
    {
     "name": "stdout",
     "output_type": "stream",
     "text": [
      "After removing outliers of Scuicide_no, data left : %.0f (42219, 8)\n"
     ]
    },
    {
     "name": "stderr",
     "output_type": "stream",
     "text": [
      "C:\\Users\\Ahmed\\Anaconda3\\lib\\site-packages\\ipykernel_launcher.py:10: SettingWithCopyWarning: \n",
      "A value is trying to be set on a copy of a slice from a DataFrame.\n",
      "Try using .loc[row_indexer,col_indexer] = value instead\n",
      "\n",
      "See the caveats in the documentation: http://pandas.pydata.org/pandas-docs/stable/indexing.html#indexing-view-versus-copy\n",
      "  # Remove the CWD from sys.path while we load stuff.\n"
     ]
    }
   ],
   "source": [
    "lst=[]\n",
    "count=0\n",
    "mean_1=np.mean(dfcopy1['suicides_no'])\n",
    "std_1=np.std(dfcopy1['suicides_no'])\n",
    "for y in dfcopy1['suicides_no']:\n",
    "    z_score=(y-mean_1)/std_1\n",
    "    lst.append(z_score)\n",
    "    if np.abs(z_score) > threshold:\n",
    "        count=count+1\n",
    "dfcopy1['zScore_sui']=lst  \n",
    "\n",
    "df2=dfcopy1[np.abs(dfcopy1['zScore_sui']) < threshold]    \n",
    "df2.shape\n",
    "print(\"After removing outliers of Scuicide_no, data left : %.0f\", df2.shape)"
   ]
  },
  {
   "cell_type": "code",
   "execution_count": 25,
   "metadata": {},
   "outputs": [
    {
     "data": {
      "text/plain": [
       "<matplotlib.axes._subplots.AxesSubplot at 0x136984f2438>"
      ]
     },
     "execution_count": 25,
     "metadata": {},
     "output_type": "execute_result"
    },
    {
     "data": {
      "image/png": "[encoded data removed]",
      "text/plain": [
       "<Figure size 1296x720 with 1 Axes>"
      ]
     },
     "metadata": {
      "needs_background": "light"
     },
     "output_type": "display_data"
    }
   ],
   "source": [
    "plt.figure(figsize=(18,10))\n",
    "sns.boxplot(x=\"population\",data=df2)"
   ]
  },
  {
   "cell_type": "code",
   "execution_count": 26,
   "metadata": {
    "scrolled": false
   },
   "outputs": [
    {
     "data": {
      "text/plain": [
       "<matplotlib.axes._subplots.AxesSubplot at 0x13699691198>"
      ]
     },
     "execution_count": 26,
     "metadata": {},
     "output_type": "execute_result"
    },
    {
     "data": {
      "image/png": "[encoded data removed]",
      "text/plain": [
       "<Figure size 1296x720 with 1 Axes>"
      ]
     },
     "metadata": {
      "needs_background": "light"
     },
     "output_type": "display_data"
    }
   ],
   "source": [
    "plt.figure(figsize=(18,10))\n",
    "sns.boxplot(x=\"suicides_no\",data=df2)"
   ]
  },
  {
   "cell_type": "code",
   "execution_count": 27,
   "metadata": {},
   "outputs": [
    {
     "name": "stderr",
     "output_type": "stream",
     "text": [
      "C:\\Users\\Ahmed\\Anaconda3\\lib\\site-packages\\ipykernel_launcher.py:1: SettingWithCopyWarning: \n",
      "A value is trying to be set on a copy of a slice from a DataFrame.\n",
      "Try using .loc[row_indexer,col_indexer] = value instead\n",
      "\n",
      "See the caveats in the documentation: http://pandas.pydata.org/pandas-docs/stable/indexing.html#indexing-view-versus-copy\n",
      "  \"\"\"Entry point for launching an IPython kernel.\n"
     ]
    }
   ],
   "source": [
    "df2['suicdes_per_100k']=(df2['suicides_no']/df2['population']*100000)"
   ]
  },
  {
   "cell_type": "code",
   "execution_count": 28,
   "metadata": {},
   "outputs": [
    {
     "name": "stderr",
     "output_type": "stream",
     "text": [
      "C:\\Users\\Ahmed\\Anaconda3\\lib\\site-packages\\ipykernel_launcher.py:1: SettingWithCopyWarning: \n",
      "A value is trying to be set on a copy of a slice from a DataFrame.\n",
      "Try using .loc[row_indexer,col_indexer] = value instead\n",
      "\n",
      "See the caveats in the documentation: http://pandas.pydata.org/pandas-docs/stable/indexing.html#indexing-view-versus-copy\n",
      "  \"\"\"Entry point for launching an IPython kernel.\n"
     ]
    }
   ],
   "source": [
    "df2['suicdes_per_100k']=df2['suicdes_per_100k'].astype(int)"
   ]
  },
  {
   "cell_type": "code",
   "execution_count": 29,
   "metadata": {},
   "outputs": [
    {
     "name": "stderr",
     "output_type": "stream",
     "text": [
      "C:\\Users\\Ahmed\\Anaconda3\\lib\\site-packages\\ipykernel_launcher.py:1: SettingWithCopyWarning: \n",
      "A value is trying to be set on a copy of a slice from a DataFrame.\n",
      "Try using .loc[row_indexer,col_indexer] = value instead\n",
      "\n",
      "See the caveats in the documentation: http://pandas.pydata.org/pandas-docs/stable/indexing.html#indexing-view-versus-copy\n",
      "  \"\"\"Entry point for launching an IPython kernel.\n"
     ]
    }
   ],
   "source": [
    "df2['suicdes_per_100k']=round(df2['suicdes_per_100k'])"
   ]
  },
  {
   "cell_type": "code",
   "execution_count": 30,
   "metadata": {},
   "outputs": [
    {
     "name": "stdout",
     "output_type": "stream",
     "text": [
      "After removing outliers of Scuicide_per_100k, data left : %.0f (42056, 10)\n"
     ]
    },
    {
     "name": "stderr",
     "output_type": "stream",
     "text": [
      "C:\\Users\\Ahmed\\Anaconda3\\lib\\site-packages\\ipykernel_launcher.py:10: SettingWithCopyWarning: \n",
      "A value is trying to be set on a copy of a slice from a DataFrame.\n",
      "Try using .loc[row_indexer,col_indexer] = value instead\n",
      "\n",
      "See the caveats in the documentation: http://pandas.pydata.org/pandas-docs/stable/indexing.html#indexing-view-versus-copy\n",
      "  # Remove the CWD from sys.path while we load stuff.\n"
     ]
    }
   ],
   "source": [
    "lst=[]\n",
    "count=0\n",
    "mean_1=np.mean(df2['suicdes_per_100k'])\n",
    "std_1=np.std(df2['suicdes_per_100k'])\n",
    "for y in df2['suicdes_per_100k']:\n",
    "    z_score=(y-mean_1)/std_1\n",
    "    lst.append(z_score)\n",
    "    if np.abs(z_score) > threshold:\n",
    "        count=count+1\n",
    "df2['zScore_sui_100k']=lst  \n",
    "\n",
    "df2=df2[np.abs(df2['zScore_sui_100k']) < threshold]    \n",
    "df2.shape\n",
    "print(\"After removing outliers of Scuicide_per_100k, data left : %.0f\", df2.shape)"
   ]
  },
  {
   "cell_type": "code",
   "execution_count": 31,
   "metadata": {},
   "outputs": [
    {
     "data": {
      "text/plain": [
       "97"
      ]
     },
     "execution_count": 31,
     "metadata": {},
     "output_type": "execute_result"
    }
   ],
   "source": [
    "lst=pd.DataFrame({'suicide': df2.suicdes_per_100k})\n",
    "#lst.sort_values(by=['suicide'])\n",
    "\n",
    "#lst[lst[suicide]>2000]\n",
    "len(lst[lst['suicide']>1000])"
   ]
  },
  {
   "cell_type": "code",
   "execution_count": 32,
   "metadata": {},
   "outputs": [
    {
     "data": {
      "text/plain": [
       "country              Iceland\n",
       "year                    1980\n",
       "sex                        1\n",
       "age                        5\n",
       "suicides_no              193\n",
       "population              5600\n",
       "zScore_pop         -0.486053\n",
       "zScore_sui          0.134152\n",
       "suicdes_per_100k        3446\n",
       "zScore_sui_100k      2.99879\n",
       "Name: 18665, dtype: object"
      ]
     },
     "execution_count": 32,
     "metadata": {},
     "output_type": "execute_result"
    }
   ],
   "source": [
    "df2.loc[18665]"
   ]
  },
  {
   "cell_type": "code",
   "execution_count": 33,
   "metadata": {},
   "outputs": [
    {
     "data": {
      "text/html": [
       "\n",
       "    <div class=\"bk-root\">\n",
       "        <a href=\"https://bokeh.pydata.org\" target=\"_blank\" class=\"bk-logo bk-logo-small bk-logo-notebook\"></a>\n",
       "        <span id=\"1001\">Loading BokehJS ...</span>\n",
       "    </div>"
      ]
     },
     "metadata": {},
     "output_type": "display_data"
    },
    {
     "data": {
      "application/javascript": [
       "\n",
       "(function(root) {\n",
       "  function now() {\n",
       "    return new Date();\n",
       "  }\n",
       "\n",
       "  var force = true;\n",
       "\n",
       "  if (typeof (root._bokeh_onload_callbacks) === \"undefined\" || force === true) {\n",
       "    root._bokeh_onload_callbacks = [];\n",
       "    root._bokeh_is_loading = undefined;\n",
       "  }\n",
       "\n",
       "  var JS_MIME_TYPE = 'application/javascript';\n",
       "  var HTML_MIME_TYPE = 'text/html';\n",
       "  var EXEC_MIME_TYPE = 'application/vnd.bokehjs_exec.v0+json';\n",
       "  var CLASS_NAME = 'output_bokeh rendered_html';\n",
       "\n",
       "  /**\n",
       "   * Render data to the DOM node\n",
       "   */\n",
       "  function render(props, node) {\n",
       "    var script = document.createElement(\"script\");\n",
       "    node.appendChild(script);\n",
       "  }\n",
       "\n",
       "  /**\n",
       "   * Handle when an output is cleared or removed\n",
       "   */\n",
       "  function handleClearOutput(event, handle) {\n",
       "    var cell = handle.cell;\n",
       "\n",
       "    var id = cell.output_area._bokeh_element_id;\n",
       "    var server_id = cell.output_area._bokeh_server_id;\n",
       "    // Clean up Bokeh references\n",
       "    if (id != null && id in Bokeh.index) {\n",
       "      Bokeh.index[id].model.document.clear();\n",
       "      delete Bokeh.index[id];\n",
       "    }\n",
       "\n",
       "    if (server_id !== undefined) {\n",
       "      // Clean up Bokeh references\n",
       "      var cmd = \"from bokeh.io.state import curstate; print(curstate().uuid_to_server['\" + server_id + \"'].get_sessions()[0].document.roots[0]._id)\";\n",
       "      cell.notebook.kernel.execute(cmd, {\n",
       "        iopub: {\n",
       "          output: function(msg) {\n",
       "            var id = msg.content.text.trim();\n",
       "            if (id in Bokeh.index) {\n",
       "              Bokeh.index[id].model.document.clear();\n",
       "              delete Bokeh.index[id];\n",
       "            }\n",
       "          }\n",
       "        }\n",
       "      });\n",
       "      // Destroy server and session\n",
       "      var cmd = \"import bokeh.io.notebook as ion; ion.destroy_server('\" + server_id + \"')\";\n",
       "      cell.notebook.kernel.execute(cmd);\n",
       "    }\n",
       "  }\n",
       "\n",
       "  /**\n",
       "   * Handle when a new output is added\n",
       "   */\n",
       "  function handleAddOutput(event, handle) {\n",
       "    var output_area = handle.output_area;\n",
       "    var output = handle.output;\n",
       "\n",
       "    // limit handleAddOutput to display_data with EXEC_MIME_TYPE content only\n",
       "    if ((output.output_type != \"display_data\") || (!output.data.hasOwnProperty(EXEC_MIME_TYPE))) {\n",
       "      return\n",
       "    }\n",
       "\n",
       "    var toinsert = output_area.element.find(\".\" + CLASS_NAME.split(' ')[0]);\n",
       "\n",
       "    if (output.metadata[EXEC_MIME_TYPE][\"id\"] !== undefined) {\n",
       "      toinsert[toinsert.length - 1].firstChild.textContent = output.data[JS_MIME_TYPE];\n",
       "      // store reference to embed id on output_area\n",
       "      output_area._bokeh_element_id = output.metadata[EXEC_MIME_TYPE][\"id\"];\n",
       "    }\n",
       "    if (output.metadata[EXEC_MIME_TYPE][\"server_id\"] !== undefined) {\n",
       "      var bk_div = document.createElement(\"div\");\n",
       "      bk_div.innerHTML = output.data[HTML_MIME_TYPE];\n",
       "      var script_attrs = bk_div.children[0].attributes;\n",
       "      for (var i = 0; i < script_attrs.length; i++) {\n",
       "        toinsert[toinsert.length - 1].firstChild.setAttribute(script_attrs[i].name, script_attrs[i].value);\n",
       "      }\n",
       "      // store reference to server id on output_area\n",
       "      output_area._bokeh_server_id = output.metadata[EXEC_MIME_TYPE][\"server_id\"];\n",
       "    }\n",
       "  }\n",
       "\n",
       "  function register_renderer(events, OutputArea) {\n",
       "\n",
       "    function append_mime(data, metadata, element) {\n",
       "      // create a DOM node to render to\n",
       "      var toinsert = this.create_output_subarea(\n",
       "        metadata,\n",
       "        CLASS_NAME,\n",
       "        EXEC_MIME_TYPE\n",
       "      );\n",
       "      this.keyboard_manager.register_events(toinsert);\n",
       "      // Render to node\n",
       "      var props = {data: data, metadata: metadata[EXEC_MIME_TYPE]};\n",
       "      render(props, toinsert[toinsert.length - 1]);\n",
       "      element.append(toinsert);\n",
       "      return toinsert\n",
       "    }\n",
       "\n",
       "    /* Handle when an output is cleared or removed */\n",
       "    events.on('clear_output.CodeCell', handleClearOutput);\n",
       "    events.on('delete.Cell', handleClearOutput);\n",
       "\n",
       "    /* Handle when a new output is added */\n",
       "    events.on('output_added.OutputArea', handleAddOutput);\n",
       "\n",
       "    /**\n",
       "     * Register the mime type and append_mime function with output_area\n",
       "     */\n",
       "    OutputArea.prototype.register_mime_type(EXEC_MIME_TYPE, append_mime, {\n",
       "      /* Is output safe? */\n",
       "      safe: true,\n",
       "      /* Index of renderer in `output_area.display_order` */\n",
       "      index: 0\n",
       "    });\n",
       "  }\n",
       "\n",
       "  // register the mime type if in Jupyter Notebook environment and previously unregistered\n",
       "  if (root.Jupyter !== undefined) {\n",
       "    var events = require('base/js/events');\n",
       "    var OutputArea = require('notebook/js/outputarea').OutputArea;\n",
       "\n",
       "    if (OutputArea.prototype.mime_types().indexOf(EXEC_MIME_TYPE) == -1) {\n",
       "      register_renderer(events, OutputArea);\n",
       "    }\n",
       "  }\n",
       "\n",
       "  \n",
       "  if (typeof (root._bokeh_timeout) === \"undefined\" || force === true) {\n",
       "    root._bokeh_timeout = Date.now() + 5000;\n",
       "    root._bokeh_failed_load = false;\n",
       "  }\n",
       "\n",
       "  var NB_LOAD_WARNING = {'data': {'text/html':\n",
       "     \"<div style='background-color: #fdd'>\\n\"+\n",
       "     \"<p>\\n\"+\n",
       "     \"BokehJS does not appear to have successfully loaded. If loading BokehJS from CDN, this \\n\"+\n",
       "     \"may be due to a slow or bad network connection. Possible fixes:\\n\"+\n",
       "     \"</p>\\n\"+\n",
       "     \"<ul>\\n\"+\n",
       "     \"<li>re-rerun `output_notebook()` to attempt to load from CDN again, or</li>\\n\"+\n",
       "     \"<li>use INLINE resources instead, as so:</li>\\n\"+\n",
       "     \"</ul>\\n\"+\n",
       "     \"<code>\\n\"+\n",
       "     \"from bokeh.resources import INLINE\\n\"+\n",
       "     \"output_notebook(resources=INLINE)\\n\"+\n",
       "     \"</code>\\n\"+\n",
       "     \"</div>\"}};\n",
       "\n",
       "  function display_loaded() {\n",
       "    var el = document.getElementById(\"1001\");\n",
       "    if (el != null) {\n",
       "      el.textContent = \"BokehJS is loading...\";\n",
       "    }\n",
       "    if (root.Bokeh !== undefined) {\n",
       "      if (el != null) {\n",
       "        el.textContent = \"BokehJS \" + root.Bokeh.version + \" successfully loaded.\";\n",
       "      }\n",
       "    } else if (Date.now() < root._bokeh_timeout) {\n",
       "      setTimeout(display_loaded, 100)\n",
       "    }\n",
       "  }\n",
       "\n",
       "\n",
       "  function run_callbacks() {\n",
       "    try {\n",
       "      root._bokeh_onload_callbacks.forEach(function(callback) { callback() });\n",
       "    }\n",
       "    finally {\n",
       "      delete root._bokeh_onload_callbacks\n",
       "    }\n",
       "    console.info(\"Bokeh: all callbacks have finished\");\n",
       "  }\n",
       "\n",
       "  function load_libs(js_urls, callback) {\n",
       "    root._bokeh_onload_callbacks.push(callback);\n",
       "    if (root._bokeh_is_loading > 0) {\n",
       "      console.log(\"Bokeh: BokehJS is being loaded, scheduling callback at\", now());\n",
       "      return null;\n",
       "    }\n",
       "    if (js_urls == null || js_urls.length === 0) {\n",
       "      run_callbacks();\n",
       "      return null;\n",
       "    }\n",
       "    console.log(\"Bokeh: BokehJS not loaded, scheduling load and callback at\", now());\n",
       "    root._bokeh_is_loading = js_urls.length;\n",
       "    for (var i = 0; i < js_urls.length; i++) {\n",
       "      var url = js_urls[i];\n",
       "      var s = document.createElement('script');\n",
       "      s.src = url;\n",
       "      s.async = false;\n",
       "      s.onreadystatechange = s.onload = function() {\n",
       "        root._bokeh_is_loading--;\n",
       "        if (root._bokeh_is_loading === 0) {\n",
       "          console.log(\"Bokeh: all BokehJS libraries loaded\");\n",
       "          run_callbacks()\n",
       "        }\n",
       "      };\n",
       "      s.onerror = function() {\n",
       "        console.warn(\"failed to load library \" + url);\n",
       "      };\n",
       "      console.log(\"Bokeh: injecting script tag for BokehJS library: \", url);\n",
       "      document.getElementsByTagName(\"head\")[0].appendChild(s);\n",
       "    }\n",
       "  };var element = document.getElementById(\"1001\");\n",
       "  if (element == null) {\n",
       "    console.log(\"Bokeh: ERROR: autoload.js configured with elementid '1001' but no matching script tag was found. \")\n",
       "    return false;\n",
       "  }\n",
       "\n",
       "  var js_urls = [\"https://cdn.pydata.org/bokeh/release/bokeh-1.0.2.min.js\", \"https://cdn.pydata.org/bokeh/release/bokeh-widgets-1.0.2.min.js\", \"https://cdn.pydata.org/bokeh/release/bokeh-tables-1.0.2.min.js\", \"https://cdn.pydata.org/bokeh/release/bokeh-gl-1.0.2.min.js\"];\n",
       "\n",
       "  var inline_js = [\n",
       "    function(Bokeh) {\n",
       "      Bokeh.set_log_level(\"info\");\n",
       "    },\n",
       "    \n",
       "    function(Bokeh) {\n",
       "      \n",
       "    },\n",
       "    function(Bokeh) {\n",
       "      console.log(\"Bokeh: injecting CSS: https://cdn.pydata.org/bokeh/release/bokeh-1.0.2.min.css\");\n",
       "      Bokeh.embed.inject_css(\"https://cdn.pydata.org/bokeh/release/bokeh-1.0.2.min.css\");\n",
       "      console.log(\"Bokeh: injecting CSS: https://cdn.pydata.org/bokeh/release/bokeh-widgets-1.0.2.min.css\");\n",
       "      Bokeh.embed.inject_css(\"https://cdn.pydata.org/bokeh/release/bokeh-widgets-1.0.2.min.css\");\n",
       "      console.log(\"Bokeh: injecting CSS: https://cdn.pydata.org/bokeh/release/bokeh-tables-1.0.2.min.css\");\n",
       "      Bokeh.embed.inject_css(\"https://cdn.pydata.org/bokeh/release/bokeh-tables-1.0.2.min.css\");\n",
       "    }\n",
       "  ];\n",
       "\n",
       "  function run_inline_js() {\n",
       "    \n",
       "    if ((root.Bokeh !== undefined) || (force === true)) {\n",
       "      for (var i = 0; i < inline_js.length; i++) {\n",
       "        inline_js[i].call(root, root.Bokeh);\n",
       "      }if (force === true) {\n",
       "        display_loaded();\n",
       "      }} else if (Date.now() < root._bokeh_timeout) {\n",
       "      setTimeout(run_inline_js, 100);\n",
       "    } else if (!root._bokeh_failed_load) {\n",
       "      console.log(\"Bokeh: BokehJS failed to load within specified timeout.\");\n",
       "      root._bokeh_failed_load = true;\n",
       "    } else if (force !== true) {\n",
       "      var cell = $(document.getElementById(\"1001\")).parents('.cell').data().cell;\n",
       "      cell.output_area.append_execute_result(NB_LOAD_WARNING)\n",
       "    }\n",
       "\n",
       "  }\n",
       "\n",
       "  if (root._bokeh_is_loading === 0) {\n",
       "    console.log(\"Bokeh: BokehJS loaded, going straight to plotting\");\n",
       "    run_inline_js();\n",
       "  } else {\n",
       "    load_libs(js_urls, function() {\n",
       "      console.log(\"Bokeh: BokehJS plotting callback run at\", now());\n",
       "      run_inline_js();\n",
       "    });\n",
       "  }\n",
       "}(window));"
      ],
      "application/vnd.bokehjs_load.v0+json": "\n(function(root) {\n  function now() {\n    return new Date();\n  }\n\n  var force = true;\n\n  if (typeof (root._bokeh_onload_callbacks) === \"undefined\" || force === true) {\n    root._bokeh_onload_callbacks = [];\n    root._bokeh_is_loading = undefined;\n  }\n\n  \n\n  \n  if (typeof (root._bokeh_timeout) === \"undefined\" || force === true) {\n    root._bokeh_timeout = Date.now() + 5000;\n    root._bokeh_failed_load = false;\n  }\n\n  var NB_LOAD_WARNING = {'data': {'text/html':\n     \"<div style='background-color: #fdd'>\\n\"+\n     \"<p>\\n\"+\n     \"BokehJS does not appear to have successfully loaded. If loading BokehJS from CDN, this \\n\"+\n     \"may be due to a slow or bad network connection. Possible fixes:\\n\"+\n     \"</p>\\n\"+\n     \"<ul>\\n\"+\n     \"<li>re-rerun `output_notebook()` to attempt to load from CDN again, or</li>\\n\"+\n     \"<li>use INLINE resources instead, as so:</li>\\n\"+\n     \"</ul>\\n\"+\n     \"<code>\\n\"+\n     \"from bokeh.resources import INLINE\\n\"+\n     \"output_notebook(resources=INLINE)\\n\"+\n     \"</code>\\n\"+\n     \"</div>\"}};\n\n  function display_loaded() {\n    var el = document.getElementById(\"1001\");\n    if (el != null) {\n      el.textContent = \"BokehJS is loading...\";\n    }\n    if (root.Bokeh !== undefined) {\n      if (el != null) {\n        el.textContent = \"BokehJS \" + root.Bokeh.version + \" successfully loaded.\";\n      }\n    } else if (Date.now() < root._bokeh_timeout) {\n      setTimeout(display_loaded, 100)\n    }\n  }\n\n\n  function run_callbacks() {\n    try {\n      root._bokeh_onload_callbacks.forEach(function(callback) { callback() });\n    }\n    finally {\n      delete root._bokeh_onload_callbacks\n    }\n    console.info(\"Bokeh: all callbacks have finished\");\n  }\n\n  function load_libs(js_urls, callback) {\n    root._bokeh_onload_callbacks.push(callback);\n    if (root._bokeh_is_loading > 0) {\n      console.log(\"Bokeh: BokehJS is being loaded, scheduling callback at\", now());\n      return null;\n    }\n    if (js_urls == null || js_urls.length === 0) {\n      run_callbacks();\n      return null;\n    }\n    console.log(\"Bokeh: BokehJS not loaded, scheduling load and callback at\", now());\n    root._bokeh_is_loading = js_urls.length;\n    for (var i = 0; i < js_urls.length; i++) {\n      var url = js_urls[i];\n      var s = document.createElement('script');\n      s.src = url;\n      s.async = false;\n      s.onreadystatechange = s.onload = function() {\n        root._bokeh_is_loading--;\n        if (root._bokeh_is_loading === 0) {\n          console.log(\"Bokeh: all BokehJS libraries loaded\");\n          run_callbacks()\n        }\n      };\n      s.onerror = function() {\n        console.warn(\"failed to load library \" + url);\n      };\n      console.log(\"Bokeh: injecting script tag for BokehJS library: \", url);\n      document.getElementsByTagName(\"head\")[0].appendChild(s);\n    }\n  };var element = document.getElementById(\"1001\");\n  if (element == null) {\n    console.log(\"Bokeh: ERROR: autoload.js configured with elementid '1001' but no matching script tag was found. \")\n    return false;\n  }\n\n  var js_urls = [\"https://cdn.pydata.org/bokeh/release/bokeh-1.0.2.min.js\", \"https://cdn.pydata.org/bokeh/release/bokeh-widgets-1.0.2.min.js\", \"https://cdn.pydata.org/bokeh/release/bokeh-tables-1.0.2.min.js\", \"https://cdn.pydata.org/bokeh/release/bokeh-gl-1.0.2.min.js\"];\n\n  var inline_js = [\n    function(Bokeh) {\n      Bokeh.set_log_level(\"info\");\n    },\n    \n    function(Bokeh) {\n      \n    },\n    function(Bokeh) {\n      console.log(\"Bokeh: injecting CSS: https://cdn.pydata.org/bokeh/release/bokeh-1.0.2.min.css\");\n      Bokeh.embed.inject_css(\"https://cdn.pydata.org/bokeh/release/bokeh-1.0.2.min.css\");\n      console.log(\"Bokeh: injecting CSS: https://cdn.pydata.org/bokeh/release/bokeh-widgets-1.0.2.min.css\");\n      Bokeh.embed.inject_css(\"https://cdn.pydata.org/bokeh/release/bokeh-widgets-1.0.2.min.css\");\n      console.log(\"Bokeh: injecting CSS: https://cdn.pydata.org/bokeh/release/bokeh-tables-1.0.2.min.css\");\n      Bokeh.embed.inject_css(\"https://cdn.pydata.org/bokeh/release/bokeh-tables-1.0.2.min.css\");\n    }\n  ];\n\n  function run_inline_js() {\n    \n    if ((root.Bokeh !== undefined) || (force === true)) {\n      for (var i = 0; i < inline_js.length; i++) {\n        inline_js[i].call(root, root.Bokeh);\n      }if (force === true) {\n        display_loaded();\n      }} else if (Date.now() < root._bokeh_timeout) {\n      setTimeout(run_inline_js, 100);\n    } else if (!root._bokeh_failed_load) {\n      console.log(\"Bokeh: BokehJS failed to load within specified timeout.\");\n      root._bokeh_failed_load = true;\n    } else if (force !== true) {\n      var cell = $(document.getElementById(\"1001\")).parents('.cell').data().cell;\n      cell.output_area.append_execute_result(NB_LOAD_WARNING)\n    }\n\n  }\n\n  if (root._bokeh_is_loading === 0) {\n    console.log(\"Bokeh: BokehJS loaded, going straight to plotting\");\n    run_inline_js();\n  } else {\n    load_libs(js_urls, function() {\n      console.log(\"Bokeh: BokehJS plotting callback run at\", now());\n      run_inline_js();\n    });\n  }\n}(window));"
     },
     "metadata": {},
     "output_type": "display_data"
    }
   ],
   "source": [
    "from bokeh.io import output_notebook\n",
    "output_notebook()\n"
   ]
  },
  {
   "cell_type": "code",
   "execution_count": 34,
   "metadata": {},
   "outputs": [],
   "source": [
    "from bokeh.io import show \n",
    "from bokeh.plotting import figure"
   ]
  },
  {
   "cell_type": "code",
   "execution_count": 35,
   "metadata": {},
   "outputs": [
    {
     "name": "stderr",
     "output_type": "stream",
     "text": [
      "BokehUserWarning: ColumnDataSource's columns must be of the same length. Current lengths: ('age', 960), ('country', 900), ('population', 960), ('x', 900), ('y', 900)\n"
     ]
    }
   ],
   "source": [
    "from bokeh.models import ColumnDataSource\n",
    "source=ColumnDataSource(dict(\n",
    "    y=df2.loc[df['year']==2015].population,\n",
    "    x=df2.loc[df['year']==2015].suicdes_per_100k,\n",
    "    country=df2.loc[df['year']==2015].country,\n",
    "    population=df.loc[df['year']==2015].population,\n",
    "    age=df.loc[df['year']==2015].age\n",
    "    \n",
    "\n",
    "))\n"
   ]
  },
  {
   "cell_type": "code",
   "execution_count": 91,
   "metadata": {},
   "outputs": [],
   "source": [
    "from bokeh.models import HoverTool\n",
    "\n",
    "PLOT_OPTS=dict(\n",
    "    height=200,\n",
    "    y_axis_type='log',\n",
    "    y_range=(1000,1000000),\n",
    "    x_range=(0,40),\n",
    "\n",
    "      \n",
    "\n",
    ")\n"
   ]
  },
  {
   "cell_type": "code",
   "execution_count": 92,
   "metadata": {},
   "outputs": [
    {
     "data": {
      "text/html": [
       "\n",
       "\n",
       "\n",
       "\n",
       "\n",
       "\n",
       "  <div class=\"bk-root\" id=\"fdf945c3-8655-405a-949a-7b5e792cd08d\"></div>\n"
      ]
     },
     "metadata": {},
     "output_type": "display_data"
    },
    {
     "data": {
      "application/javascript": [
       "(function(root) {\n",
       "  function embed_document(root) {\n",
       "    \n",
       "  var docs_json = {\"1cfcff58-ab1e-4893-bc54-d0aa697c885d\":{\"roots\":{\"references\":[{\"attributes\":{\"below\":[{\"id\":\"1229\",\"type\":\"LinearAxis\"}],\"left\":[{\"id\":\"1234\",\"type\":\"LogAxis\"}],\"plot_height\":200,\"renderers\":[{\"id\":\"1229\",\"type\":\"LinearAxis\"},{\"id\":\"1233\",\"type\":\"Grid\"},{\"id\":\"1234\",\"type\":\"LogAxis\"},{\"id\":\"1238\",\"type\":\"Grid\"},{\"id\":\"1247\",\"type\":\"BoxAnnotation\"},{\"id\":\"1257\",\"type\":\"GlyphRenderer\"}],\"title\":{\"id\":\"1278\",\"type\":\"Title\"},\"toolbar\":{\"id\":\"1245\",\"type\":\"Toolbar\"},\"x_range\":{\"id\":\"1221\",\"type\":\"Range1d\"},\"x_scale\":{\"id\":\"1225\",\"type\":\"LinearScale\"},\"y_range\":{\"id\":\"1223\",\"type\":\"Range1d\"},\"y_scale\":{\"id\":\"1227\",\"type\":\"LogScale\"}},\"id\":\"1220\",\"subtype\":\"Figure\",\"type\":\"Plot\"},{\"attributes\":{},\"id\":\"1242\",\"type\":\"SaveTool\"},{\"attributes\":{},\"id\":\"1243\",\"type\":\"ResetTool\"},{\"attributes\":{},\"id\":\"1244\",\"type\":\"HelpTool\"},{\"attributes\":{\"active_drag\":\"auto\",\"active_inspect\":\"auto\",\"active_multi\":null,\"active_scroll\":\"auto\",\"active_tap\":\"auto\",\"tools\":[{\"id\":\"1239\",\"type\":\"PanTool\"},{\"id\":\"1240\",\"type\":\"WheelZoomTool\"},{\"id\":\"1241\",\"type\":\"BoxZoomTool\"},{\"id\":\"1242\",\"type\":\"SaveTool\"},{\"id\":\"1243\",\"type\":\"ResetTool\"},{\"id\":\"1244\",\"type\":\"HelpTool\"}]},\"id\":\"1245\",\"type\":\"Toolbar\"},{\"attributes\":{\"callback\":null,\"end\":40},\"id\":\"1221\",\"type\":\"Range1d\"},{\"attributes\":{\"fill_alpha\":{\"value\":0.1},\"fill_color\":{\"value\":\"#1f77b4\"},\"line_alpha\":{\"value\":0.1},\"line_color\":{\"value\":\"#1f77b4\"},\"x\":{\"field\":\"x\"},\"y\":{\"field\":\"y\"}},\"id\":\"1256\",\"type\":\"Circle\"},{\"attributes\":{},\"id\":\"1049\",\"type\":\"UnionRenderers\"},{\"attributes\":{\"callback\":null,\"end\":1000000,\"start\":1000},\"id\":\"1223\",\"type\":\"Range1d\"},{\"attributes\":{\"bottom_units\":\"screen\",\"fill_alpha\":{\"value\":0.5},\"fill_color\":{\"value\":\"lightgrey\"},\"left_units\":\"screen\",\"level\":\"overlay\",\"line_alpha\":{\"value\":1.0},\"line_color\":{\"value\":\"black\"},\"line_dash\":[4,4],\"line_width\":{\"value\":2},\"plot\":null,\"render_mode\":\"css\",\"right_units\":\"screen\",\"top_units\":\"screen\"},\"id\":\"1247\",\"type\":\"BoxAnnotation\"},{\"attributes\":{},\"id\":\"1050\",\"type\":\"Selection\"},{\"attributes\":{},\"id\":\"1225\",\"type\":\"LinearScale\"},{\"attributes\":{\"data_source\":{\"id\":\"1002\",\"type\":\"ColumnDataSource\"},\"glyph\":{\"id\":\"1255\",\"type\":\"Circle\"},\"hover_glyph\":null,\"muted_glyph\":null,\"nonselection_glyph\":{\"id\":\"1256\",\"type\":\"Circle\"},\"selection_glyph\":null,\"view\":{\"id\":\"1258\",\"type\":\"CDSView\"}},\"id\":\"1257\",\"type\":\"GlyphRenderer\"},{\"attributes\":{},\"id\":\"1227\",\"type\":\"LogScale\"},{\"attributes\":{\"source\":{\"id\":\"1002\",\"type\":\"ColumnDataSource\"}},\"id\":\"1258\",\"type\":\"CDSView\"},{\"attributes\":{\"formatter\":{\"id\":\"1279\",\"type\":\"BasicTickFormatter\"},\"plot\":{\"id\":\"1220\",\"subtype\":\"Figure\",\"type\":\"Plot\"},\"ticker\":{\"id\":\"1230\",\"type\":\"BasicTicker\"}},\"id\":\"1229\",\"type\":\"LinearAxis\"},{\"attributes\":{},\"id\":\"1230\",\"type\":\"BasicTicker\"},{\"attributes\":{},\"id\":\"1279\",\"type\":\"BasicTickFormatter\"},{\"attributes\":{\"plot\":{\"id\":\"1220\",\"subtype\":\"Figure\",\"type\":\"Plot\"},\"ticker\":{\"id\":\"1230\",\"type\":\"BasicTicker\"}},\"id\":\"1233\",\"type\":\"Grid\"},{\"attributes\":{\"ticker\":null},\"id\":\"1281\",\"type\":\"LogTickFormatter\"},{\"attributes\":{\"formatter\":{\"id\":\"1281\",\"type\":\"LogTickFormatter\"},\"plot\":{\"id\":\"1220\",\"subtype\":\"Figure\",\"type\":\"Plot\"},\"ticker\":{\"id\":\"1235\",\"type\":\"LogTicker\"}},\"id\":\"1234\",\"type\":\"LogAxis\"},{\"attributes\":{\"num_minor_ticks\":10},\"id\":\"1235\",\"type\":\"LogTicker\"},{\"attributes\":{\"plot\":null,\"text\":\"\"},\"id\":\"1278\",\"type\":\"Title\"},{\"attributes\":{\"dimension\":1,\"plot\":{\"id\":\"1220\",\"subtype\":\"Figure\",\"type\":\"Plot\"},\"ticker\":{\"id\":\"1235\",\"type\":\"LogTicker\"}},\"id\":\"1238\",\"type\":\"Grid\"},{\"attributes\":{\"fill_color\":{\"value\":\"#1f77b4\"},\"line_color\":{\"value\":\"#1f77b4\"},\"x\":{\"field\":\"x\"},\"y\":{\"field\":\"y\"}},\"id\":\"1255\",\"type\":\"Circle\"},{\"attributes\":{\"callback\":null,\"data\":{\"age\":[\"15-24 years\",\"25-34 years\",\"35-54 years\",\"5-14 years\",\"55-74 years\",\"75+ years\",\"15-24 years\",\"25-34 years\",\"35-54 years\",\"5-14 years\",\"55-74 years\",\"75+ years\",\"15-24 years\",\"25-34 years\",\"35-54 years\",\"5-14 years\",\"55-74 years\",\"75+ years\",\"15-24 years\",\"25-34 years\",\"35-54 years\",\"5-14 years\",\"55-74 years\",\"75+ years\",\"15-24 years\",\"25-34 years\",\"35-54 years\",\"5-14 years\",\"55-74 years\",\"75+ years\",\"15-24 years\",\"25-34 years\",\"35-54 years\",\"5-14 years\",\"55-74 years\",\"75+ years\",\"15-24 years\",\"25-34 years\",\"35-54 years\",\"5-14 years\",\"55-74 years\",\"75+ years\",\"15-24 years\",\"25-34 years\",\"35-54 years\",\"5-14 years\",\"55-74 years\",\"75+ years\",\"15-24 years\",\"25-34 years\",\"35-54 years\",\"5-14 years\",\"55-74 years\",\"75+ years\",\"15-24 years\",\"25-34 years\",\"35-54 years\",\"5-14 years\",\"55-74 years\",\"75+ years\",\"15-24 years\",\"25-34 years\",\"35-54 years\",\"5-14 years\",\"55-74 years\",\"75+ years\",\"15-24 years\",\"25-34 years\",\"35-54 years\",\"5-14 years\",\"55-74 years\",\"75+ years\",\"15-24 years\",\"25-34 years\",\"35-54 years\",\"5-14 years\",\"55-74 years\",\"75+ years\",\"15-24 years\",\"25-34 years\",\"35-54 years\",\"5-14 years\",\"55-74 years\",\"75+ years\",\"15-24 years\",\"25-34 years\",\"35-54 years\",\"5-14 years\",\"55-74 years\",\"75+ years\",\"15-24 years\",\"25-34 years\",\"35-54 years\",\"5-14 years\",\"55-74 years\",\"75+ years\",\"15-24 years\",\"25-34 years\",\"35-54 years\",\"5-14 years\",\"55-74 years\",\"75+ years\",\"15-24 years\",\"25-34 years\",\"35-54 years\",\"5-14 years\",\"55-74 years\",\"75+ years\",\"15-24 years\",\"25-34 years\",\"35-54 years\",\"5-14 years\",\"55-74 years\",\"75+ years\",\"15-24 years\",\"25-34 years\",\"35-54 years\",\"5-14 years\",\"55-74 years\",\"75+ years\",\"15-24 years\",\"25-34 years\",\"35-54 years\",\"5-14 years\",\"55-74 years\",\"75+ years\",\"15-24 years\",\"25-34 years\",\"35-54 years\",\"5-14 years\",\"55-74 years\",\"75+ years\",\"15-24 years\",\"25-34 years\",\"35-54 years\",\"5-14 years\",\"55-74 years\",\"75+ years\",\"15-24 years\",\"25-34 years\",\"35-54 years\",\"5-14 years\",\"55-74 years\",\"75+ years\",\"15-24 years\",\"25-34 years\",\"35-54 years\",\"5-14 years\",\"55-74 years\",\"75+ years\",\"15-24 years\",\"25-34 years\",\"35-54 years\",\"5-14 years\",\"55-74 years\",\"75+ years\",\"15-24 years\",\"25-34 years\",\"35-54 years\",\"5-14 years\",\"55-74 years\",\"75+ years\",\"15-24 years\",\"25-34 years\",\"35-54 years\",\"5-14 years\",\"55-74 years\",\"75+ years\",\"15-24 years\",\"25-34 years\",\"35-54 years\",\"5-14 years\",\"55-74 years\",\"75+ years\",\"15-24 years\",\"25-34 years\",\"35-54 years\",\"5-14 years\",\"55-74 years\",\"75+ years\",\"15-24 years\",\"25-34 years\",\"35-54 years\",\"5-14 years\",\"55-74 years\",\"75+ years\",\"15-24 years\",\"25-34 years\",\"35-54 years\",\"5-14 years\",\"55-74 years\",\"75+ years\",\"15-24 years\",\"25-34 years\",\"35-54 years\",\"5-14 years\",\"55-74 years\",\"75+ years\",\"15-24 years\",\"25-34 years\",\"35-54 years\",\"5-14 years\",\"55-74 years\",\"75+ years\",\"15-24 years\",\"25-34 years\",\"35-54 years\",\"5-14 years\",\"55-74 years\",\"75+ years\",\"15-24 years\",\"25-34 years\",\"35-54 years\",\"5-14 years\",\"55-74 years\",\"75+ years\",\"15-24 years\",\"25-34 years\",\"35-54 years\",\"5-14 years\",\"55-74 years\",\"75+ years\",\"15-24 years\",\"25-34 years\",\"35-54 years\",\"5-14 years\",\"55-74 years\",\"75+ years\",\"15-24 years\",\"25-34 years\",\"35-54 years\",\"5-14 years\",\"55-74 years\",\"75+ years\",\"15-24 years\",\"25-34 years\",\"35-54 years\",\"5-14 years\",\"55-74 years\",\"75+ years\",\"15-24 years\",\"25-34 years\",\"35-54 years\",\"5-14 years\",\"55-74 years\",\"75+ years\",\"15-24 years\",\"25-34 years\",\"35-54 years\",\"5-14 years\",\"55-74 years\",\"75+ years\",\"15-24 years\",\"25-34 years\",\"35-54 years\",\"5-14 years\",\"55-74 years\",\"75+ years\",\"15-24 years\",\"25-34 years\",\"35-54 years\",\"5-14 years\",\"55-74 years\",\"75+ years\",\"15-24 years\",\"25-34 years\",\"35-54 years\",\"5-14 years\",\"55-74 years\",\"75+ years\",\"15-24 years\",\"25-34 years\",\"35-54 years\",\"5-14 years\",\"55-74 years\",\"75+ years\",\"15-24 years\",\"25-34 years\",\"35-54 years\",\"5-14 years\",\"55-74 years\",\"75+ years\",\"15-24 years\",\"25-34 years\",\"35-54 years\",\"5-14 years\",\"55-74 years\",\"75+ years\",\"15-24 years\",\"25-34 years\",\"35-54 years\",\"5-14 years\",\"55-74 years\",\"75+ years\",\"15-24 years\",\"25-34 years\",\"35-54 years\",\"5-14 years\",\"55-74 years\",\"75+ years\",\"15-24 years\",\"25-34 years\",\"35-54 years\",\"5-14 years\",\"55-74 years\",\"75+ years\",\"15-24 years\",\"25-34 years\",\"35-54 years\",\"5-14 years\",\"55-74 years\",\"75+ years\",\"15-24 years\",\"25-34 years\",\"35-54 years\",\"5-14 years\",\"55-74 years\",\"75+ years\",\"15-24 years\",\"25-34 years\",\"35-54 years\",\"5-14 years\",\"55-74 years\",\"75+ years\",\"15-24 years\",\"25-34 years\",\"35-54 years\",\"5-14 years\",\"55-74 years\",\"75+ years\",\"15-24 years\",\"25-34 years\",\"35-54 years\",\"5-14 years\",\"55-74 years\",\"75+ years\",\"15-24 years\",\"25-34 years\",\"35-54 years\",\"5-14 years\",\"55-74 years\",\"75+ years\",\"15-24 years\",\"25-34 years\",\"35-54 years\",\"5-14 years\",\"55-74 years\",\"75+ years\",\"15-24 years\",\"25-34 years\",\"35-54 years\",\"5-14 years\",\"55-74 years\",\"75+ years\",\"15-24 years\",\"25-34 years\",\"35-54 years\",\"5-14 years\",\"55-74 years\",\"75+ years\",\"15-24 years\",\"25-34 years\",\"35-54 years\",\"5-14 years\",\"55-74 years\",\"75+ years\",\"15-24 years\",\"25-34 years\",\"35-54 years\",\"5-14 years\",\"55-74 years\",\"75+ years\",\"15-24 years\",\"25-34 years\",\"35-54 years\",\"5-14 years\",\"55-74 years\",\"75+ years\",\"15-24 years\",\"25-34 years\",\"35-54 years\",\"5-14 years\",\"55-74 years\",\"75+ years\",\"15-24 years\",\"25-34 years\",\"35-54 years\",\"5-14 years\",\"55-74 years\",\"75+ years\",\"15-24 years\",\"25-34 years\",\"35-54 years\",\"5-14 years\",\"55-74 years\",\"75+ years\",\"15-24 years\",\"25-34 years\",\"35-54 years\",\"5-14 years\",\"55-74 years\",\"75+ years\",\"15-24 years\",\"25-34 years\",\"35-54 years\",\"5-14 years\",\"55-74 years\",\"75+ years\",\"15-24 years\",\"25-34 years\",\"35-54 years\",\"5-14 years\",\"55-74 years\",\"75+ years\",\"15-24 years\",\"25-34 years\",\"35-54 years\",\"5-14 years\",\"55-74 years\",\"75+ years\",\"15-24 years\",\"25-34 years\",\"35-54 years\",\"5-14 years\",\"55-74 years\",\"75+ years\",\"15-24 years\",\"25-34 years\",\"35-54 years\",\"5-14 years\",\"55-74 years\",\"75+ years\",\"15-24 years\",\"25-34 years\",\"35-54 years\",\"5-14 years\",\"55-74 years\",\"75+ years\",\"15-24 years\",\"25-34 years\",\"35-54 years\",\"5-14 years\",\"55-74 years\",\"75+ years\",\"15-24 years\",\"25-34 years\",\"35-54 years\",\"5-14 years\",\"55-74 years\",\"75+ years\",\"15-24 years\",\"25-34 years\",\"35-54 years\",\"5-14 years\",\"55-74 years\",\"75+ years\",\"15-24 years\",\"25-34 years\",\"35-54 years\",\"5-14 years\",\"55-74 years\",\"75+ years\",\"15-24 years\",\"25-34 years\",\"35-54 years\",\"5-14 years\",\"55-74 years\",\"75+ years\",\"15-24 years\",\"25-34 years\",\"35-54 years\",\"5-14 years\",\"55-74 years\",\"75+ years\",\"15-24 years\",\"25-34 years\",\"35-54 years\",\"5-14 years\",\"55-74 years\",\"75+ years\",\"15-24 years\",\"25-34 years\",\"35-54 years\",\"5-14 years\",\"55-74 years\",\"75+ years\",\"15-24 years\",\"25-34 years\",\"35-54 years\",\"5-14 years\",\"55-74 years\",\"75+ years\",\"15-24 years\",\"25-34 years\",\"35-54 years\",\"5-14 years\",\"55-74 years\",\"75+ years\",\"15-24 years\",\"25-34 years\",\"35-54 years\",\"5-14 years\",\"55-74 years\",\"75+ years\",\"15-24 years\",\"25-34 years\",\"35-54 years\",\"5-14 years\",\"55-74 years\",\"75+ years\",\"15-24 years\",\"25-34 years\",\"35-54 years\",\"5-14 years\",\"55-74 years\",\"75+ years\",\"15-24 years\",\"25-34 years\",\"35-54 years\",\"5-14 years\",\"55-74 years\",\"75+ years\",\"15-24 years\",\"25-34 years\",\"35-54 years\",\"5-14 years\",\"55-74 years\",\"75+ years\",\"15-24 years\",\"25-34 years\",\"35-54 years\",\"5-14 years\",\"55-74 years\",\"75+ years\",\"15-24 years\",\"25-34 years\",\"35-54 years\",\"5-14 years\",\"55-74 years\",\"75+ years\",\"15-24 years\",\"25-34 years\",\"35-54 years\",\"5-14 years\",\"55-74 years\",\"75+ years\",\"15-24 years\",\"25-34 years\",\"35-54 years\",\"5-14 years\",\"55-74 years\",\"75+ years\",\"15-24 years\",\"25-34 years\",\"35-54 years\",\"5-14 years\",\"55-74 years\",\"75+ years\",\"15-24 years\",\"25-34 years\",\"35-54 years\",\"5-14 years\",\"55-74 years\",\"75+ years\",\"15-24 years\",\"25-34 years\",\"35-54 years\",\"5-14 years\",\"55-74 years\",\"75+ years\",\"15-24 years\",\"25-34 years\",\"35-54 years\",\"5-14 years\",\"55-74 years\",\"75+ years\",\"15-24 years\",\"25-34 years\",\"35-54 years\",\"5-14 years\",\"55-74 years\",\"75+ years\",\"15-24 years\",\"25-34 years\",\"35-54 years\",\"5-14 years\",\"55-74 years\",\"75+ years\",\"15-24 years\",\"25-34 years\",\"35-54 years\",\"5-14 years\",\"55-74 years\",\"75+ years\",\"15-24 years\",\"25-34 years\",\"35-54 years\",\"5-14 years\",\"55-74 years\",\"75+ years\",\"15-24 years\",\"25-34 years\",\"35-54 years\",\"5-14 years\",\"55-74 years\",\"75+ years\",\"15-24 years\",\"25-34 years\",\"35-54 years\",\"5-14 years\",\"55-74 years\",\"75+ years\",\"15-24 years\",\"25-34 years\",\"35-54 years\",\"5-14 years\",\"55-74 years\",\"75+ years\",\"15-24 years\",\"25-34 years\",\"35-54 years\",\"5-14 years\",\"55-74 years\",\"75+ years\",\"15-24 years\",\"25-34 years\",\"35-54 years\",\"5-14 years\",\"55-74 years\",\"75+ years\",\"15-24 years\",\"25-34 years\",\"35-54 years\",\"5-14 years\",\"55-74 years\",\"75+ years\",\"15-24 years\",\"25-34 years\",\"35-54 years\",\"5-14 years\",\"55-74 years\",\"75+ years\",\"15-24 years\",\"25-34 years\",\"35-54 years\",\"5-14 years\",\"55-74 years\",\"75+ years\",\"15-24 years\",\"25-34 years\",\"35-54 years\",\"5-14 years\",\"55-74 years\",\"75+ years\",\"15-24 years\",\"25-34 years\",\"35-54 years\",\"5-14 years\",\"55-74 years\",\"75+ years\",\"15-24 years\",\"25-34 years\",\"35-54 years\",\"5-14 years\",\"55-74 years\",\"75+ years\",\"15-24 years\",\"25-34 years\",\"35-54 years\",\"5-14 years\",\"55-74 years\",\"75+ years\",\"15-24 years\",\"25-34 years\",\"35-54 years\",\"5-14 years\",\"55-74 years\",\"75+ years\",\"15-24 years\",\"25-34 years\",\"35-54 years\",\"5-14 years\",\"55-74 years\",\"75+ years\",\"15-24 years\",\"25-34 years\",\"35-54 years\",\"5-14 years\",\"55-74 years\",\"75+ years\",\"15-24 years\",\"25-34 years\",\"35-54 years\",\"5-14 years\",\"55-74 years\",\"75+ years\",\"15-24 years\",\"25-34 years\",\"35-54 years\",\"5-14 years\",\"55-74 years\",\"75+ years\",\"15-24 years\",\"25-34 years\",\"35-54 years\",\"5-14 years\",\"55-74 years\",\"75+ years\",\"15-24 years\",\"25-34 years\",\"35-54 years\",\"5-14 years\",\"55-74 years\",\"75+ years\",\"15-24 years\",\"25-34 years\",\"35-54 years\",\"5-14 years\",\"55-74 years\",\"75+ years\",\"15-24 years\",\"25-34 years\",\"35-54 years\",\"5-14 years\",\"55-74 years\",\"75+ years\",\"15-24 years\",\"25-34 years\",\"35-54 years\",\"5-14 years\",\"55-74 years\",\"75+ years\",\"15-24 years\",\"25-34 years\",\"35-54 years\",\"5-14 years\",\"55-74 years\",\"75+ years\",\"15-24 years\",\"25-34 years\",\"35-54 years\",\"5-14 years\",\"55-74 years\",\"75+ years\",\"15-24 years\",\"25-34 years\",\"35-54 years\",\"5-14 years\",\"55-74 years\",\"75+ years\",\"15-24 years\",\"25-34 years\",\"35-54 years\",\"5-14 years\",\"55-74 years\",\"75+ years\",\"15-24 years\",\"25-34 years\",\"35-54 years\",\"5-14 years\",\"55-74 years\",\"75+ years\",\"15-24 years\",\"25-34 years\",\"35-54 years\",\"5-14 years\",\"55-74 years\",\"75+ years\",\"15-24 years\",\"25-34 years\",\"35-54 years\",\"5-14 years\",\"55-74 years\",\"75+ years\",\"15-24 years\",\"25-34 years\",\"35-54 years\",\"5-14 years\",\"55-74 years\",\"75+ years\",\"15-24 years\",\"25-34 years\",\"35-54 years\",\"5-14 years\",\"55-74 years\",\"75+ years\",\"15-24 years\",\"25-34 years\",\"35-54 years\",\"5-14 years\",\"55-74 years\",\"75+ years\",\"15-24 years\",\"25-34 years\",\"35-54 years\",\"5-14 years\",\"55-74 years\",\"75+ years\",\"15-24 years\",\"25-34 years\",\"35-54 years\",\"5-14 years\",\"55-74 years\",\"75+ years\",\"15-24 years\",\"25-34 years\",\"35-54 years\",\"5-14 years\",\"55-74 years\",\"75+ years\",\"15-24 years\",\"25-34 years\",\"35-54 years\",\"5-14 years\",\"55-74 years\",\"75+ years\",\"15-24 years\",\"25-34 years\",\"35-54 years\",\"5-14 years\",\"55-74 years\",\"75+ years\",\"15-24 years\",\"25-34 years\",\"35-54 years\",\"5-14 years\",\"55-74 years\",\"75+ years\",\"15-24 years\",\"25-34 years\",\"35-54 years\",\"5-14 years\",\"55-74 years\",\"75+ years\",\"15-24 years\",\"25-34 years\",\"35-54 years\",\"5-14 years\",\"55-74 years\",\"75+ years\",\"15-24 years\",\"25-34 years\",\"35-54 years\",\"5-14 years\",\"55-74 years\",\"75+ years\",\"15-24 years\",\"25-34 years\",\"35-54 years\",\"5-14 years\",\"55-74 years\",\"75+ years\",\"15-24 years\",\"25-34 years\",\"35-54 years\",\"5-14 years\",\"55-74 years\",\"75+ years\",\"15-24 years\",\"25-34 years\",\"35-54 years\",\"5-14 years\",\"55-74 years\",\"75+ years\",\"15-24 years\",\"25-34 years\",\"35-54 years\",\"5-14 years\",\"55-74 years\",\"75+ years\",\"15-24 years\",\"25-34 years\",\"35-54 years\",\"5-14 years\",\"55-74 years\",\"75+ years\",\"15-24 years\",\"25-34 years\",\"35-54 years\",\"5-14 years\",\"55-74 years\",\"75+ years\",\"15-24 years\",\"25-34 years\",\"35-54 years\",\"5-14 years\",\"55-74 years\",\"75+ years\",\"15-24 years\",\"25-34 years\",\"35-54 years\",\"5-14 years\",\"55-74 years\",\"75+ years\",\"15-24 years\",\"25-34 years\",\"35-54 years\",\"5-14 years\",\"55-74 years\",\"75+ years\",\"15-24 years\",\"25-34 years\",\"35-54 years\",\"5-14 years\",\"55-74 years\",\"75+ years\",\"15-24 years\",\"25-34 years\",\"35-54 years\",\"5-14 years\",\"55-74 years\",\"75+ years\",\"15-24 years\",\"25-34 years\",\"35-54 years\",\"5-14 years\",\"55-74 years\",\"75+ years\",\"15-24 years\",\"25-34 years\",\"35-54 years\",\"5-14 years\",\"55-74 years\",\"75+ years\",\"15-24 years\",\"25-34 years\",\"35-54 years\",\"5-14 years\",\"55-74 years\",\"75+ years\",\"15-24 years\",\"25-34 years\",\"35-54 years\",\"5-14 years\",\"55-74 years\",\"75+ years\",\"15-24 years\",\"25-34 years\",\"35-54 years\",\"5-14 years\",\"55-74 years\",\"75+ years\",\"15-24 years\",\"25-34 years\",\"35-54 years\",\"5-14 years\",\"55-74 years\",\"75+ years\",\"15-24 years\",\"25-34 years\",\"35-54 years\",\"5-14 years\",\"55-74 years\",\"75+ years\",\"15-24 years\",\"25-34 years\",\"35-54 years\",\"5-14 years\",\"55-74 years\",\"75+ years\"],\"country\":[\"Albania\",\"Albania\",\"Albania\",\"Albania\",\"Albania\",\"Albania\",\"Albania\",\"Albania\",\"Albania\",\"Albania\",\"Albania\",\"Albania\",\"Anguilla\",\"Anguilla\",\"Anguilla\",\"Anguilla\",\"Anguilla\",\"Anguilla\",\"Anguilla\",\"Anguilla\",\"Anguilla\",\"Anguilla\",\"Anguilla\",\"Anguilla\",\"Antigua and Barbuda\",\"Antigua and Barbuda\",\"Antigua and Barbuda\",\"Antigua and Barbuda\",\"Antigua and Barbuda\",\"Antigua and Barbuda\",\"Antigua and Barbuda\",\"Antigua and Barbuda\",\"Antigua and Barbuda\",\"Antigua and Barbuda\",\"Antigua and Barbuda\",\"Antigua and Barbuda\",\"Argentina\",\"Argentina\",\"Argentina\",\"Argentina\",\"Argentina\",\"Argentina\",\"Argentina\",\"Argentina\",\"Argentina\",\"Argentina\",\"Argentina\",\"Argentina\",\"Armenia\",\"Armenia\",\"Armenia\",\"Armenia\",\"Armenia\",\"Armenia\",\"Armenia\",\"Armenia\",\"Armenia\",\"Armenia\",\"Armenia\",\"Armenia\",\"Aruba\",\"Aruba\",\"Aruba\",\"Aruba\",\"Aruba\",\"Aruba\",\"Aruba\",\"Aruba\",\"Aruba\",\"Aruba\",\"Aruba\",\"Aruba\",\"Australia\",\"Australia\",\"Australia\",\"Australia\",\"Australia\",\"Australia\",\"Australia\",\"Australia\",\"Australia\",\"Australia\",\"Australia\",\"Australia\",\"Austria\",\"Austria\",\"Austria\",\"Austria\",\"Austria\",\"Austria\",\"Austria\",\"Austria\",\"Austria\",\"Austria\",\"Austria\",\"Austria\",\"Belarus\",\"Belarus\",\"Belarus\",\"Belarus\",\"Belarus\",\"Belarus\",\"Belarus\",\"Belarus\",\"Belarus\",\"Belarus\",\"Belarus\",\"Belarus\",\"Belgium\",\"Belgium\",\"Belgium\",\"Belgium\",\"Belgium\",\"Belgium\",\"Belgium\",\"Belgium\",\"Belgium\",\"Belgium\",\"Belgium\",\"Belgium\",\"Belize\",\"Belize\",\"Belize\",\"Belize\",\"Belize\",\"Belize\",\"Belize\",\"Belize\",\"Belize\",\"Belize\",\"Belize\",\"Belize\",\"Bermuda\",\"Bermuda\",\"Bermuda\",\"Bermuda\",\"Bermuda\",\"Bermuda\",\"Bermuda\",\"Bermuda\",\"Bermuda\",\"Bermuda\",\"Bermuda\",\"Bermuda\",\"Brazil\",\"Brazil\",\"Brunei Darussalam\",\"Brunei Darussalam\",\"Brunei Darussalam\",\"Brunei Darussalam\",\"Brunei Darussalam\",\"Brunei Darussalam\",\"Brunei Darussalam\",\"Brunei Darussalam\",\"Brunei Darussalam\",\"Brunei Darussalam\",\"Brunei Darussalam\",\"Brunei Darussalam\",\"Chile\",\"Chile\",\"Chile\",\"Chile\",\"Chile\",\"Chile\",\"Chile\",\"Chile\",\"Chile\",\"Chile\",\"Chile\",\"Chile\",\"Colombia\",\"Colombia\",\"Colombia\",\"Colombia\",\"Colombia\",\"Colombia\",\"Colombia\",\"Colombia\",\"Colombia\",\"Colombia\",\"Colombia\",\"Colombia\",\"Croatia\",\"Croatia\",\"Croatia\",\"Croatia\",\"Croatia\",\"Croatia\",\"Croatia\",\"Croatia\",\"Croatia\",\"Croatia\",\"Croatia\",\"Croatia\",\"Cuba\",\"Cuba\",\"Cuba\",\"Cuba\",\"Cuba\",\"Cuba\",\"Cuba\",\"Cuba\",\"Cuba\",\"Cuba\",\"Cuba\",\"Cuba\",\"Cyprus\",\"Cyprus\",\"Cyprus\",\"Cyprus\",\"Cyprus\",\"Cyprus\",\"Cyprus\",\"Cyprus\",\"Cyprus\",\"Cyprus\",\"Cyprus\",\"Cyprus\",\"Czech Republic\",\"Czech Republic\",\"Czech Republic\",\"Czech Republic\",\"Czech Republic\",\"Czech Republic\",\"Czech Republic\",\"Czech Republic\",\"Czech Republic\",\"Czech Republic\",\"Czech Republic\",\"Czech Republic\",\"Denmark\",\"Denmark\",\"Denmark\",\"Denmark\",\"Denmark\",\"Denmark\",\"Denmark\",\"Denmark\",\"Denmark\",\"Denmark\",\"Denmark\",\"Denmark\",\"Dominica\",\"Dominica\",\"Dominica\",\"Dominica\",\"Dominica\",\"Dominica\",\"Dominica\",\"Dominica\",\"Dominica\",\"Dominica\",\"Dominica\",\"Dominica\",\"Ecuador\",\"Ecuador\",\"Ecuador\",\"Ecuador\",\"Ecuador\",\"Ecuador\",\"Ecuador\",\"Ecuador\",\"Ecuador\",\"Ecuador\",\"Ecuador\",\"Ecuador\",\"Egypt\",\"Egypt\",\"Egypt\",\"Egypt\",\"Egypt\",\"Egypt\",\"Egypt\",\"Egypt\",\"Egypt\",\"Egypt\",\"Egypt\",\"Egypt\",\"Estonia\",\"Estonia\",\"Estonia\",\"Estonia\",\"Estonia\",\"Estonia\",\"Estonia\",\"Estonia\",\"Estonia\",\"Estonia\",\"Estonia\",\"Estonia\",\"Finland\",\"Finland\",\"Finland\",\"Finland\",\"Finland\",\"Finland\",\"Finland\",\"Finland\",\"Finland\",\"Finland\",\"Finland\",\"Finland\",\"Georgia\",\"Georgia\",\"Georgia\",\"Georgia\",\"Georgia\",\"Georgia\",\"Georgia\",\"Georgia\",\"Georgia\",\"Georgia\",\"Georgia\",\"Georgia\",\"Germany\",\"Germany\",\"Germany\",\"Germany\",\"Germany\",\"Germany\",\"Germany\",\"Germany\",\"Germany\",\"Greece\",\"Greece\",\"Greece\",\"Greece\",\"Greece\",\"Greece\",\"Greece\",\"Greece\",\"Greece\",\"Greece\",\"Greece\",\"Greece\",\"Grenada\",\"Grenada\",\"Grenada\",\"Grenada\",\"Grenada\",\"Grenada\",\"Grenada\",\"Grenada\",\"Grenada\",\"Grenada\",\"Grenada\",\"Grenada\",\"Guatemala\",\"Guatemala\",\"Guatemala\",\"Guatemala\",\"Guatemala\",\"Guatemala\",\"Guatemala\",\"Guatemala\",\"Guatemala\",\"Guatemala\",\"Guatemala\",\"Guatemala\",\"Hong Kong SAR\",\"Hong Kong SAR\",\"Hong Kong SAR\",\"Hong Kong SAR\",\"Hong Kong SAR\",\"Hong Kong SAR\",\"Hong Kong SAR\",\"Hong Kong SAR\",\"Hong Kong SAR\",\"Hong Kong SAR\",\"Hong Kong SAR\",\"Hong Kong SAR\",\"Hungary\",\"Hungary\",\"Hungary\",\"Hungary\",\"Hungary\",\"Hungary\",\"Hungary\",\"Hungary\",\"Hungary\",\"Hungary\",\"Hungary\",\"Hungary\",\"Iceland\",\"Iceland\",\"Iceland\",\"Iceland\",\"Iceland\",\"Iceland\",\"Iceland\",\"Iceland\",\"Iceland\",\"Iceland\",\"Iceland\",\"Iceland\",\"Iran (Islamic Rep of)\",\"Iran (Islamic Rep of)\",\"Iran (Islamic Rep of)\",\"Iran (Islamic Rep of)\",\"Iran (Islamic Rep of)\",\"Iran (Islamic Rep of)\",\"Iran (Islamic Rep of)\",\"Iran (Islamic Rep of)\",\"Iran (Islamic Rep of)\",\"Iran (Islamic Rep of)\",\"Iran (Islamic Rep of)\",\"Iran (Islamic Rep of)\",\"Israel\",\"Israel\",\"Israel\",\"Israel\",\"Israel\",\"Israel\",\"Israel\",\"Israel\",\"Israel\",\"Israel\",\"Israel\",\"Israel\",\"Italy\",\"Italy\",\"Italy\",\"Italy\",\"Italy\",\"Italy\",\"Italy\",\"Italy\",\"Italy\",\"Italy\",\"Italy\",\"Italy\",\"Japan\",\"Japan\",\"Japan\",\"Japan\",\"Japan\",\"Kazakhstan\",\"Kazakhstan\",\"Kazakhstan\",\"Kazakhstan\",\"Kazakhstan\",\"Kazakhstan\",\"Kazakhstan\",\"Kazakhstan\",\"Kazakhstan\",\"Kazakhstan\",\"Kazakhstan\",\"Kazakhstan\",\"Kyrgyzstan\",\"Kyrgyzstan\",\"Kyrgyzstan\",\"Kyrgyzstan\",\"Kyrgyzstan\",\"Kyrgyzstan\",\"Kyrgyzstan\",\"Kyrgyzstan\",\"Kyrgyzstan\",\"Kyrgyzstan\",\"Kyrgyzstan\",\"Kyrgyzstan\",\"Latvia\",\"Latvia\",\"Latvia\",\"Latvia\",\"Latvia\",\"Latvia\",\"Latvia\",\"Latvia\",\"Latvia\",\"Latvia\",\"Latvia\",\"Latvia\",\"Lithuania\",\"Lithuania\",\"Lithuania\",\"Lithuania\",\"Lithuania\",\"Lithuania\",\"Lithuania\",\"Lithuania\",\"Lithuania\",\"Lithuania\",\"Lithuania\",\"Lithuania\",\"Luxembourg\",\"Luxembourg\",\"Luxembourg\",\"Luxembourg\",\"Luxembourg\",\"Luxembourg\",\"Luxembourg\",\"Luxembourg\",\"Luxembourg\",\"Luxembourg\",\"Luxembourg\",\"Luxembourg\",\"Malta\",\"Malta\",\"Malta\",\"Malta\",\"Malta\",\"Malta\",\"Malta\",\"Malta\",\"Malta\",\"Malta\",\"Malta\",\"Malta\",\"Mauritius\",\"Mauritius\",\"Mauritius\",\"Mauritius\",\"Mauritius\",\"Mauritius\",\"Mauritius\",\"Mauritius\",\"Mauritius\",\"Mauritius\",\"Mauritius\",\"Mauritius\",\"Mexico\",\"Mexico\",\"Mexico\",\"Mexico\",\"Mexico\",\"Mexico\",\"Mexico\",\"Mexico\",\"Mexico\",\"Mexico\",\"Montserrat\",\"Montserrat\",\"Montserrat\",\"Montserrat\",\"Montserrat\",\"Montserrat\",\"Montserrat\",\"Montserrat\",\"Montserrat\",\"Montserrat\",\"Montserrat\",\"Montserrat\",\"Netherlands\",\"Netherlands\",\"Netherlands\",\"Netherlands\",\"Netherlands\",\"Netherlands\",\"Netherlands\",\"Netherlands\",\"Netherlands\",\"Netherlands\",\"Netherlands\",\"Netherlands\",\"Nicaragua\",\"Nicaragua\",\"Nicaragua\",\"Nicaragua\",\"Nicaragua\",\"Nicaragua\",\"Nicaragua\",\"Nicaragua\",\"Nicaragua\",\"Nicaragua\",\"Nicaragua\",\"Nicaragua\",\"Norway\",\"Norway\",\"Norway\",\"Norway\",\"Norway\",\"Norway\",\"Norway\",\"Norway\",\"Norway\",\"Norway\",\"Norway\",\"Norway\",\"Occupied Palestinian Territory\",\"Occupied Palestinian Territory\",\"Occupied Palestinian Territory\",\"Occupied Palestinian Territory\",\"Occupied Palestinian Territory\",\"Occupied Palestinian Territory\",\"Occupied Palestinian Territory\",\"Occupied Palestinian Territory\",\"Occupied Palestinian Territory\",\"Occupied Palestinian Territory\",\"Occupied Palestinian Territory\",\"Occupied Palestinian Territory\",\"Panama\",\"Panama\",\"Panama\",\"Panama\",\"Panama\",\"Panama\",\"Panama\",\"Panama\",\"Panama\",\"Panama\",\"Panama\",\"Panama\",\"Peru\",\"Peru\",\"Peru\",\"Peru\",\"Peru\",\"Peru\",\"Peru\",\"Peru\",\"Peru\",\"Peru\",\"Peru\",\"Peru\",\"Poland\",\"Poland\",\"Poland\",\"Poland\",\"Poland\",\"Poland\",\"Poland\",\"Poland\",\"Poland\",\"Poland\",\"Puerto Rico\",\"Puerto Rico\",\"Puerto Rico\",\"Puerto Rico\",\"Puerto Rico\",\"Puerto Rico\",\"Puerto Rico\",\"Puerto Rico\",\"Puerto Rico\",\"Puerto Rico\",\"Puerto Rico\",\"Puerto Rico\",\"Qatar\",\"Qatar\",\"Qatar\",\"Qatar\",\"Qatar\",\"Qatar\",\"Qatar\",\"Qatar\",\"Qatar\",\"Qatar\",\"Qatar\",\"Qatar\",\"Republic of Korea\",\"Republic of Korea\",\"Republic of Korea\",\"Republic of Korea\",\"Republic of Korea\",\"Republic of Korea\",\"Republic of Korea\",\"Republic of Korea\",\"Republic of Korea\",\"Republic of Korea\",\"Republic of Moldova\",\"Republic of Moldova\",\"Republic of Moldova\",\"Republic of Moldova\",\"Republic of Moldova\",\"Republic of Moldova\",\"Republic of Moldova\",\"Republic of Moldova\",\"Republic of Moldova\",\"Republic of Moldova\",\"Republic of Moldova\",\"Republic of Moldova\",\"Rodrigues\",\"Rodrigues\",\"Rodrigues\",\"Rodrigues\",\"Rodrigues\",\"Rodrigues\",\"Rodrigues\",\"Rodrigues\",\"Rodrigues\",\"Rodrigues\",\"Rodrigues\",\"Rodrigues\",\"Romania\",\"Romania\",\"Romania\",\"Romania\",\"Romania\",\"Romania\",\"Romania\",\"Romania\",\"Romania\",\"Romania\",\"Romania\",\"Romania\",\"Russian Federation\",\"Russian Federation\",\"Russian Federation\",\"Russian Federation\",\"Saint Kitts and Nevis\",\"Saint Kitts and Nevis\",\"Saint Kitts and Nevis\",\"Saint Kitts and Nevis\",\"Saint Kitts and Nevis\",\"Saint Kitts and Nevis\",\"Saint Kitts and Nevis\",\"Saint Kitts and Nevis\",\"Saint Kitts and Nevis\",\"Saint Kitts and Nevis\",\"Saint Kitts and Nevis\",\"Saint Kitts and Nevis\",\"Saint Vincent and Grenadines\",\"Saint Vincent and Grenadines\",\"Saint Vincent and Grenadines\",\"Saint Vincent and Grenadines\",\"Saint Vincent and Grenadines\",\"Saint Vincent and Grenadines\",\"Saint Vincent and Grenadines\",\"Saint Vincent and Grenadines\",\"Saint Vincent and Grenadines\",\"Saint Vincent and Grenadines\",\"Saint Vincent and Grenadines\",\"Saint Vincent and Grenadines\",\"San Marino\",\"Serbia\",\"Serbia\",\"Serbia\",\"Serbia\",\"Serbia\",\"Serbia\",\"Serbia\",\"Serbia\",\"Serbia\",\"Serbia\",\"Serbia\",\"Serbia\",\"Seychelles\",\"Seychelles\",\"Seychelles\",\"Seychelles\",\"Seychelles\",\"Seychelles\",\"Seychelles\",\"Seychelles\",\"Seychelles\",\"Seychelles\",\"Seychelles\",\"Seychelles\",\"Singapore\",\"Singapore\",\"Singapore\",\"Singapore\",\"Singapore\",\"Singapore\",\"Singapore\",\"Singapore\",\"Singapore\",\"Singapore\",\"Singapore\",\"Singapore\",\"Slovenia\",\"Slovenia\",\"Slovenia\",\"Slovenia\",\"Slovenia\",\"Slovenia\",\"Slovenia\",\"Slovenia\",\"Slovenia\",\"Slovenia\",\"Slovenia\",\"Slovenia\",\"South Africa\",\"South Africa\",\"South Africa\",\"South Africa\",\"South Africa\",\"South Africa\",\"South Africa\",\"South Africa\",\"South Africa\",\"South Africa\",\"South Africa\",\"South Africa\",\"Spain\",\"Spain\",\"Spain\",\"Spain\",\"Spain\",\"Spain\",\"Spain\",\"Spain\",\"Spain\",\"Spain\",\"Spain\",\"Spain\",\"Sweden\",\"Sweden\",\"Sweden\",\"Sweden\",\"Sweden\",\"Sweden\",\"Sweden\",\"Sweden\",\"Sweden\",\"Sweden\",\"Sweden\",\"Sweden\",\"Switzerland\",\"Switzerland\",\"Switzerland\",\"Switzerland\",\"Switzerland\",\"Switzerland\",\"Switzerland\",\"Switzerland\",\"Switzerland\",\"Switzerland\",\"Switzerland\",\"Switzerland\",\"Thailand\",\"Thailand\",\"Thailand\",\"Thailand\",\"Thailand\",\"Thailand\",\"Thailand\",\"Thailand\",\"Thailand\",\"Thailand\",\"Thailand\",\"Turkey\",\"Turkey\",\"Turkey\",\"Turkey\",\"Turkey\",\"Turkey\",\"Turkey\",\"Turkey\",\"Turkey\",\"Turkey\",\"Turkey\",\"Turkey\",\"Turkmenistan\",\"Turkmenistan\",\"Turkmenistan\",\"Turkmenistan\",\"Turkmenistan\",\"Turkmenistan\",\"Turkmenistan\",\"Turkmenistan\",\"Turkmenistan\",\"Turkmenistan\",\"Turkmenistan\",\"Turkmenistan\",\"Ukraine\",\"Ukraine\",\"Ukraine\",\"Ukraine\",\"Ukraine\",\"Ukraine\",\"Ukraine\",\"Ukraine\",\"Ukraine\",\"Ukraine\",\"United Kingdom\",\"United Kingdom\",\"United Kingdom\",\"United Kingdom\",\"United Kingdom\",\"United Kingdom\",\"United Kingdom\",\"United Kingdom\",\"United Kingdom\",\"United Kingdom\",\"United Kingdom\",\"United States of America\",\"Uruguay\",\"Uruguay\",\"Uruguay\",\"Uruguay\",\"Uruguay\",\"Uruguay\",\"Uruguay\",\"Uruguay\",\"Uruguay\",\"Uruguay\",\"Uruguay\",\"Uruguay\",\"Virgin Islands (USA)\",\"Virgin Islands (USA)\",\"Virgin Islands (USA)\",\"Virgin Islands (USA)\",\"Virgin Islands (USA)\",\"Virgin Islands (USA)\",\"Virgin Islands (USA)\",\"Virgin Islands (USA)\",\"Virgin Islands (USA)\",\"Virgin Islands (USA)\",\"Virgin Islands (USA)\",\"Virgin Islands (USA)\"],\"population\":{\"__ndarray__\":\"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\",\"dtype\":\"float64\",\"shape\":[960]},\"x\":{\"__ndarray__\":\"WgAAAGAAAAAwAAAAcgAAAEIAAAD7AAAAUAAAAFYAAAAzAAAAaAAAAEMAAAAsAQAAAAAAAAAAAAAAAAAAAAAAAAAAAAAAAAAAAAAAAAAAAAAAAAAAAAAAAAAAAAAAAAAAAAAAAAAAAAAAAAAAAAAAAA8AAAAAAAAAAAAAAAAAAAAAAAAAAAAAAAAAAAAAAAAABAAAAAMAAAADAAAAAAAAAAMAAAACAAAAEgAAAA4AAAAMAAAAAQAAAA4AAAAiAAAAAQAAAAAAAAAAAAAAAAAAAAEAAAAEAAAAAAAAAAMAAAAEAAAAAAAAAAYAAAATAAAADQAAAAAAAAAAAAAADgAAAAAAAAAAAAAAGgAAABIAAAAUAAAAAAAAAAkAAAAAAAAABwAAAAYAAAAJAAAAAAAAAAYAAAAFAAAAEQAAABgAAAAdAAAAAAAAABMAAAAaAAAAAwAAAAMAAAAGAAAAAAAAAAoAAAAPAAAACwAAAA0AAAAYAAAAAAAAACAAAABJAAAAJAAAABkAAAANAAAAKQAAABAAAAAoAAAAIgAAABgAAAAOAAAAJwAAABcAAABuAAAAAwAAAAYAAAAOAAAAAAAAAA0AAAAOAAAADQAAABYAAAAhAAAAAAAAAB0AAAAtAAAAAgAAAAAAAAAFAAAAAAAAAAcAAAAAAAAABQAAAB8AAAAKAAAABwAAABUAAAAsAAAAAAAAAAAAAAAAAAAAAAAAAAAAAAAAAAAAAAAAAAAAAAAAAAAAAAAAAAAAAAAAAAAAAgAAABMAAAAAAAAABQAAAAAAAAAAAAAAAAAAAAAAAAAAAAAABwAAAAMAAAAAAAAAAAAAAAAAAAAEAAAABAAAAAUAAAABAAAABQAAAAQAAAAPAAAAFQAAABUAAAAAAAAAFQAAACkAAAAEAAAAAgAAAAEAAAABAAAAAQAAAAEAAAALAAAACQAAAAkAAAAAAAAACgAAABAAAAACAAAAAgAAAAgAAAAAAAAADQAAABcAAAANAAAADgAAABoAAAAAAAAAKwAAAE4AAAACAAAAAgAAAAUAAAAAAAAACQAAAA0AAAAHAAAACgAAABYAAAAAAAAAJQAAAFIAAAABAAAAAgAAAAIAAAAAAAAAAwAAAAAAAAAIAAAACgAAAAkAAAAAAAAACgAAAAAAAAADAAAAAgAAAAUAAAAAAAAABQAAAAkAAAAKAAAAFAAAABkAAAAAAAAAHwAAADYAAAABAAAABAAAAAYAAAAAAAAACQAAAAwAAAAEAAAACAAAABQAAAAAAAAAEwAAAB8AAAAAAAAAAAAAAAAAAAAAAAAAAAAAAAAAAAAAAAAAAAAAAAAAAAAAAAAAAAAAAAAAAAAHAAAABAAAAAIAAAABAAAAAgAAAAIAAAAPAAAADgAAAAsAAAACAAAADAAAABQAAAAAAAAAAAAAAAAAAAAAAAAAAAAAAAAAAAAAAAAAAAAAAAAAAAAAAAAAAAAAAAAAAAABAAAAAgAAAAYAAAABAAAABgAAAAoAAAAdAAAAGQAAABsAAAABAAAAIgAAADoAAAADAAAACAAAAAgAAAAAAAAABwAAAAcAAAARAAAAGQAAABoAAAABAAAAFwAAAB0AAAAAAAAAAQAAAAEAAAAAAAAAAwAAAAwAAAAGAAAABgAAAAkAAAAAAAAACgAAAB4AAAADAAAAAwAAAAYAAAAAAAAACQAAAAsAAAAIAAAADQAAAAAAAAAAAAAAAgAAAAIAAAAAAAAAAwAAAAEAAAADAAAABgAAAAkAAAAAAAAADAAAAA4AAAAAAAAAAAAAAAAAAAAAAAAAAAAAAAAAAAAAAAAAAAAAAAAAAAAAAAAAAAAAAAAAAAAEAAAAAQAAAAEAAAAAAAAAAAAAAAEAAAAHAAAABgAAAAYAAAAAAAAABQAAAAYAAAADAAAABwAAAAkAAAAAAAAADAAAABUAAAALAAAAEAAAABQAAAAAAAAAFwAAACsAAAACAAAABAAAAAkAAAAAAAAADQAAABcAAAALAAAAFAAAACAAAAAAAAAALgAAAFsAAAAAAAAABAAAAAQAAAAAAAAAEgAAABEAAAAdAAAAGAAAABkAAAAAAAAADwAAAAAAAAAEAAAAAQAAAAEAAAAAAAAAAAAAAAEAAAAHAAAABgAAAAQAAAAAAAAAAwAAAAMAAAABAAAAAgAAAAIAAAAAAAAAAgAAAAUAAAAFAAAABwAAAAkAAAAAAAAACgAAABEAAAABAAAAAQAAAAMAAAAAAAAABAAAAAMAAAAFAAAABwAAAAsAAAAAAAAADQAAABkAAAAHAAAACgAAAAAAAAARAAAAAQAAAAkAAAAHAAAABwAAAAAAAAAEAAAADAAAABcAAAAoAAAALQAAAAIAAAAmAAAALgAAAAYAAAACAAAAAwAAAAEAAAACAAAABQAAAAsAAAANAAAAFQAAAAMAAAAPAAAADAAAAAIAAAABAAAACAAAAAAAAAAKAAAAEAAAABYAAAAhAAAAKAAAAAAAAAAxAAAAQAAAAAUAAAAJAAAACgAAAAIAAAAOAAAAEwAAACIAAAA0AAAARwAAAAEAAABOAAAAVAAAAAMAAAAAAAAABgAAAAMAAAAQAAAACAAAAAsAAAAJAAAAEgAAAAAAAAAdAAAAGgAAAAMAAAADAAAABQAAAAAAAAADAAAAAAAAAAcAAAAYAAAADwAAAAAAAAAPAAAAAAAAAAcAAAALAAAAAgAAAAAAAAADAAAAAAAAAA4AAAASAAAAFAAAAAAAAAAIAAAADAAAAAQAAAACAAAAAAAAAAEAAAAAAAAACwAAAAsAAAABAAAACQAAAAsAAAAAAAAAAAAAAAAAAAAAAAAAAAAAAAAAAAAAAAAAAAAAAAAAAAAAAAAAAAAAAAAAAAADAAAABgAAAAgAAAAAAAAACwAAAAcAAAAIAAAADQAAABUAAAAAAAAAFQAAABgAAAAHAAAAAwAAAAIAAAABAAAAAQAAAAAAAAALAAAADAAAAAsAAAAAAAAABwAAAAwAAAAFAAAACAAAAAgAAAAAAAAACwAAAAcAAAAMAAAAEQAAABMAAAAAAAAAFQAAABUAAAAAAAAAAAAAAAAAAAAAAAAAAAAAAAAAAAAAAAAAAAAAAAAAAAAAAAAAAAAAAAAAAAACAAAAAQAAAAAAAAAAAAAAAQAAAAAAAAAEAAAACAAAAAUAAAAAAAAABgAAAA4AAAACAAAAAQAAAAEAAAAAAAAAAAAAAAAAAAACAAAAAgAAAAMAAAAAAAAAAQAAAAAAAAACAAAAAgAAAAQAAAAAAAAABQAAAAQAAAATAAAAGQAAAAAAAAAfAAAAAAAAAAEAAAABAAAAAAAAAAIAAAAAAAAAAwAAAAoAAAAPAAAAAAAAABUAAAAbAAAAAgAAAAEAAAACAAAAAAAAAAAAAAAAAAAABAAAAAIAAAADAAAAAAAAAAEAAAAAAAAABwAAABEAAAAQAAAAAAAAABIAAAArAAAACwAAABsAAAAAAAAAjAAAAAQAAAADAAAACAAAAAEAAAAFAAAABQAAAAoAAAAUAAAALgAAAAAAAAArAAAAGwAAABsAAAAAAAAAAAAAAAAAAAAAAAAAAAAAAAAAAAAiAAAAAAAAAAAAAAAAAAAAAAAAAAEAAAABAAAAAwAAAAAAAAAFAAAABgAAAAoAAAAOAAAAGQAAAAEAAAAeAAAAIAAAAAQAAAAAAAAADQAAAAEAAAAAAAAAAAAAAAAAAAAAAAAAAAAAAAAAAAAAAAAAAAAAAAAAAAAAAAAAAAAAAAAAAAAAAAAAAAAAAAAAAAALAAAAAAAAAAAAAAAKAAAAAAAAAAYAAAAAAAAAAAAAAAAAAAA/DQAAAQAAAAQAAAAGAAAAAAAAAAoAAAAVAAAABgAAAA4AAAAWAAAAAAAAACEAAABSAAAAEAAAAAAAAAAAAAAAAAAAAAAAAAAAAAAADwAAAA0AAAAVAAAAAAAAAA4AAAAAAAAABgAAAAYAAAAFAAAAAAAAAAYAAAAMAAAABwAAAAsAAAANAAAAAAAAABIAAAAVAAAAAwAAAAMAAAAHAAAAAAAAAA8AAAAQAAAADQAAABQAAAAhAAAAAAAAADIAAABjAAAAAAAAAAAAAAAAAAAAAAAAAAAAAAAAAAAAAQAAAAIAAAABAAAAAAAAAAEAAAACAAAAAgAAAAIAAAAEAAAAAAAAAAUAAAAGAAAABAAAAAgAAAANAAAAAAAAAA8AAAAhAAAABgAAAAcAAAAIAAAAAAAAAAkAAAAHAAAACwAAABAAAAAWAAAAAAAAABgAAAAhAAAABAAAAAQAAAAJAAAAAAAAAAgAAAAJAAAADAAAAA0AAAATAAAAAAAAAB0AAAAzAAAAAQAAAAIAAAADAAAAAAAAAAQAAAAEAAAABgAAAA0AAAAAAAAADgAAABAAAAACAAAAAQAAAAEAAAAAAAAAAAAAAAEAAAADAAAAAwAAAAMAAAAAAAAABAAAAAYAAAAEAAAAAgAAAAAAAAAAAAAAAQAAAAEAAAAGAAAAAwAAAAYAAAAAAAAAAwAAAAAAAAAFAAAABAAAAAYAAAAAAAAABwAAAA0AAAAVAAAAHwAAAAEAAABGAAAAAgAAAAQAAAAFAAAAAAAAAAQAAAADAAAACQAAAA0AAAAAAAAADQAAAAwAAAAEAAAABgAAAAkAAAAIAAAAAAAAAAoAAAAKAAAAGwAAACgAAAAfAAAAAQAAAC8AAABJAAAAAAAAAAAAAAAAAAAAAAAAAAAAAAAAAAAAAAAAACsAAAAHAAAAAAAAAAAAAAAAAAAA\",\"dtype\":\"int32\",\"shape\":[900]},\"y\":{\"__ndarray__\":\"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\",\"dtype\":\"int32\",\"shape\":[900]}},\"selected\":{\"id\":\"1050\",\"type\":\"Selection\"},\"selection_policy\":{\"id\":\"1049\",\"type\":\"UnionRenderers\"}},\"id\":\"1002\",\"type\":\"ColumnDataSource\"},{\"attributes\":{},\"id\":\"1239\",\"type\":\"PanTool\"},{\"attributes\":{},\"id\":\"1240\",\"type\":\"WheelZoomTool\"},{\"attributes\":{\"overlay\":{\"id\":\"1247\",\"type\":\"BoxAnnotation\"}},\"id\":\"1241\",\"type\":\"BoxZoomTool\"}],\"root_ids\":[\"1220\"]},\"title\":\"Bokeh Application\",\"version\":\"1.0.2\"}};\n",
       "  var render_items = [{\"docid\":\"1cfcff58-ab1e-4893-bc54-d0aa697c885d\",\"roots\":{\"1220\":\"fdf945c3-8655-405a-949a-7b5e792cd08d\"}}];\n",
       "  root.Bokeh.embed.embed_items_notebook(docs_json, render_items);\n",
       "\n",
       "  }\n",
       "  if (root.Bokeh !== undefined) {\n",
       "    embed_document(root);\n",
       "  } else {\n",
       "    var attempts = 0;\n",
       "    var timer = setInterval(function(root) {\n",
       "      if (root.Bokeh !== undefined) {\n",
       "        embed_document(root);\n",
       "        clearInterval(timer);\n",
       "      }\n",
       "      attempts++;\n",
       "      if (attempts > 100) {\n",
       "        console.log(\"Bokeh: ERROR: Unable to run BokehJS code because BokehJS library is missing\");\n",
       "        clearInterval(timer);\n",
       "      }\n",
       "    }, 10, root)\n",
       "  }\n",
       "})(window);"
      ],
      "application/vnd.bokehjs_exec.v0+json": ""
     },
     "metadata": {
      "application/vnd.bokehjs_exec.v0+json": {
       "id": "1220"
      }
     },
     "output_type": "display_data"
    },
    {
     "data": {
      "text/plain": [
       "<Figure size 1296x720 with 0 Axes>"
      ]
     },
     "metadata": {},
     "output_type": "display_data"
    }
   ],
   "source": [
    "\n",
    "plt.figure(figsize=(18,10))\n",
    "p=figure(**PLOT_OPTS)\n",
    "p.circle(x='x',y='y',source=source)\n",
    "\n",
    "show(p)"
   ]
  },
  {
   "cell_type": "code",
   "execution_count": 93,
   "metadata": {},
   "outputs": [
    {
     "data": {
      "text/plain": [
       "count    38220.000000\n",
       "mean         6.874150\n",
       "std          9.077463\n",
       "min          0.000000\n",
       "25%          0.000000\n",
       "50%          3.000000\n",
       "75%         11.000000\n",
       "max         37.000000\n",
       "Name: suicdes_per_100k, dtype: float64"
      ]
     },
     "execution_count": 93,
     "metadata": {},
     "output_type": "execute_result"
    }
   ],
   "source": [
    "df2['suicdes_per_100k'].describe()"
   ]
  },
  {
   "cell_type": "code",
   "execution_count": null,
   "metadata": {},
   "outputs": [],
   "source": []
  },
  {
   "cell_type": "code",
   "execution_count": 39,
   "metadata": {
    "scrolled": true
   },
   "outputs": [
    {
     "data": {
      "text/plain": [
       "<matplotlib.axes._subplots.AxesSubplot at 0x1369bf5b710>"
      ]
     },
     "execution_count": 39,
     "metadata": {},
     "output_type": "execute_result"
    },
    {
     "data": {
      "image/png": "[encoded data removed]",
      "text/plain": [
       "<Figure size 1296x720 with 1 Axes>"
      ]
     },
     "metadata": {
      "needs_background": "light"
     },
     "output_type": "display_data"
    }
   ],
   "source": [
    "plt.figure(figsize=(18,10))\n",
    "sns.boxplot(x=\"zScore_sui_100k\",data=df2)"
   ]
  },
  {
   "cell_type": "code",
   "execution_count": 40,
   "metadata": {},
   "outputs": [
    {
     "data": {
      "text/plain": [
       "51"
      ]
     },
     "execution_count": 40,
     "metadata": {},
     "output_type": "execute_result"
    }
   ],
   "source": [
    "len(df2[np.logical_and(df2['suicdes_per_100k']>1000,df2['suicdes_per_100k']<=2000)].suicdes_per_100k)"
   ]
  },
  {
   "cell_type": "code",
   "execution_count": 41,
   "metadata": {},
   "outputs": [
    {
     "data": {
      "text/plain": [
       "46"
      ]
     },
     "execution_count": 41,
     "metadata": {},
     "output_type": "execute_result"
    }
   ],
   "source": [
    "len(df2[df2['suicdes_per_100k']>2000].suicdes_per_100k)"
   ]
  },
  {
   "cell_type": "code",
   "execution_count": 42,
   "metadata": {},
   "outputs": [
    {
     "data": {
      "text/plain": [
       "607"
      ]
     },
     "execution_count": 42,
     "metadata": {},
     "output_type": "execute_result"
    }
   ],
   "source": [
    "len(df2[np.logical_and(df2['suicdes_per_100k']>100,df2['suicdes_per_100k']<=1000)].suicdes_per_100k)"
   ]
  },
  {
   "cell_type": "code",
   "execution_count": 43,
   "metadata": {},
   "outputs": [
    {
     "data": {
      "text/plain": [
       "1840"
      ]
     },
     "execution_count": 43,
     "metadata": {},
     "output_type": "execute_result"
    }
   ],
   "source": [
    "len(df2[np.logical_and(df2['suicdes_per_100k']>50,df2['suicdes_per_100k']<100)].suicdes_per_100k)"
   ]
  },
  {
   "cell_type": "code",
   "execution_count": 44,
   "metadata": {},
   "outputs": [
    {
     "name": "stdout",
     "output_type": "stream",
     "text": [
      "Q1: [%d] ,Q3: [%d] 0.0 15.0 15.0\n",
      "(42056,)\n"
     ]
    },
    {
     "data": {
      "text/plain": [
       "(38220, 10)"
      ]
     },
     "execution_count": 44,
     "metadata": {},
     "output_type": "execute_result"
    }
   ],
   "source": [
    "Q1=df2['suicdes_per_100k'].quantile(0.25)\n",
    "\n",
    "Q3=df2['suicdes_per_100k'].quantile(0.75)\n",
    "IQR=Q3-Q1\n",
    "print(\"Q1: [%d] ,Q3: [%d]\", Q1,Q3,IQR)\n",
    "print(df2['suicdes_per_100k'].shape)\n",
    "df2_copy=df2[~np.logical_or(df2['suicdes_per_100k']<(Q1-1.5*IQR),df2['suicdes_per_100k']>(Q3+1.5*IQR))]\n",
    "df2_copy.shape"
   ]
  },
  {
   "cell_type": "code",
   "execution_count": 45,
   "metadata": {},
   "outputs": [
    {
     "data": {
      "text/plain": [
       "count    38220.000000\n",
       "mean         6.874150\n",
       "std          9.077463\n",
       "min          0.000000\n",
       "25%          0.000000\n",
       "50%          3.000000\n",
       "75%         11.000000\n",
       "max         37.000000\n",
       "Name: suicdes_per_100k, dtype: float64"
      ]
     },
     "execution_count": 45,
     "metadata": {},
     "output_type": "execute_result"
    }
   ],
   "source": [
    "df2_copy.suicdes_per_100k.describe()"
   ]
  },
  {
   "cell_type": "code",
   "execution_count": 46,
   "metadata": {},
   "outputs": [],
   "source": [
    "df2=df2_copy"
   ]
  },
  {
   "cell_type": "code",
   "execution_count": 47,
   "metadata": {},
   "outputs": [
    {
     "data": {
      "text/html": [
       "<div>\n",
       "<style scoped>\n",
       "    .dataframe tbody tr th:only-of-type {\n",
       "        vertical-align: middle;\n",
       "    }\n",
       "\n",
       "    .dataframe tbody tr th {\n",
       "        vertical-align: top;\n",
       "    }\n",
       "\n",
       "    .dataframe thead th {\n",
       "        text-align: right;\n",
       "    }\n",
       "</style>\n",
       "<table border=\"1\" class=\"dataframe\">\n",
       "  <thead>\n",
       "    <tr style=\"text-align: right;\">\n",
       "      <th></th>\n",
       "      <th>population</th>\n",
       "      <th>suicdes_per_100k</th>\n",
       "    </tr>\n",
       "  </thead>\n",
       "  <tbody>\n",
       "    <tr>\n",
       "      <th>24</th>\n",
       "      <td>289700</td>\n",
       "      <td>4</td>\n",
       "    </tr>\n",
       "    <tr>\n",
       "      <th>25</th>\n",
       "      <td>257200</td>\n",
       "      <td>1</td>\n",
       "    </tr>\n",
       "    <tr>\n",
       "      <th>26</th>\n",
       "      <td>278800</td>\n",
       "      <td>2</td>\n",
       "    </tr>\n",
       "    <tr>\n",
       "      <th>27</th>\n",
       "      <td>311000</td>\n",
       "      <td>0</td>\n",
       "    </tr>\n",
       "    <tr>\n",
       "      <th>28</th>\n",
       "      <td>144600</td>\n",
       "      <td>0</td>\n",
       "    </tr>\n",
       "  </tbody>\n",
       "</table>\n",
       "</div>"
      ],
      "text/plain": [
       "    population  suicdes_per_100k\n",
       "24      289700                 4\n",
       "25      257200                 1\n",
       "26      278800                 2\n",
       "27      311000                 0\n",
       "28      144600                 0"
      ]
     },
     "execution_count": 47,
     "metadata": {},
     "output_type": "execute_result"
    }
   ],
   "source": [
    "df3=df2[['country','year','sex','age','population','suicdes_per_100k']]\n",
    "df4=df2[['population','suicdes_per_100k']]\n",
    "df4.head()"
   ]
  },
  {
   "cell_type": "code",
   "execution_count": 48,
   "metadata": {},
   "outputs": [
    {
     "name": "stderr",
     "output_type": "stream",
     "text": [
      "C:\\Users\\Ahmed\\Anaconda3\\lib\\site-packages\\ipykernel_launcher.py:3: SettingWithCopyWarning: \n",
      "A value is trying to be set on a copy of a slice from a DataFrame.\n",
      "Try using .loc[row_indexer,col_indexer] = value instead\n",
      "\n",
      "See the caveats in the documentation: http://pandas.pydata.org/pandas-docs/stable/indexing.html#indexing-view-versus-copy\n",
      "  This is separate from the ipykernel package so we can avoid doing imports until\n"
     ]
    }
   ],
   "source": [
    "from sklearn.preprocessing import LabelEncoder\n",
    "le = LabelEncoder()\n",
    "df3[\"country\"]=le.fit_transform(df3[\"country\"])\n"
   ]
  },
  {
   "cell_type": "markdown",
   "metadata": {},
   "source": [
    "# SIMPLE LINEAR REGRESSION\n"
   ]
  },
  {
   "cell_type": "code",
   "execution_count": 49,
   "metadata": {},
   "outputs": [],
   "source": [
    "x=df4.iloc[:,:-1].values\n",
    "y=df4.iloc[:,1].values\n"
   ]
  },
  {
   "cell_type": "code",
   "execution_count": 50,
   "metadata": {},
   "outputs": [],
   "source": [
    "\n",
    "x_train, x_test, y_train, y_test = train_test_split(x,y,test_size=0.3, random_state=42)"
   ]
  },
  {
   "cell_type": "code",
   "execution_count": 51,
   "metadata": {},
   "outputs": [],
   "source": [
    "from sklearn.preprocessing import StandardScaler\n"
   ]
  },
  {
   "cell_type": "code",
   "execution_count": 52,
   "metadata": {},
   "outputs": [
    {
     "name": "stderr",
     "output_type": "stream",
     "text": [
      "C:\\Users\\Ahmed\\Anaconda3\\lib\\site-packages\\sklearn\\utils\\validation.py:595: DataConversionWarning: Data with input dtype int32 was converted to float64 by StandardScaler.\n",
      "  warnings.warn(msg, DataConversionWarning)\n",
      "C:\\Users\\Ahmed\\Anaconda3\\lib\\site-packages\\sklearn\\utils\\validation.py:595: DataConversionWarning: Data with input dtype int32 was converted to float64 by StandardScaler.\n",
      "  warnings.warn(msg, DataConversionWarning)\n",
      "C:\\Users\\Ahmed\\Anaconda3\\lib\\site-packages\\sklearn\\utils\\validation.py:595: DataConversionWarning: Data with input dtype int32 was converted to float64 by StandardScaler.\n",
      "  warnings.warn(msg, DataConversionWarning)\n"
     ]
    }
   ],
   "source": [
    "x_train.reshape(-1,1)\n",
    "x_test.reshape(-1,1)\n",
    "sc_X=StandardScaler()\n",
    "x_train=sc_X.fit_transform(x_train)\n",
    "x_test=sc_X.transform(x_test)"
   ]
  },
  {
   "cell_type": "code",
   "execution_count": 53,
   "metadata": {},
   "outputs": [],
   "source": [
    "x_train, x_test, y_train, y_test = train_test_split(x,y,test_size=0.3, random_state=42)"
   ]
  },
  {
   "cell_type": "code",
   "execution_count": 54,
   "metadata": {},
   "outputs": [],
   "source": [
    "from sklearn import datasets, linear_model\n",
    "from sklearn.metrics import mean_squared_error, r2_score,mean_absolute_error"
   ]
  },
  {
   "cell_type": "code",
   "execution_count": 55,
   "metadata": {},
   "outputs": [],
   "source": [
    "regr = linear_model.LinearRegression()"
   ]
  },
  {
   "cell_type": "code",
   "execution_count": 56,
   "metadata": {},
   "outputs": [],
   "source": [
    "regr.fit(x_train, y_train)\n",
    "y_pred = regr.predict(x_test)"
   ]
  },
  {
   "cell_type": "code",
   "execution_count": 57,
   "metadata": {},
   "outputs": [
    {
     "name": "stdout",
     "output_type": "stream",
     "text": [
      "Coefficients: \n",
      " [-3.3319579e-07]\n",
      "Mean squared error: 82.17\n",
      "Variance score: 0.01\n",
      "Mean absolute error: 7.19\n"
     ]
    }
   ],
   "source": [
    "print('Coefficients: \\n', regr.coef_)\n",
    "# The mean squared error\n",
    "print(\"Mean squared error: %.2f\"\n",
    "      % mean_squared_error(y_test, y_pred))\n",
    "# Explained variance score: 1 is perfect prediction\n",
    "print('Variance score: %.2f' % r2_score(y_test, y_pred))\n",
    "print(\"Mean absolute error: %.2f\"% mean_absolute_error(y_test,y_pred))"
   ]
  },
  {
   "cell_type": "code",
   "execution_count": 58,
   "metadata": {},
   "outputs": [
    {
     "name": "stdout",
     "output_type": "stream",
     "text": [
      "9.064492014546898\n"
     ]
    }
   ],
   "source": [
    "rmse=np.sqrt(mean_squared_error(y_test, y_pred))\n",
    "print(rmse)"
   ]
  },
  {
   "cell_type": "code",
   "execution_count": 59,
   "metadata": {},
   "outputs": [
    {
     "data": {
      "image/png": "[encoded data removed]",
      "text/plain": [
       "<Figure size 432x288 with 1 Axes>"
      ]
     },
     "metadata": {},
     "output_type": "display_data"
    }
   ],
   "source": [
    "plt.scatter(x_test, y_test,  color='yellow')\n",
    "plt.plot(x_test, y_pred, color='blue', linewidth=3)\n",
    "\n",
    "plt.xlabel(\"population\")\n",
    "plt.ylabel(\"suicide_per_100k\")\n",
    "plt.xticks(())\n",
    "plt.yticks(())\n",
    "\n",
    "plt.show()\n"
   ]
  },
  {
   "cell_type": "markdown",
   "metadata": {},
   "source": [
    "# RANDOM FOREST REGRESSION"
   ]
  },
  {
   "cell_type": "code",
   "execution_count": 60,
   "metadata": {},
   "outputs": [
    {
     "name": "stderr",
     "output_type": "stream",
     "text": [
      "C:\\Users\\Ahmed\\Anaconda3\\lib\\site-packages\\sklearn\\utils\\validation.py:595: DataConversionWarning: Data with input dtype int64 was converted to float64 by StandardScaler.\n",
      "  warnings.warn(msg, DataConversionWarning)\n",
      "C:\\Users\\Ahmed\\Anaconda3\\lib\\site-packages\\sklearn\\utils\\validation.py:595: DataConversionWarning: Data with input dtype int64 was converted to float64 by StandardScaler.\n",
      "  warnings.warn(msg, DataConversionWarning)\n",
      "C:\\Users\\Ahmed\\Anaconda3\\lib\\site-packages\\sklearn\\utils\\validation.py:595: DataConversionWarning: Data with input dtype int64 was converted to float64 by StandardScaler.\n",
      "  warnings.warn(msg, DataConversionWarning)\n"
     ]
    }
   ],
   "source": [
    "x1=df3.iloc[:,0:5].values\n",
    "y1=df3.iloc[:,-1].values\n",
    "x_train1, x_test1, y_train1, y_test1 = train_test_split(x1,y1,test_size=0.3, random_state=42)\n",
    "\n",
    "sc_X=StandardScaler()\n",
    "x_train1=sc_X.fit_transform(x_train1)\n",
    "x_test1=sc_X.transform(x_test1)"
   ]
  },
  {
   "cell_type": "code",
   "execution_count": 61,
   "metadata": {},
   "outputs": [],
   "source": [
    "from sklearn.ensemble import RandomForestRegressor\n"
   ]
  },
  {
   "cell_type": "code",
   "execution_count": 62,
   "metadata": {},
   "outputs": [],
   "source": [
    "rf = RandomForestRegressor(n_estimators = 50, oob_score=True,random_state=0)\n",
    "# Train the model on training data\n",
    "rf.fit(x_train1, y_train1)\n",
    "y_pred1 = rf.predict(x_test1)\n"
   ]
  },
  {
   "cell_type": "code",
   "execution_count": 63,
   "metadata": {
    "scrolled": false
   },
   "outputs": [
    {
     "name": "stdout",
     "output_type": "stream",
     "text": [
      "Mean squared error: 13.76\n",
      "Variance score: 0.83\n",
      "Mean absolute error: 1.85\n"
     ]
    }
   ],
   "source": [
    "\n",
    "# The mean squared error\n",
    "print(\"Mean squared error: %.2f\"\n",
    "      % mean_squared_error(y_test1, y_pred1))\n",
    "# Explained variance score: 1 is perfect prediction\n",
    "print('Variance score: %.2f' % r2_score(y_test1, y_pred1))\n",
    "print(\"Mean absolute error: %.2f\"% mean_absolute_error(y_test1,y_pred1))"
   ]
  },
  {
   "cell_type": "code",
   "execution_count": 64,
   "metadata": {},
   "outputs": [
    {
     "name": "stdout",
     "output_type": "stream",
     "text": [
      "3.7100154846327658\n"
     ]
    }
   ],
   "source": [
    "rmse=np.sqrt(mean_squared_error(y_test1, y_pred1))\n",
    "print(rmse)"
   ]
  },
  {
   "cell_type": "markdown",
   "metadata": {},
   "source": [
    "# MULTIPLE LINEAR REGRESSION"
   ]
  },
  {
   "cell_type": "code",
   "execution_count": 65,
   "metadata": {},
   "outputs": [
    {
     "data": {
      "text/plain": [
       "LinearRegression(copy_X=True, fit_intercept=True, n_jobs=None,\n",
       "         normalize=False)"
      ]
     },
     "execution_count": 65,
     "metadata": {},
     "output_type": "execute_result"
    }
   ],
   "source": [
    "from sklearn.linear_model import LinearRegression\n",
    "regressor=LinearRegression()\n",
    "regressor.fit(x_train1, y_train1)"
   ]
  },
  {
   "cell_type": "code",
   "execution_count": 66,
   "metadata": {},
   "outputs": [],
   "source": [
    "y_pred2=regressor.predict(x_test1)"
   ]
  },
  {
   "cell_type": "code",
   "execution_count": 67,
   "metadata": {},
   "outputs": [
    {
     "name": "stdout",
     "output_type": "stream",
     "text": [
      "Coefficients: \n",
      " [ 0.54765057 -0.71591491 -2.70544155  2.617829   -0.3766323 ]\n",
      "Mean squared error: 69.32\n",
      "Variance score: 0.16\n",
      "Mean absolute error: 6.27\n"
     ]
    }
   ],
   "source": [
    "print('Coefficients: \\n', regressor.coef_)\n",
    "# The mean squared error\n",
    "print(\"Mean squared error: %.2f\"\n",
    "      % mean_squared_error(y_test1, y_pred2))\n",
    "# Explained variance score: 1 is perfect prediction\n",
    "print('Variance score: %.2f' % r2_score(y_test1, y_pred2))\n",
    "print(\"Mean absolute error: %.2f\"% mean_absolute_error(y_test1,y_pred2))"
   ]
  },
  {
   "cell_type": "code",
   "execution_count": 68,
   "metadata": {},
   "outputs": [],
   "source": [
    "#finding significant predictor"
   ]
  },
  {
   "cell_type": "code",
   "execution_count": 69,
   "metadata": {},
   "outputs": [],
   "source": [
    "import statsmodels.formula.api as sm"
   ]
  },
  {
   "cell_type": "code",
   "execution_count": 70,
   "metadata": {},
   "outputs": [],
   "source": [
    "x1=np.append(arr=np.ones((38220,1)).astype(int),values=x1,axis=1)"
   ]
  },
  {
   "cell_type": "code",
   "execution_count": 71,
   "metadata": {},
   "outputs": [],
   "source": [
    "x_opt=x1[:,[0,1,2,3,4,5]]"
   ]
  },
  {
   "cell_type": "code",
   "execution_count": 72,
   "metadata": {},
   "outputs": [
    {
     "data": {
      "text/plain": [
       "array([[      1,       0,    1987,       1,       1,  289700],\n",
       "       [      1,       0,    1987,       1,       2,  257200],\n",
       "       [      1,       0,    1987,       1,       3,  278800],\n",
       "       ...,\n",
       "       [      1,     140,    1990,       0,       0, 1664091],\n",
       "       [      1,     140,    1990,       0,       4, 1664091],\n",
       "       [      1,     140,    1990,       0,       5, 1664091]],\n",
       "      dtype=int64)"
      ]
     },
     "execution_count": 72,
     "metadata": {},
     "output_type": "execute_result"
    }
   ],
   "source": [
    "x1"
   ]
  },
  {
   "cell_type": "code",
   "execution_count": 73,
   "metadata": {},
   "outputs": [],
   "source": [
    "regressor_ols=sm.OLS(endog=y1,exog=x_opt).fit()"
   ]
  },
  {
   "cell_type": "code",
   "execution_count": 74,
   "metadata": {},
   "outputs": [
    {
     "data": {
      "text/html": [
       "<table class=\"simpletable\">\n",
       "<caption>OLS Regression Results</caption>\n",
       "<tr>\n",
       "  <th>Dep. Variable:</th>            <td>y</td>        <th>  R-squared:         </th>  <td>   0.171</td>  \n",
       "</tr>\n",
       "<tr>\n",
       "  <th>Model:</th>                   <td>OLS</td>       <th>  Adj. R-squared:    </th>  <td>   0.171</td>  \n",
       "</tr>\n",
       "<tr>\n",
       "  <th>Method:</th>             <td>Least Squares</td>  <th>  F-statistic:       </th>  <td>   1573.</td>  \n",
       "</tr>\n",
       "<tr>\n",
       "  <th>Date:</th>             <td>Sun, 05 May 2019</td> <th>  Prob (F-statistic):</th>   <td>  0.00</td>   \n",
       "</tr>\n",
       "<tr>\n",
       "  <th>Time:</th>                 <td>17:23:17</td>     <th>  Log-Likelihood:    </th> <td>-1.3496e+05</td>\n",
       "</tr>\n",
       "<tr>\n",
       "  <th>No. Observations:</th>      <td> 38220</td>      <th>  AIC:               </th>  <td>2.699e+05</td> \n",
       "</tr>\n",
       "<tr>\n",
       "  <th>Df Residuals:</th>          <td> 38214</td>      <th>  BIC:               </th>  <td>2.700e+05</td> \n",
       "</tr>\n",
       "<tr>\n",
       "  <th>Df Model:</th>              <td>     5</td>      <th>                     </th>      <td> </td>     \n",
       "</tr>\n",
       "<tr>\n",
       "  <th>Covariance Type:</th>      <td>nonrobust</td>    <th>                     </th>      <td> </td>     \n",
       "</tr>\n",
       "</table>\n",
       "<table class=\"simpletable\">\n",
       "<tr>\n",
       "    <td></td>       <th>coef</th>     <th>std err</th>      <th>t</th>      <th>P>|t|</th>  <th>[0.025</th>    <th>0.975]</th>  \n",
       "</tr>\n",
       "<tr>\n",
       "  <th>const</th> <td>  142.7752</td> <td>    8.294</td> <td>   17.215</td> <td> 0.000</td> <td>  126.520</td> <td>  159.031</td>\n",
       "</tr>\n",
       "<tr>\n",
       "  <th>x1</th>    <td>    0.0129</td> <td>    0.001</td> <td>   12.524</td> <td> 0.000</td> <td>    0.011</td> <td>    0.015</td>\n",
       "</tr>\n",
       "<tr>\n",
       "  <th>x2</th>    <td>   -0.0686</td> <td>    0.004</td> <td>  -16.533</td> <td> 0.000</td> <td>   -0.077</td> <td>   -0.060</td>\n",
       "</tr>\n",
       "<tr>\n",
       "  <th>x3</th>    <td>   -5.4490</td> <td>    0.085</td> <td>  -64.115</td> <td> 0.000</td> <td>   -5.616</td> <td>   -5.282</td>\n",
       "</tr>\n",
       "<tr>\n",
       "  <th>x4</th>    <td>    1.5037</td> <td>    0.025</td> <td>   59.823</td> <td> 0.000</td> <td>    1.454</td> <td>    1.553</td>\n",
       "</tr>\n",
       "<tr>\n",
       "  <th>x5</th>    <td> -2.24e-07</td> <td> 2.29e-08</td> <td>   -9.790</td> <td> 0.000</td> <td>-2.69e-07</td> <td>-1.79e-07</td>\n",
       "</tr>\n",
       "</table>\n",
       "<table class=\"simpletable\">\n",
       "<tr>\n",
       "  <th>Omnibus:</th>       <td>5432.429</td> <th>  Durbin-Watson:     </th> <td>   1.164</td>\n",
       "</tr>\n",
       "<tr>\n",
       "  <th>Prob(Omnibus):</th>  <td> 0.000</td>  <th>  Jarque-Bera (JB):  </th> <td>8293.464</td>\n",
       "</tr>\n",
       "<tr>\n",
       "  <th>Skew:</th>           <td> 1.024</td>  <th>  Prob(JB):          </th> <td>    0.00</td>\n",
       "</tr>\n",
       "<tr>\n",
       "  <th>Kurtosis:</th>       <td> 4.007</td>  <th>  Cond. No.          </th> <td>4.44e+08</td>\n",
       "</tr>\n",
       "</table><br/><br/>Warnings:<br/>[1] Standard Errors assume that the covariance matrix of the errors is correctly specified.<br/>[2] The condition number is large, 4.44e+08. This might indicate that there are<br/>strong multicollinearity or other numerical problems."
      ],
      "text/plain": [
       "<class 'statsmodels.iolib.summary.Summary'>\n",
       "\"\"\"\n",
       "                            OLS Regression Results                            \n",
       "==============================================================================\n",
       "Dep. Variable:                      y   R-squared:                       0.171\n",
       "Model:                            OLS   Adj. R-squared:                  0.171\n",
       "Method:                 Least Squares   F-statistic:                     1573.\n",
       "Date:                Sun, 05 May 2019   Prob (F-statistic):               0.00\n",
       "Time:                        17:23:17   Log-Likelihood:            -1.3496e+05\n",
       "No. Observations:               38220   AIC:                         2.699e+05\n",
       "Df Residuals:                   38214   BIC:                         2.700e+05\n",
       "Df Model:                           5                                         \n",
       "Covariance Type:            nonrobust                                         \n",
       "==============================================================================\n",
       "                 coef    std err          t      P>|t|      [0.025      0.975]\n",
       "------------------------------------------------------------------------------\n",
       "const        142.7752      8.294     17.215      0.000     126.520     159.031\n",
       "x1             0.0129      0.001     12.524      0.000       0.011       0.015\n",
       "x2            -0.0686      0.004    -16.533      0.000      -0.077      -0.060\n",
       "x3            -5.4490      0.085    -64.115      0.000      -5.616      -5.282\n",
       "x4             1.5037      0.025     59.823      0.000       1.454       1.553\n",
       "x5          -2.24e-07   2.29e-08     -9.790      0.000   -2.69e-07   -1.79e-07\n",
       "==============================================================================\n",
       "Omnibus:                     5432.429   Durbin-Watson:                   1.164\n",
       "Prob(Omnibus):                  0.000   Jarque-Bera (JB):             8293.464\n",
       "Skew:                           1.024   Prob(JB):                         0.00\n",
       "Kurtosis:                       4.007   Cond. No.                     4.44e+08\n",
       "==============================================================================\n",
       "\n",
       "Warnings:\n",
       "[1] Standard Errors assume that the covariance matrix of the errors is correctly specified.\n",
       "[2] The condition number is large, 4.44e+08. This might indicate that there are\n",
       "strong multicollinearity or other numerical problems.\n",
       "\"\"\""
      ]
     },
     "execution_count": 74,
     "metadata": {},
     "output_type": "execute_result"
    }
   ],
   "source": [
    "regressor_ols.summary()"
   ]
  },
  {
   "cell_type": "code",
   "execution_count": 75,
   "metadata": {},
   "outputs": [],
   "source": [
    "#p_value of all variables is less than 0.05, so model is fitted correctly, all variables are significant"
   ]
  },
  {
   "cell_type": "markdown",
   "metadata": {},
   "source": [
    "# DECISION TREE REGRESSION"
   ]
  },
  {
   "cell_type": "code",
   "execution_count": 76,
   "metadata": {},
   "outputs": [],
   "source": [
    "from sklearn.tree import DecisionTreeRegressor"
   ]
  },
  {
   "cell_type": "code",
   "execution_count": 77,
   "metadata": {},
   "outputs": [
    {
     "name": "stderr",
     "output_type": "stream",
     "text": [
      "C:\\Users\\Ahmed\\Anaconda3\\lib\\site-packages\\sklearn\\utils\\validation.py:595: DataConversionWarning: Data with input dtype int64 was converted to float64 by StandardScaler.\n",
      "  warnings.warn(msg, DataConversionWarning)\n",
      "C:\\Users\\Ahmed\\Anaconda3\\lib\\site-packages\\sklearn\\utils\\validation.py:595: DataConversionWarning: Data with input dtype int64 was converted to float64 by StandardScaler.\n",
      "  warnings.warn(msg, DataConversionWarning)\n",
      "C:\\Users\\Ahmed\\Anaconda3\\lib\\site-packages\\sklearn\\utils\\validation.py:595: DataConversionWarning: Data with input dtype int64 was converted to float64 by StandardScaler.\n",
      "  warnings.warn(msg, DataConversionWarning)\n"
     ]
    }
   ],
   "source": [
    "x1=df3.iloc[:,0:5].values\n",
    "y1=df3.iloc[:,-1].values\n",
    "x_train1, x_test1, y_train1, y_test1 = train_test_split(x1,y1,test_size=0.3, random_state=42)\n",
    "\n",
    "sc_X=StandardScaler()\n",
    "x_train1=sc_X.fit_transform(x_train1)\n",
    "x_test1=sc_X.transform(x_test1)"
   ]
  },
  {
   "cell_type": "code",
   "execution_count": 78,
   "metadata": {},
   "outputs": [],
   "source": [
    "regressor=DecisionTreeRegressor(random_state=0)\n",
    "regressor.fit(x_train1,y_train1)\n",
    "y_pred=regressor.predict(x_test1)\n"
   ]
  },
  {
   "cell_type": "code",
   "execution_count": 79,
   "metadata": {},
   "outputs": [
    {
     "name": "stdout",
     "output_type": "stream",
     "text": [
      "[ 1.  3.  0. ... 11.  0.  2.]\n"
     ]
    }
   ],
   "source": [
    "print(y_pred)"
   ]
  },
  {
   "cell_type": "code",
   "execution_count": 80,
   "metadata": {},
   "outputs": [
    {
     "name": "stdout",
     "output_type": "stream",
     "text": [
      "[ 1  4  0 ... 14  0  2]\n"
     ]
    }
   ],
   "source": [
    "print(y_test1)"
   ]
  },
  {
   "cell_type": "code",
   "execution_count": 81,
   "metadata": {},
   "outputs": [
    {
     "name": "stdout",
     "output_type": "stream",
     "text": [
      "Mean squared error: 69.32\n",
      "Variance score: 0.16\n",
      "Mean absolute error: 2.11\n"
     ]
    }
   ],
   "source": [
    "print(\"Mean squared error: %.2f\"\n",
    "      % mean_squared_error(y_test1, y_pred2))\n",
    "# Explained variance score: 1 is perfect prediction\n",
    "print('Variance score: %.2f' % r2_score(y_test1, y_pred2))\n",
    "print(\"Mean absolute error: %.2f\"% mean_absolute_error(y_test1,y_pred))"
   ]
  },
  {
   "cell_type": "code",
   "execution_count": null,
   "metadata": {},
   "outputs": [],
   "source": []
  },
  {
   "cell_type": "code",
   "execution_count": null,
   "metadata": {},
   "outputs": [],
   "source": []
  },
  {
   "cell_type": "code",
   "execution_count": null,
   "metadata": {},
   "outputs": [],
   "source": []
  },
  {
   "cell_type": "code",
   "execution_count": null,
   "metadata": {},
   "outputs": [],
   "source": []
  }
 ],
 "metadata": {
  "kernelspec": {
   "display_name": "Python 3",
   "language": "python",
   "name": "python3"
  },
  "language_info": {
   "codemirror_mode": {
    "name": "ipython",
    "version": 3
   },
   "file_extension": ".py",
   "mimetype": "text/x-python",
   "name": "python",
   "nbconvert_exporter": "python",
   "pygments_lexer": "ipython3",
   "version": "3.7.1"
  }
 },
 "nbformat": 4,
 "nbformat_minor": 2
}
